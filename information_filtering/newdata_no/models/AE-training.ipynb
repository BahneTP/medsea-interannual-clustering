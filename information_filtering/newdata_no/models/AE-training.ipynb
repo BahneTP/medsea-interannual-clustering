{
 "cells": [
  {
   "cell_type": "markdown",
   "id": "4951ac0e-4f7b-4c6d-87e8-fa212d1750a9",
   "metadata": {},
   "source": [
    "# Autoencoder\n",
    "This notebook makes use of the **Autoencoder**, which is used to reduce the dimensionality of our dataset in a non-linear way. Furthermore, we then apply **k-means Clustering** as in our last notebook in our new created **Latent Space** in lower dimension. We do so, to get rid of less important variables and achieve a better Clustering."
   ]
  },
  {
   "cell_type": "code",
   "execution_count": 1,
   "id": "4b2f90b1-6826-4a2b-896b-f0f59aa9999c",
   "metadata": {},
   "outputs": [],
   "source": [
    "!pip install -q -r ../../requirements.txt &> /dev/null"
   ]
  },
  {
   "cell_type": "code",
   "execution_count": 2,
   "id": "7e3c815e-a7d9-46d6-a45d-c64b8ed20a69",
   "metadata": {},
   "outputs": [
    {
     "data": {
      "text/plain": [
       "<module 'helper_functions' from '/home/jovyan/spatiotemporal-mining-medsea/information_filtering/newdata_no/models/../../helper_functions.py'>"
      ]
     },
     "execution_count": 2,
     "metadata": {},
     "output_type": "execute_result"
    }
   ],
   "source": [
    "import importlib\n",
    "from ipywidgets import FloatSlider\n",
    "import xarray as xr\n",
    "import matplotlib.pyplot as plt\n",
    "import cartopy.crs as ccrs\n",
    "import cartopy.feature as cfeature\n",
    "from ipywidgets import interact, IntSlider\n",
    "from sklearn.decomposition import PCA\n",
    "import numpy as np\n",
    "import pandas as pd\n",
    "import matplotlib.dates as mdates\n",
    "import random\n",
    "\n",
    "import torch\n",
    "import torch.nn as nn\n",
    "from torchinfo import summary\n",
    "from sklearn.model_selection import train_test_split\n",
    "from sklearn.metrics import mean_squared_error\n",
    "from torch.utils.data import DataLoader, TensorDataset, random_split\n",
    "\n",
    "import sys\n",
    "sys.path.append('../..')\n",
    "import helper_functions     # Own file.\n",
    "import importlib\n",
    "importlib.reload(helper_functions)"
   ]
  },
  {
   "cell_type": "code",
   "execution_count": 3,
   "id": "27fdf523-fe9c-46a4-ae2b-42e8da3a7050",
   "metadata": {},
   "outputs": [],
   "source": [
    "SEED = 27\n",
    "\n",
    "np.random.seed(SEED)\n",
    "torch.manual_seed(SEED)\n",
    "random.seed(SEED)\n",
    "torch.cuda.manual_seed_all(SEED)\n",
    "torch.backends.cudnn.deterministic = True\n",
    "torch.backends.cudnn.benchmark = False"
   ]
  },
  {
   "cell_type": "markdown",
   "id": "cec2175a-a4a6-4443-89a4-c30147743c2e",
   "metadata": {},
   "source": [
    "## Data Loading & Preprocessing"
   ]
  },
  {
   "cell_type": "code",
   "execution_count": 4,
   "id": "22dbe062-c6de-41a2-a097-b38737bf5e38",
   "metadata": {},
   "outputs": [],
   "source": [
    "trend_removal = False"
   ]
  },
  {
   "cell_type": "code",
   "execution_count": 5,
   "id": "25c45eb1-fe33-437d-bb7b-91c8b1a76a99",
   "metadata": {},
   "outputs": [],
   "source": [
    "ds_train = xr.open_dataset(\"../../data/medsea1987to2025_train.nc\")\n",
    "\n",
    "z_temp = helper_functions.preprocessing(ds_train, [\"thetao\", \"so\"], [50, 300, 1000], \"location\", trend_removal, 1)\n",
    "X_train = z_temp.values.astype(np.float32)\n",
    "input_dimension = X_train.shape[1]\n",
    "\n",
    "train_loader = DataLoader(TensorDataset(torch.from_numpy(X_train)), batch_size=32, shuffle=True)"
   ]
  },
  {
   "cell_type": "code",
   "execution_count": 6,
   "id": "36cff7de-fbe6-4edb-9c94-5fead6c7a13a",
   "metadata": {},
   "outputs": [],
   "source": [
    "ds_train = xr.open_dataset(\"../../data/medsea1987to2025_val.nc\")\n",
    "\n",
    "z_temp = helper_functions.preprocessing(ds_train, [\"thetao\", \"so\"], [50, 300, 1000], \"location\", trend_removal, 1)\n",
    "X_val = z_temp.values.astype(np.float32)\n",
    "val_dataset = TensorDataset(torch.from_numpy(X_val))\n",
    "\n",
    "val_size = int(0.4 * len(val_dataset))\n",
    "_ , val_subset = random_split(\n",
    "    val_dataset,\n",
    "    [len(val_dataset) - val_size, val_size],\n",
    "    generator=torch.Generator().manual_seed(SEED)\n",
    ")\n",
    "\n",
    "val_loader = DataLoader(val_subset, batch_size=32, shuffle=False)"
   ]
  },
  {
   "cell_type": "markdown",
   "id": "4ed51ed5-9af0-42ad-a1a9-9d9b0b5edfe7",
   "metadata": {},
   "source": [
    "## The Architecture"
   ]
  },
  {
   "cell_type": "code",
   "execution_count": 7,
   "id": "f36e4d2d-af04-4464-9785-25de26a20151",
   "metadata": {},
   "outputs": [],
   "source": [
    "class Autoencoder(nn.Module):\n",
    "    def __init__(self, input_dim, latent_dim, dropout):\n",
    "        super().__init__()\n",
    "\n",
    "        # Encoder\n",
    "        self.encoder = nn.Sequential(\n",
    "            nn.Linear(input_dim, 512),\n",
    "            nn.BatchNorm1d(512),\n",
    "            nn.Dropout(dropout),\n",
    "            nn.LeakyReLU(),\n",
    "\n",
    "            nn.Linear(512, 32),\n",
    "            nn.BatchNorm1d(32),\n",
    "            nn.Dropout(dropout),\n",
    "            nn.LeakyReLU(),\n",
    "\n",
    "            nn.Linear(32, latent_dim)\n",
    "        )\n",
    "\n",
    "        # Decoder\n",
    "        self.decoder = nn.Sequential(\n",
    "            nn.Linear(latent_dim, 32),\n",
    "            nn.BatchNorm1d(32),\n",
    "            nn.LeakyReLU(),\n",
    "\n",
    "            nn.Linear(32, 512),\n",
    "            nn.BatchNorm1d(512),\n",
    "            nn.LeakyReLU(),\n",
    "\n",
    "            nn.Linear(512, input_dim)\n",
    "        )\n",
    "\n",
    "    def forward(self, x):\n",
    "        z = self.encoder(x)\n",
    "        return self.decoder(z)\n"
   ]
  },
  {
   "cell_type": "markdown",
   "id": "3135c56e-a342-4273-a344-db6ccb56a33e",
   "metadata": {},
   "source": [
    "## Training Loop"
   ]
  },
  {
   "cell_type": "code",
   "execution_count": 8,
   "id": "c8b3e058-34ba-439d-aeda-aa0a21e6dd5e",
   "metadata": {},
   "outputs": [],
   "source": [
    "def train(num_epochs: int):\n",
    "    torch.cuda.empty_cache()\n",
    "\n",
    "    train_losses = []\n",
    "    val_losses = []\n",
    "    for epoch in range(num_epochs):\n",
    "        model.train()\n",
    "        running_train_loss = 0.0\n",
    "        for batch in train_loader:\n",
    "            x = batch[0].to(device).float()\n",
    "                    \n",
    "            optimizer.zero_grad()\n",
    "            x_recon = model(x)\n",
    "            loss = loss_fn(x_recon, x)\n",
    "            loss.backward()\n",
    "            optimizer.step()\n",
    "            running_train_loss += loss.item() * x.size(0)\n",
    "    \n",
    "        train_loss = running_train_loss / len(train_loader.dataset)\n",
    "        train_losses.append(train_loss)\n",
    "    \n",
    "        # Validation\n",
    "        model.eval()\n",
    "        running_val_loss = 0.0\n",
    "        with torch.no_grad():\n",
    "            for batch in val_loader:\n",
    "                x = batch[0].to(device).float()\n",
    "                x_recon = model(x)\n",
    "                loss = loss_fn(x_recon, x)\n",
    "                running_val_loss += loss.item() * x.size(0)\n",
    "    \n",
    "        val_loss = running_val_loss / len(val_loader.dataset)\n",
    "        val_losses.append(val_loss)\n",
    "        if (epoch+1) % 10 == 0:\n",
    "            print(f\"Epoch {epoch+1}/{num_epochs} | Train Loss: {train_loss:.4f} | Val Loss: {val_loss:.4f}\")\n",
    "    return train_losses, val_losses"
   ]
  },
  {
   "cell_type": "markdown",
   "id": "f9f29428-7c81-4a80-a415-c051c92d86cd",
   "metadata": {},
   "source": [
    "## Setup"
   ]
  },
  {
   "cell_type": "code",
   "execution_count": 10,
   "id": "87c5c9d9-3fee-4276-892e-9456e006205c",
   "metadata": {},
   "outputs": [
    {
     "name": "stdout",
     "output_type": "stream",
     "text": [
      "Training using device: cuda\n"
     ]
    },
    {
     "data": {
      "text/plain": [
       "==========================================================================================\n",
       "Layer (type:depth-idx)                   Output Shape              Param #\n",
       "==========================================================================================\n",
       "Autoencoder                              [1, 172224]               --\n",
       "├─Sequential: 1-1                        [1, 3]                    --\n",
       "│    └─Linear: 2-1                       [1, 512]                  88,179,200\n",
       "│    └─BatchNorm1d: 2-2                  [1, 512]                  1,024\n",
       "│    └─Dropout: 2-3                      [1, 512]                  --\n",
       "│    └─LeakyReLU: 2-4                    [1, 512]                  --\n",
       "│    └─Linear: 2-5                       [1, 32]                   16,416\n",
       "│    └─BatchNorm1d: 2-6                  [1, 32]                   64\n",
       "│    └─Dropout: 2-7                      [1, 32]                   --\n",
       "│    └─LeakyReLU: 2-8                    [1, 32]                   --\n",
       "│    └─Linear: 2-9                       [1, 3]                    99\n",
       "├─Sequential: 1-2                        [1, 172224]               --\n",
       "│    └─Linear: 2-10                      [1, 32]                   128\n",
       "│    └─BatchNorm1d: 2-11                 [1, 32]                   64\n",
       "│    └─LeakyReLU: 2-12                   [1, 32]                   --\n",
       "│    └─Linear: 2-13                      [1, 512]                  16,896\n",
       "│    └─BatchNorm1d: 2-14                 [1, 512]                  1,024\n",
       "│    └─LeakyReLU: 2-15                   [1, 512]                  --\n",
       "│    └─Linear: 2-16                      [1, 172224]               88,350,912\n",
       "==========================================================================================\n",
       "Total params: 176,565,827\n",
       "Trainable params: 176,565,827\n",
       "Non-trainable params: 0\n",
       "Total mult-adds (Units.MEGABYTES): 176.57\n",
       "==========================================================================================\n",
       "Input size (MB): 0.69\n",
       "Forward/backward pass size (MB): 1.40\n",
       "Params size (MB): 706.26\n",
       "Estimated Total Size (MB): 708.35\n",
       "=========================================================================================="
      ]
     },
     "execution_count": 10,
     "metadata": {},
     "output_type": "execute_result"
    }
   ],
   "source": [
    "device = torch.device(\"cuda\" if torch.cuda.is_available() else \"cpu\")\n",
    "print(f'Training using device: {device}')\n",
    "\n",
    "model = Autoencoder(input_dim=input_dimension, latent_dim=3, dropout=0.2).to(device)\n",
    "model = model.float()\n",
    "\n",
    "summary(model, input_size=(1, input_dimension))"
   ]
  },
  {
   "cell_type": "code",
   "execution_count": 11,
   "id": "8bbc9d90-e879-428d-acf5-a7198f501d94",
   "metadata": {},
   "outputs": [
    {
     "name": "stdout",
     "output_type": "stream",
     "text": [
      "Epoch 10/800 | Train Loss: 0.5193 | Val Loss: 0.4679\n",
      "Epoch 20/800 | Train Loss: 0.4821 | Val Loss: 0.4105\n",
      "Epoch 30/800 | Train Loss: 0.4594 | Val Loss: 0.3911\n",
      "Epoch 40/800 | Train Loss: 0.4316 | Val Loss: 0.3758\n",
      "Epoch 50/800 | Train Loss: 0.4259 | Val Loss: 0.3659\n",
      "Epoch 60/800 | Train Loss: 0.4252 | Val Loss: 0.3549\n",
      "Epoch 70/800 | Train Loss: 0.4090 | Val Loss: 0.3483\n",
      "Epoch 80/800 | Train Loss: 0.4139 | Val Loss: 0.3408\n",
      "Epoch 90/800 | Train Loss: 0.4196 | Val Loss: 0.3379\n",
      "Epoch 100/800 | Train Loss: 0.3948 | Val Loss: 0.3320\n",
      "Epoch 110/800 | Train Loss: 0.3918 | Val Loss: 0.3267\n",
      "Epoch 120/800 | Train Loss: 0.4019 | Val Loss: 0.3217\n",
      "Epoch 130/800 | Train Loss: 0.3818 | Val Loss: 0.3174\n",
      "Epoch 140/800 | Train Loss: 0.3934 | Val Loss: 0.3130\n",
      "Epoch 150/800 | Train Loss: 0.3834 | Val Loss: 0.3105\n",
      "Epoch 160/800 | Train Loss: 0.3813 | Val Loss: 0.3082\n",
      "Epoch 170/800 | Train Loss: 0.3677 | Val Loss: 0.3039\n",
      "Epoch 180/800 | Train Loss: 0.3703 | Val Loss: 0.3013\n",
      "Epoch 190/800 | Train Loss: 0.3678 | Val Loss: 0.2973\n",
      "Epoch 200/800 | Train Loss: 0.3694 | Val Loss: 0.2986\n",
      "Epoch 210/800 | Train Loss: 0.3575 | Val Loss: 0.2954\n",
      "Epoch 220/800 | Train Loss: 0.3691 | Val Loss: 0.2923\n",
      "Epoch 230/800 | Train Loss: 0.3540 | Val Loss: 0.2924\n",
      "Epoch 240/800 | Train Loss: 0.3590 | Val Loss: 0.2879\n",
      "Epoch 250/800 | Train Loss: 0.3769 | Val Loss: 0.2873\n",
      "Epoch 260/800 | Train Loss: 0.3477 | Val Loss: 0.2845\n",
      "Epoch 270/800 | Train Loss: 0.3681 | Val Loss: 0.2863\n",
      "Epoch 280/800 | Train Loss: 0.3425 | Val Loss: 0.2800\n",
      "Epoch 290/800 | Train Loss: 0.3524 | Val Loss: 0.2792\n",
      "Epoch 300/800 | Train Loss: 0.3674 | Val Loss: 0.2789\n",
      "Epoch 310/800 | Train Loss: 0.3402 | Val Loss: 0.2778\n",
      "Epoch 320/800 | Train Loss: 0.3669 | Val Loss: 0.2742\n",
      "Epoch 330/800 | Train Loss: 0.3633 | Val Loss: 0.2768\n",
      "Epoch 340/800 | Train Loss: 0.3505 | Val Loss: 0.2729\n",
      "Epoch 350/800 | Train Loss: 0.3377 | Val Loss: 0.2727\n",
      "Epoch 360/800 | Train Loss: 0.3491 | Val Loss: 0.2720\n",
      "Epoch 370/800 | Train Loss: 0.3520 | Val Loss: 0.2715\n",
      "Epoch 380/800 | Train Loss: 0.3494 | Val Loss: 0.2702\n",
      "Epoch 390/800 | Train Loss: 0.3410 | Val Loss: 0.2692\n",
      "Epoch 400/800 | Train Loss: 0.3483 | Val Loss: 0.2686\n",
      "Epoch 410/800 | Train Loss: 0.3419 | Val Loss: 0.2695\n",
      "Epoch 420/800 | Train Loss: 0.3378 | Val Loss: 0.2671\n",
      "Epoch 430/800 | Train Loss: 0.3366 | Val Loss: 0.2616\n",
      "Epoch 440/800 | Train Loss: 0.3263 | Val Loss: 0.2648\n",
      "Epoch 450/800 | Train Loss: 0.3361 | Val Loss: 0.2638\n",
      "Epoch 460/800 | Train Loss: 0.3408 | Val Loss: 0.2620\n",
      "Epoch 470/800 | Train Loss: 0.3346 | Val Loss: 0.2601\n",
      "Epoch 480/800 | Train Loss: 0.3359 | Val Loss: 0.2596\n",
      "Epoch 490/800 | Train Loss: 0.3334 | Val Loss: 0.2597\n",
      "Epoch 500/800 | Train Loss: 0.3305 | Val Loss: 0.2599\n",
      "Epoch 510/800 | Train Loss: 0.3235 | Val Loss: 0.2598\n",
      "Epoch 520/800 | Train Loss: 0.3380 | Val Loss: 0.2582\n",
      "Epoch 530/800 | Train Loss: 0.3246 | Val Loss: 0.2574\n",
      "Epoch 540/800 | Train Loss: 0.3345 | Val Loss: 0.2553\n",
      "Epoch 550/800 | Train Loss: 0.3245 | Val Loss: 0.2548\n",
      "Epoch 560/800 | Train Loss: 0.3301 | Val Loss: 0.2553\n",
      "Epoch 570/800 | Train Loss: 0.3567 | Val Loss: 0.2534\n",
      "Epoch 580/800 | Train Loss: 0.3301 | Val Loss: 0.2536\n",
      "Epoch 590/800 | Train Loss: 0.3356 | Val Loss: 0.2552\n",
      "Epoch 600/800 | Train Loss: 0.3219 | Val Loss: 0.2537\n",
      "Epoch 610/800 | Train Loss: 0.3198 | Val Loss: 0.2523\n",
      "Epoch 620/800 | Train Loss: 0.3203 | Val Loss: 0.2521\n",
      "Epoch 630/800 | Train Loss: 0.3164 | Val Loss: 0.2485\n",
      "Epoch 640/800 | Train Loss: 0.3255 | Val Loss: 0.2509\n",
      "Epoch 650/800 | Train Loss: 0.3290 | Val Loss: 0.2506\n",
      "Epoch 660/800 | Train Loss: 0.3264 | Val Loss: 0.2479\n",
      "Epoch 670/800 | Train Loss: 0.3215 | Val Loss: 0.2490\n",
      "Epoch 680/800 | Train Loss: 0.3229 | Val Loss: 0.2472\n",
      "Epoch 690/800 | Train Loss: 0.3237 | Val Loss: 0.2513\n",
      "Epoch 700/800 | Train Loss: 0.3134 | Val Loss: 0.2471\n",
      "Epoch 710/800 | Train Loss: 0.3194 | Val Loss: 0.2470\n",
      "Epoch 720/800 | Train Loss: 0.3181 | Val Loss: 0.2473\n",
      "Epoch 730/800 | Train Loss: 0.3090 | Val Loss: 0.2451\n",
      "Epoch 740/800 | Train Loss: 0.3182 | Val Loss: 0.2468\n",
      "Epoch 750/800 | Train Loss: 0.3159 | Val Loss: 0.2429\n",
      "Epoch 760/800 | Train Loss: 0.3251 | Val Loss: 0.2436\n",
      "Epoch 770/800 | Train Loss: 0.3262 | Val Loss: 0.2434\n",
      "Epoch 780/800 | Train Loss: 0.3105 | Val Loss: 0.2433\n",
      "Epoch 790/800 | Train Loss: 0.3173 | Val Loss: 0.2427\n",
      "Epoch 800/800 | Train Loss: 0.3253 | Val Loss: 0.2434\n"
     ]
    }
   ],
   "source": [
    "optimizer = torch.optim.Adam(model.parameters(), lr=0.0001)\n",
    "loss_fn = nn.MSELoss()\n",
    "num_epochs = 800\n",
    "train_losses, val_losses = train(num_epochs)"
   ]
  },
  {
   "cell_type": "markdown",
   "id": "68549efe-8ccf-4412-a9e6-0868f92d4e68",
   "metadata": {},
   "source": [
    "## Evaluation"
   ]
  },
  {
   "cell_type": "code",
   "execution_count": 12,
   "id": "289cc85a-31d9-46eb-a03f-837aaf392807",
   "metadata": {},
   "outputs": [
    {
     "data": {
      "image/png": "[encoded data removed]",
      "text/plain": [
       "<Figure size 600x300 with 1 Axes>"
      ]
     },
     "metadata": {},
     "output_type": "display_data"
    }
   ],
   "source": [
    "helper_functions.plot_metrics([(train_losses, \"Train Loss\"), (val_losses, \"Validation Loss\")], \"Loss (MSE)\")"
   ]
  },
  {
   "cell_type": "code",
   "execution_count": 13,
   "id": "186d7737-8062-4d3e-9155-59f876b10fd1",
   "metadata": {},
   "outputs": [],
   "source": [
    "torch.save(model.state_dict(), \"AE.pth\")"
   ]
  }
 ],
 "metadata": {
  "kaggle": {
   "accelerator": "nvidiaTeslaT4",
   "dataSources": [
    {
     "datasetId": 7749099,
     "sourceId": 12294777,
     "sourceType": "datasetVersion"
    },
    {
     "datasetId": 7749153,
     "sourceId": 12301699,
     "sourceType": "datasetVersion"
    }
   ],
   "dockerImageVersionId": 31041,
   "isGpuEnabled": true,
   "isInternetEnabled": true,
   "language": "python",
   "sourceType": "notebook"
  },
  "kernelspec": {
   "display_name": "Python 3 (ipykernel)",
   "language": "python",
   "name": "python3"
  },
  "language_info": {
   "codemirror_mode": {
    "name": "ipython",
    "version": 3
   },
   "file_extension": ".py",
   "mimetype": "text/x-python",
   "name": "python",
   "nbconvert_exporter": "python",
   "pygments_lexer": "ipython3",
   "version": "3.11.9"
  }
 },
 "nbformat": 4,
 "nbformat_minor": 5
}
