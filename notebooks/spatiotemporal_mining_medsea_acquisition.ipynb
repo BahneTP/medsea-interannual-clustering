{
  "nbformat": 4,
  "nbformat_minor": 0,
  "metadata": {
    "colab": {
      "provenance": [],
      "authorship_tag": "ABX9TyPbZPWXM+j0/u7Q9b/CaBa9",
      "include_colab_link": true
    },
    "kernelspec": {
      "name": "python3",
      "display_name": "Python 3"
    },
    "language_info": {
      "name": "python"
    }
  },
  "cells": [
    {
      "cell_type": "markdown",
      "metadata": {
        "id": "view-in-github",
        "colab_type": "text"
      },
      "source": [
        "<a href=\"https://colab.research.google.com/github/BahneTP/spatiotemporal-mining-medsea/blob/main/spatiotemporal_mining_medsea_acquisition.ipynb\" target=\"_parent\"><img src=\"https://colab.research.google.com/assets/colab-badge.svg\" alt=\"Open In Colab\"/></a>"
      ]
    },
    {
      "cell_type": "markdown",
      "source": [
        "# Extracting characteristic patterns of marine variables using machine learning in the mediterranean sea - Data Acquisition"
      ],
      "metadata": {
        "id": "vwNxcQpXmPQ-"
      }
    },
    {
      "cell_type": "code",
      "source": [
        "!pip install copernicusmarine\n",
        "!pip install zarr fsspec\n",
        "import copernicusmarine"
      ],
      "metadata": {
        "id": "VncoxRijmYwD"
      },
      "execution_count": null,
      "outputs": []
    },
    {
      "cell_type": "code",
      "source": [
        "import xarray as xr\n",
        "from copernicusmarine import subset\n",
        "\n",
        "subset(\n",
        "    dataset_id=\"cmems_mod_glo_phy_my_0.083deg_P1M-m\",\n",
        "    variables=[\"thetao\", \"so\"],\n",
        "    minimum_longitude=-7.575479116288001,\n",
        "    maximum_longitude=35.9529939427612,\n",
        "    minimum_latitude=29.57838100407066,\n",
        "    maximum_latitude=46.98977022769034,\n",
        "    start_datetime=\"1993-06-01T00:00:00\",\n",
        "    end_datetime=\"2021-06-01T00:00:00\",\n",
        "    minimum_depth=0.49402499198913574,\n",
        "    maximum_depth=1062.43994140625,\n",
        "    output_directory=\"asd.zarr\"   # ✅ Jetzt gültig\n",
        ")\n",
        "\n",
        "ds = xr.open_zarr(\"asd.zarr\")\n",
        "print(ds)"
      ],
      "metadata": {
        "id": "EHQmxvzAma-s"
      },
      "execution_count": null,
      "outputs": []
    }
  ]
}