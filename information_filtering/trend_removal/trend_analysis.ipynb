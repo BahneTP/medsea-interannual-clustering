{
 "cells": [
  {
   "cell_type": "code",
   "execution_count": 4,
   "id": "e512e9a4-3ae7-4e26-bfd4-c5e0a68520e3",
   "metadata": {},
   "outputs": [],
   "source": [
    "!pip install -q -r ../requirements.txt &> /dev/null"
   ]
  },
  {
   "cell_type": "code",
   "execution_count": 5,
   "id": "a807ef5b-6ccb-4384-9b1d-9392899cb67d",
   "metadata": {
    "editable": true,
    "slideshow": {
     "slide_type": ""
    },
    "tags": []
   },
   "outputs": [
    {
     "data": {
      "text/plain": [
       "<module 'helper_functions' from '/home/jovyan/spatiotemporal-mining-medsea/information_filtering/trend_removal/../helper_functions.py'>"
      ]
     },
     "execution_count": 5,
     "metadata": {},
     "output_type": "execute_result"
    }
   ],
   "source": [
    "import xarray as xr\n",
    "import numpy as np\n",
    "import pandas as pd\n",
    "import matplotlib.pyplot as plt\n",
    "import cartopy.crs as ccrs\n",
    "\n",
    "import importlib\n",
    "import sys\n",
    "sys.path.append(\"..\")\n",
    "import helper_functions\n",
    "importlib.reload(helper_functions)"
   ]
  },
  {
   "cell_type": "code",
   "execution_count": 7,
   "id": "6381928c-2ad2-466f-a7ab-60eef6d0a1a2",
   "metadata": {},
   "outputs": [],
   "source": [
    "def compute_linear_trend(ds, features: list, depths: list, dim: str, interpolate: int):\n",
    "    \"\"\"\n",
    "    Berechnet den linearen Trend (Steigung b) für jedes Feature, jede Tiefe und jeden Punkt.\n",
    "    Die Zeitachse wird in Monaten gezählt → b in °C pro Monat (oder Salinity pro Monat).\n",
    "\n",
    "    Returns:\n",
    "        DataArray mit dims: (dim, location)\n",
    "    \"\"\"\n",
    "\n",
    "    lon2d, lat2d = xr.broadcast(ds.longitude, ds.latitude)\n",
    "    atlantic_mask = ~((lon2d < 0) & (lat2d > 41))\n",
    "    blacksea_mask = ~((lon2d > 27) & (lat2d > 41))\n",
    "    mask = atlantic_mask & blacksea_mask\n",
    "\n",
    "    trend_vectors = []\n",
    "\n",
    "    for feature in features:\n",
    "        for depth in depths:\n",
    "            data = ds[feature].sel(depth=depth, method=\"nearest\")\n",
    "            data = data.where(mask)\n",
    "\n",
    "            if interpolate != -1:\n",
    "                data = interpolate_time_linear(data, factor=interpolate)\n",
    "\n",
    "            # Zeitachse als numerisch berechnen\n",
    "            time_index = pd.to_datetime(data['time'].values)\n",
    "            months = (time_index.year - time_index.year[0]) * 12 + (time_index.month - time_index.month[0])\n",
    "            months = months - months[0]  # optional: bei 0 starten\n",
    "            \n",
    "            # Die numerische Zeit direkt als neue \"time\"-Koordinate einsetzen\n",
    "            data = data.assign_coords(time=(\"time\", months))\n",
    "            \n",
    "            # Polyfit direkt über \"time\"\n",
    "            fit = data.polyfit(dim=\"time\", deg=1)\n",
    "            \n",
    "            # Steigung b\n",
    "            b = fit.polyfit_coefficients.sel(degree=1)\n",
    "\n",
    "\n",
    "            # In Location-Vektor stacken\n",
    "            b = b.stack(location=(\"latitude\", \"longitude\"))\n",
    "            trend_vectors.append(b)\n",
    "\n",
    "    # Concatenate entlang dim (z.B. \"feature\")\n",
    "    b_concat = xr.concat(trend_vectors, dim=dim)\n",
    "    b_concat = b_concat.dropna(dim=\"location\", how=\"any\")\n",
    "\n",
    "    return b_concat  # DataArray mit dims: (dim, location)\n"
   ]
  },
  {
   "cell_type": "code",
   "execution_count": 8,
   "id": "dc763385-8545-4a2d-8183-60cd0d20b600",
   "metadata": {
    "editable": true,
    "slideshow": {
     "slide_type": ""
    },
    "tags": []
   },
   "outputs": [],
   "source": [
    "def plot_trend_map_stack(z_stack):\n",
    "    \"\"\"\n",
    "    z_stack: stacked array\n",
    "    \"\"\"\n",
    "    trend_map = z_stack.unstack(\"location\").sortby([\"latitude\", \"longitude\"])\n",
    "\n",
    "    # Squeeze, um evtl. dims mit Länge 1 wegzuschmeißen\n",
    "    trend_map = trend_map.squeeze()\n",
    "\n",
    "    lat = trend_map.latitude\n",
    "    lon = trend_map.longitude\n",
    "\n",
    "    fig = plt.figure(figsize=(7, 6))\n",
    "    ax = plt.axes(projection=ccrs.Mercator())\n",
    "\n",
    "    mesh = ax.pcolormesh(\n",
    "        lon, lat, trend_map.values,\n",
    "        cmap=\"coolwarm\",\n",
    "        shading=\"auto\",\n",
    "        transform=ccrs.PlateCarree()\n",
    "    )\n",
    "\n",
    "    ax.coastlines()\n",
    "    ax.gridlines(draw_labels=True)\n",
    "\n",
    "    cbar = plt.colorbar(\n",
    "        mesh,\n",
    "        ax=ax,\n",
    "        orientation=\"vertical\",\n",
    "        fraction=0.03,  # schmaler Balken\n",
    "        pad=0.12,       # dichter dran\n",
    "        aspect=14       # länglicher Balken\n",
    "    )\n",
    "\n",
    "    cbar.set_label(\"Trend (per month)\")\n",
    "    plt.tight_layout()\n",
    "    plt.show()\n"
   ]
  },
  {
   "cell_type": "code",
   "execution_count": null,
   "id": "64035a45-d12c-4055-8b16-f7463ef41724",
   "metadata": {
    "editable": true,
    "slideshow": {
     "slide_type": ""
    },
    "tags": []
   },
   "outputs": [],
   "source": [
    "ds = xr.open_dataset(\"/home/jovyan/spatiotemporal-mining-medsea/data/medsea.nc\")\n",
    "z_time = compute_linear_trend(\n",
    "    ds, \n",
    "    features=[\"thetao\"], \n",
    "    depths=[1000], \n",
    "    dim=\"location\", \n",
    "    interpolate=-1\n",
    ")"
   ]
  },
  {
   "cell_type": "code",
   "execution_count": null,
   "id": "9356bbe2-6794-4911-ad8d-b91e8d212a4d",
   "metadata": {
    "editable": true,
    "slideshow": {
     "slide_type": ""
    },
    "tags": []
   },
   "outputs": [],
   "source": [
    "plot_trend_map_stack(z_time)"
   ]
  }
 ],
 "metadata": {
  "kernelspec": {
   "display_name": "Python 3 (ipykernel)",
   "language": "python",
   "name": "python3"
  },
  "language_info": {
   "codemirror_mode": {
    "name": "ipython",
    "version": 3
   },
   "file_extension": ".py",
   "mimetype": "text/x-python",
   "name": "python",
   "nbconvert_exporter": "python",
   "pygments_lexer": "ipython3",
   "version": "3.11.9"
  }
 },
 "nbformat": 4,
 "nbformat_minor": 5
}
