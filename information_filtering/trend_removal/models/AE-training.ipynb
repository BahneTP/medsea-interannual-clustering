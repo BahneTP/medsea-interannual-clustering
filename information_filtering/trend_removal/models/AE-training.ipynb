{
 "cells": [
  {
   "cell_type": "markdown",
   "id": "4951ac0e-4f7b-4c6d-87e8-fa212d1750a9",
   "metadata": {},
   "source": [
    "# Autoencoder\n",
    "This notebook makes use of the **Autoencoder**, which is used to reduce the dimensionality of our dataset in a non-linear way. Furthermore, we then apply **k-means Clustering** as in our last notebook in our new created **Latent Space** in lower dimension. We do so, to get rid of less important variables and achieve a better Clustering."
   ]
  },
  {
   "cell_type": "code",
   "execution_count": 1,
   "id": "4b2f90b1-6826-4a2b-896b-f0f59aa9999c",
   "metadata": {},
   "outputs": [],
   "source": [
    "# !pip install cartopy xarray matplotlib netCDF4 torch torchinfo"
   ]
  },
  {
   "cell_type": "code",
   "execution_count": 2,
   "id": "7e3c815e-a7d9-46d6-a45d-c64b8ed20a69",
   "metadata": {},
   "outputs": [
    {
     "data": {
      "text/plain": [
       "<module 'helper_functions' from '/home/jovyan/spatiotemporal-mining-medsea/notebooks/trend_removal/models/../helper_functions.py'>"
      ]
     },
     "execution_count": 2,
     "metadata": {},
     "output_type": "execute_result"
    }
   ],
   "source": [
    "import importlib\n",
    "from ipywidgets import FloatSlider\n",
    "import xarray as xr\n",
    "import matplotlib.pyplot as plt\n",
    "import cartopy.crs as ccrs\n",
    "import cartopy.feature as cfeature\n",
    "from ipywidgets import interact, IntSlider\n",
    "from sklearn.decomposition import PCA\n",
    "import numpy as np\n",
    "import pandas as pd\n",
    "import matplotlib.dates as mdates\n",
    "\n",
    "import torch\n",
    "import torch.nn as nn\n",
    "from torchinfo import summary\n",
    "from sklearn.model_selection import train_test_split\n",
    "from sklearn.metrics import mean_squared_error\n",
    "from torch.utils.data import DataLoader, TensorDataset\n",
    "\n",
    "import sys\n",
    "sys.path.append('..')\n",
    "import helper_functions     # Own file.\n",
    "import importlib\n",
    "importlib.reload(helper_functions)"
   ]
  },
  {
   "cell_type": "markdown",
   "id": "cec2175a-a4a6-4443-89a4-c30147743c2e",
   "metadata": {},
   "source": [
    "## Data Loading & Preprocessing"
   ]
  },
  {
   "cell_type": "code",
   "execution_count": 3,
   "id": "25c45eb1-fe33-437d-bb7b-91c8b1a76a99",
   "metadata": {},
   "outputs": [
    {
     "name": "stdout",
     "output_type": "stream",
     "text": [
      "20554.545012 MB\n",
      "457.026912 MB\n"
     ]
    }
   ],
   "source": [
    "ds = xr.open_dataset(\"/home/jovyan/spatiotemporal-mining-medsea/data/medsea.nc\")\n",
    "print(ds.nbytes / 1e6, \"MB\")\n",
    "\n",
    "z_temp = helper_functions.preprocessing(ds, [\"thetao\", \"so\"], [50, 300, 1000], \"location\", -1)\n",
    "X = z_temp.values\n",
    "input_dimension = X.shape[1]\n",
    "print(z_temp.nbytes / 1e6, \"MB\")"
   ]
  },
  {
   "cell_type": "markdown",
   "id": "11779e19-1403-4924-b480-f5457daaee2e",
   "metadata": {},
   "source": [
    "## Splitting"
   ]
  },
  {
   "cell_type": "code",
   "execution_count": 4,
   "id": "36cff7de-fbe6-4edb-9c94-5fead6c7a13a",
   "metadata": {},
   "outputs": [],
   "source": [
    "X = X.astype(np.float32)\n",
    "X_train, X_test = train_test_split(X, test_size=0.1, random_state=27)\n",
    "\n",
    "train_loader = DataLoader(TensorDataset(torch.from_numpy(X_train)), batch_size=32, shuffle=True)\n",
    "test_loader = DataLoader(TensorDataset(torch.from_numpy(X_test)), batch_size=32, shuffle=False)"
   ]
  },
  {
   "cell_type": "markdown",
   "id": "4ed51ed5-9af0-42ad-a1a9-9d9b0b5edfe7",
   "metadata": {},
   "source": [
    "## The Architecture"
   ]
  },
  {
   "cell_type": "code",
   "execution_count": 5,
   "id": "f36e4d2d-af04-4464-9785-25de26a20151",
   "metadata": {},
   "outputs": [],
   "source": [
    "import torch\n",
    "import torch.nn as nn\n",
    "\n",
    "class Autoencoder(nn.Module):\n",
    "    def __init__(self, input_dim, latent_dim):\n",
    "        super().__init__()\n",
    "\n",
    "        # Encoder\n",
    "        self.encoder = nn.Sequential(\n",
    "            nn.Linear(input_dim, 512),\n",
    "            nn.BatchNorm1d(512),\n",
    "            nn.Dropout(0.1),\n",
    "            nn.LeakyReLU(),\n",
    "\n",
    "            nn.Linear(512, 32),\n",
    "            nn.BatchNorm1d(32),\n",
    "            nn.Dropout(0.1),\n",
    "            nn.LeakyReLU(),\n",
    "\n",
    "            nn.Linear(32, latent_dim)\n",
    "        )\n",
    "\n",
    "        # Decoder\n",
    "        self.decoder = nn.Sequential(\n",
    "            nn.Linear(latent_dim, 32),\n",
    "            nn.BatchNorm1d(32),\n",
    "            nn.LeakyReLU(),\n",
    "\n",
    "            nn.Linear(32, 512),\n",
    "            nn.BatchNorm1d(512),\n",
    "            nn.LeakyReLU(),\n",
    "\n",
    "            nn.Linear(512, input_dim)\n",
    "        )\n",
    "\n",
    "    def forward(self, x):\n",
    "        z = self.encoder(x)\n",
    "        return self.decoder(z)\n"
   ]
  },
  {
   "cell_type": "markdown",
   "id": "3135c56e-a342-4273-a344-db6ccb56a33e",
   "metadata": {},
   "source": [
    "## Training Loop"
   ]
  },
  {
   "cell_type": "code",
   "execution_count": 6,
   "id": "c8b3e058-34ba-439d-aeda-aa0a21e6dd5e",
   "metadata": {},
   "outputs": [],
   "source": [
    "def train(num_epochs: int):\n",
    "    torch.cuda.empty_cache()\n",
    "\n",
    "    train_losses = []\n",
    "    val_losses = []\n",
    "    for epoch in range(num_epochs):\n",
    "        model.train()\n",
    "        running_train_loss = 0.0\n",
    "        for batch in train_loader:\n",
    "            x = batch[0].to(device).float()\n",
    "                    \n",
    "            optimizer.zero_grad()\n",
    "            x_recon = model(x)\n",
    "            loss = loss_fn(x_recon, x)\n",
    "            loss.backward()\n",
    "            optimizer.step()\n",
    "            running_train_loss += loss.item() * x.size(0)\n",
    "    \n",
    "        train_loss = running_train_loss / len(train_loader.dataset)\n",
    "        train_losses.append(train_loss)\n",
    "    \n",
    "        # Validation\n",
    "        model.eval()\n",
    "        running_val_loss = 0.0\n",
    "        with torch.no_grad():\n",
    "            for batch in test_loader:\n",
    "                x = batch[0].to(device).float()\n",
    "                x_recon = model(x)\n",
    "                loss = loss_fn(x_recon, x)\n",
    "                running_val_loss += loss.item() * x.size(0)\n",
    "    \n",
    "        val_loss = running_val_loss / len(test_loader.dataset)\n",
    "        val_losses.append(val_loss)\n",
    "        if (epoch+1) % 10 == 0:\n",
    "            print(f\"Epoch {epoch+1}/{num_epochs} | Train Loss: {train_loss:.4f} | Val Loss: {val_loss:.4f}\")\n",
    "    return train_losses, val_losses"
   ]
  },
  {
   "cell_type": "markdown",
   "id": "f9f29428-7c81-4a80-a415-c051c92d86cd",
   "metadata": {},
   "source": [
    "## Setup"
   ]
  },
  {
   "cell_type": "code",
   "execution_count": 7,
   "id": "87c5c9d9-3fee-4276-892e-9456e006205c",
   "metadata": {},
   "outputs": [
    {
     "name": "stdout",
     "output_type": "stream",
     "text": [
      "Training using device: cuda\n"
     ]
    },
    {
     "data": {
      "text/plain": [
       "==========================================================================================\n",
       "Layer (type:depth-idx)                   Output Shape              Param #\n",
       "==========================================================================================\n",
       "Autoencoder                              [1, 167042]               --\n",
       "├─Sequential: 1-1                        [1, 3]                    --\n",
       "│    └─Linear: 2-1                       [1, 512]                  85,526,016\n",
       "│    └─BatchNorm1d: 2-2                  [1, 512]                  1,024\n",
       "│    └─Dropout: 2-3                      [1, 512]                  --\n",
       "│    └─LeakyReLU: 2-4                    [1, 512]                  --\n",
       "│    └─Linear: 2-5                       [1, 32]                   16,416\n",
       "│    └─BatchNorm1d: 2-6                  [1, 32]                   64\n",
       "│    └─Dropout: 2-7                      [1, 32]                   --\n",
       "│    └─LeakyReLU: 2-8                    [1, 32]                   --\n",
       "│    └─Linear: 2-9                       [1, 3]                    99\n",
       "├─Sequential: 1-2                        [1, 167042]               --\n",
       "│    └─Linear: 2-10                      [1, 32]                   128\n",
       "│    └─BatchNorm1d: 2-11                 [1, 32]                   64\n",
       "│    └─LeakyReLU: 2-12                   [1, 32]                   --\n",
       "│    └─Linear: 2-13                      [1, 512]                  16,896\n",
       "│    └─BatchNorm1d: 2-14                 [1, 512]                  1,024\n",
       "│    └─LeakyReLU: 2-15                   [1, 512]                  --\n",
       "│    └─Linear: 2-16                      [1, 167042]               85,692,546\n",
       "==========================================================================================\n",
       "Total params: 171,254,277\n",
       "Trainable params: 171,254,277\n",
       "Non-trainable params: 0\n",
       "Total mult-adds (Units.MEGABYTES): 171.25\n",
       "==========================================================================================\n",
       "Input size (MB): 0.67\n",
       "Forward/backward pass size (MB): 1.35\n",
       "Params size (MB): 685.02\n",
       "Estimated Total Size (MB): 687.04\n",
       "=========================================================================================="
      ]
     },
     "execution_count": 7,
     "metadata": {},
     "output_type": "execute_result"
    }
   ],
   "source": [
    "device = torch.device(\"cuda\" if torch.cuda.is_available() else \"cpu\")\n",
    "model = Autoencoder(input_dim=input_dimension, latent_dim=3).to(device)\n",
    "model = model.float()\n",
    "print(f'Training using device: {device}')\n",
    "\n",
    "summary(model, input_size=(1, X.shape[1],))"
   ]
  },
  {
   "cell_type": "code",
   "execution_count": 8,
   "id": "8bbc9d90-e879-428d-acf5-a7198f501d94",
   "metadata": {},
   "outputs": [
    {
     "name": "stdout",
     "output_type": "stream",
     "text": [
      "Epoch 10/600 | Train Loss: 0.7597 | Val Loss: 0.7766\n",
      "Epoch 20/600 | Train Loss: 0.6799 | Val Loss: 0.7170\n",
      "Epoch 30/600 | Train Loss: 0.6500 | Val Loss: 0.6897\n",
      "Epoch 40/600 | Train Loss: 0.6399 | Val Loss: 0.6694\n",
      "Epoch 50/600 | Train Loss: 0.6030 | Val Loss: 0.6532\n",
      "Epoch 60/600 | Train Loss: 0.5849 | Val Loss: 0.6441\n",
      "Epoch 70/600 | Train Loss: 0.5851 | Val Loss: 0.6335\n",
      "Epoch 80/600 | Train Loss: 0.5752 | Val Loss: 0.6243\n",
      "Epoch 90/600 | Train Loss: 0.5617 | Val Loss: 0.6196\n",
      "Epoch 100/600 | Train Loss: 0.5630 | Val Loss: 0.6109\n",
      "Epoch 110/600 | Train Loss: 0.5361 | Val Loss: 0.6058\n",
      "Epoch 120/600 | Train Loss: 0.5536 | Val Loss: 0.6008\n",
      "Epoch 130/600 | Train Loss: 0.5228 | Val Loss: 0.5967\n",
      "Epoch 140/600 | Train Loss: 0.5160 | Val Loss: 0.5934\n",
      "Epoch 150/600 | Train Loss: 0.5105 | Val Loss: 0.5900\n",
      "Epoch 160/600 | Train Loss: 0.5154 | Val Loss: 0.5842\n",
      "Epoch 170/600 | Train Loss: 0.5022 | Val Loss: 0.5821\n",
      "Epoch 180/600 | Train Loss: 0.5081 | Val Loss: 0.5796\n",
      "Epoch 190/600 | Train Loss: 0.5023 | Val Loss: 0.5715\n",
      "Epoch 200/600 | Train Loss: 0.5058 | Val Loss: 0.5733\n",
      "Epoch 210/600 | Train Loss: 0.4957 | Val Loss: 0.5646\n",
      "Epoch 220/600 | Train Loss: 0.4928 | Val Loss: 0.5655\n",
      "Epoch 230/600 | Train Loss: 0.5080 | Val Loss: 0.5620\n",
      "Epoch 240/600 | Train Loss: 0.4861 | Val Loss: 0.5622\n",
      "Epoch 250/600 | Train Loss: 0.4734 | Val Loss: 0.5560\n",
      "Epoch 260/600 | Train Loss: 0.5049 | Val Loss: 0.5523\n",
      "Epoch 270/600 | Train Loss: 0.4783 | Val Loss: 0.5508\n",
      "Epoch 280/600 | Train Loss: 0.4531 | Val Loss: 0.5488\n",
      "Epoch 290/600 | Train Loss: 0.4884 | Val Loss: 0.5460\n",
      "Epoch 300/600 | Train Loss: 0.4706 | Val Loss: 0.5456\n",
      "Epoch 310/600 | Train Loss: 0.4602 | Val Loss: 0.5442\n",
      "Epoch 320/600 | Train Loss: 0.4644 | Val Loss: 0.5427\n",
      "Epoch 330/600 | Train Loss: 0.4581 | Val Loss: 0.5371\n",
      "Epoch 340/600 | Train Loss: 0.4645 | Val Loss: 0.5374\n",
      "Epoch 350/600 | Train Loss: 0.4534 | Val Loss: 0.5348\n",
      "Epoch 360/600 | Train Loss: 0.4597 | Val Loss: 0.5355\n",
      "Epoch 370/600 | Train Loss: 0.4691 | Val Loss: 0.5305\n",
      "Epoch 380/600 | Train Loss: 0.4434 | Val Loss: 0.5302\n",
      "Epoch 390/600 | Train Loss: 0.4800 | Val Loss: 0.5255\n",
      "Epoch 400/600 | Train Loss: 0.4427 | Val Loss: 0.5246\n",
      "Epoch 410/600 | Train Loss: 0.4406 | Val Loss: 0.5238\n",
      "Epoch 420/600 | Train Loss: 0.4389 | Val Loss: 0.5207\n",
      "Epoch 430/600 | Train Loss: 0.4486 | Val Loss: 0.5187\n",
      "Epoch 440/600 | Train Loss: 0.4428 | Val Loss: 0.5184\n",
      "Epoch 450/600 | Train Loss: 0.4412 | Val Loss: 0.5180\n",
      "Epoch 460/600 | Train Loss: 0.4382 | Val Loss: 0.5195\n",
      "Epoch 470/600 | Train Loss: 0.4315 | Val Loss: 0.5182\n",
      "Epoch 480/600 | Train Loss: 0.4437 | Val Loss: 0.5147\n",
      "Epoch 490/600 | Train Loss: 0.4283 | Val Loss: 0.5144\n",
      "Epoch 500/600 | Train Loss: 0.4238 | Val Loss: 0.5103\n",
      "Epoch 510/600 | Train Loss: 0.4358 | Val Loss: 0.5100\n",
      "Epoch 520/600 | Train Loss: 0.4154 | Val Loss: 0.5098\n",
      "Epoch 530/600 | Train Loss: 0.4426 | Val Loss: 0.5081\n",
      "Epoch 540/600 | Train Loss: 0.4218 | Val Loss: 0.5092\n",
      "Epoch 550/600 | Train Loss: 0.4220 | Val Loss: 0.5060\n",
      "Epoch 560/600 | Train Loss: 0.4225 | Val Loss: 0.5020\n",
      "Epoch 570/600 | Train Loss: 0.4108 | Val Loss: 0.5035\n",
      "Epoch 580/600 | Train Loss: 0.4121 | Val Loss: 0.4999\n",
      "Epoch 590/600 | Train Loss: 0.4303 | Val Loss: 0.4980\n",
      "Epoch 600/600 | Train Loss: 0.4429 | Val Loss: 0.5008\n"
     ]
    }
   ],
   "source": [
    "optimizer = torch.optim.Adam(model.parameters(), lr=0.0002)\n",
    "loss_fn = nn.MSELoss()\n",
    "num_epochs = 600\n",
    "train_losses, val_losses = train(num_epochs)"
   ]
  },
  {
   "cell_type": "markdown",
   "id": "68549efe-8ccf-4412-a9e6-0868f92d4e68",
   "metadata": {},
   "source": [
    "## Evaluation"
   ]
  },
  {
   "cell_type": "code",
   "execution_count": 9,
   "id": "55eeb7ee-74d4-4189-bd3a-3e642670e591",
   "metadata": {},
   "outputs": [
    {
     "data": {
      "image/png": "[encoded data removed]",
      "text/plain": [
       "<Figure size 600x300 with 1 Axes>"
      ]
     },
     "metadata": {},
     "output_type": "display_data"
    }
   ],
   "source": [
    "plt.figure(figsize=(6, 3))\n",
    "plt.plot(train_losses, label=\"Train Loss\", linewidth=2)\n",
    "plt.plot(val_losses, label=\"Validation Loss\", linewidth=2)\n",
    "plt.xlabel(\"Epoch\", fontsize=12)\n",
    "plt.ylabel(\"Loss (MSE)\", fontsize=12)\n",
    "plt.legend()\n",
    "plt.grid(True)\n",
    "plt.tight_layout()\n",
    "plt.show()"
   ]
  },
  {
   "cell_type": "code",
   "execution_count": 10,
   "id": "186d7737-8062-4d3e-9155-59f876b10fd1",
   "metadata": {},
   "outputs": [],
   "source": [
    "torch.save(model.state_dict(), \"AE.pth\")"
   ]
  }
 ],
 "metadata": {
  "kaggle": {
   "accelerator": "nvidiaTeslaT4",
   "dataSources": [
    {
     "datasetId": 7749099,
     "sourceId": 12294777,
     "sourceType": "datasetVersion"
    },
    {
     "datasetId": 7749153,
     "sourceId": 12301699,
     "sourceType": "datasetVersion"
    }
   ],
   "dockerImageVersionId": 31041,
   "isGpuEnabled": true,
   "isInternetEnabled": true,
   "language": "python",
   "sourceType": "notebook"
  },
  "kernelspec": {
   "display_name": "Python 3 (ipykernel)",
   "language": "python",
   "name": "python3"
  },
  "language_info": {
   "codemirror_mode": {
    "name": "ipython",
    "version": 3
   },
   "file_extension": ".py",
   "mimetype": "text/x-python",
   "name": "python",
   "nbconvert_exporter": "python",
   "pygments_lexer": "ipython3",
   "version": "3.11.9"
  }
 },
 "nbformat": 4,
 "nbformat_minor": 5
}
