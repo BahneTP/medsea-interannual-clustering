{
 "cells": [
  {
   "cell_type": "markdown",
   "metadata": {
    "colab_type": "text",
    "id": "view-in-github"
   },
   "source": [
    "<a href=\"https://colab.research.google.com/github/BahneTP/spatiotemporal-mining-medsea/blob/main/spatiotemporal_mining_medsea_acquisition.ipynb\" target=\"_parent\"><img src=\"https://colab.research.google.com/assets/colab-badge.svg\" alt=\"Open In Colab\"/></a>"
   ]
  },
  {
   "cell_type": "markdown",
   "metadata": {
    "id": "vwNxcQpXmPQ-"
   },
   "source": [
    "# Data Acquisition\n",
    "\n",
    "This notebook handles the download of the **[Global Ocean Physics Reanalysis](https://data.marine.copernicus.eu/product/GLOBAL_MULTIYEAR_PHY_001_030/download?dataset=cmems_mod_glo_phy_my_0.083deg_P1M-m_202311)** dataset from **Copernicus**.\n",
    "\n",
    "For further work, see:\n",
    "- [Exploratory Data Analysis](./eda.ipynb)  \n",
    "- [Data Mining](./mining.ipynb)\n"
   ]
  },
  {
   "cell_type": "code",
   "execution_count": 1,
   "metadata": {
    "id": "VncoxRijmYwD",
    "scrolled": true
   },
   "outputs": [
    {
     "name": "stdout",
     "output_type": "stream",
     "text": [
      "Collecting copernicusmarine\n",
      "  Using cached copernicusmarine-2.1.2-py3-none-any.whl.metadata (8.1 kB)\n",
      "Collecting arcosparse<0.5.0,>=0.4.0 (from copernicusmarine)\n",
      "  Using cached arcosparse-0.4.1-py3-none-any.whl.metadata (5.0 kB)\n",
      "Collecting boto3>=1.26 (from copernicusmarine)\n",
      "  Downloading boto3-1.38.42-py3-none-any.whl.metadata (6.6 kB)\n",
      "Requirement already satisfied: click!=8.2.0,>=8.0.4 in /opt/conda/lib/python3.11/site-packages (from copernicusmarine) (8.1.7)\n",
      "Requirement already satisfied: dask>=2022 in /opt/conda/lib/python3.11/site-packages (from copernicusmarine) (2024.4.2)\n",
      "Collecting h5netcdf<2.0.0,>=1.4.0 (from copernicusmarine)\n",
      "  Using cached h5netcdf-1.6.1-py3-none-any.whl.metadata (13 kB)\n",
      "Collecting lxml>=4.9.0 (from copernicusmarine)\n",
      "  Using cached lxml-5.4.0-cp311-cp311-manylinux_2_28_x86_64.whl.metadata (3.5 kB)\n",
      "Requirement already satisfied: numpy>=1.23.0 in /opt/conda/lib/python3.11/site-packages (from copernicusmarine) (1.26.4)\n",
      "Collecting pydantic<3.0.0,>=2.9.1 (from copernicusmarine)\n",
      "  Using cached pydantic-2.11.7-py3-none-any.whl.metadata (67 kB)\n",
      "Collecting pystac>=1.8.3 (from copernicusmarine)\n",
      "  Using cached pystac-1.13.0-py3-none-any.whl.metadata (4.7 kB)\n",
      "Requirement already satisfied: requests>=2.27.1 in /opt/conda/lib/python3.11/site-packages (from copernicusmarine) (2.31.0)\n",
      "Collecting semver>=3.0.2 (from copernicusmarine)\n",
      "  Using cached semver-3.0.4-py3-none-any.whl.metadata (6.8 kB)\n",
      "Requirement already satisfied: setuptools>=68.2.2 in /opt/conda/lib/python3.11/site-packages (from copernicusmarine) (69.5.1)\n",
      "Requirement already satisfied: tqdm>=4.65.0 in /opt/conda/lib/python3.11/site-packages (from copernicusmarine) (4.66.2)\n",
      "Requirement already satisfied: xarray>=2023.4.0 in /opt/conda/lib/python3.11/site-packages (from copernicusmarine) (2025.6.1)\n",
      "Collecting zarr>=2.13.3 (from copernicusmarine)\n",
      "  Using cached zarr-3.0.8-py3-none-any.whl.metadata (10.0 kB)\n",
      "Requirement already satisfied: pandas<3,>=2 in /opt/conda/lib/python3.11/site-packages (from arcosparse<0.5.0,>=0.4.0->copernicusmarine) (2.2.2)\n",
      "Collecting pyarrow>=17.0.0 (from arcosparse<0.5.0,>=0.4.0->copernicusmarine)\n",
      "  Using cached pyarrow-20.0.0-cp311-cp311-manylinux_2_28_x86_64.whl.metadata (3.3 kB)\n",
      "Collecting botocore<1.39.0,>=1.38.42 (from boto3>=1.26->copernicusmarine)\n",
      "  Downloading botocore-1.38.42-py3-none-any.whl.metadata (5.7 kB)\n",
      "Collecting jmespath<2.0.0,>=0.7.1 (from boto3>=1.26->copernicusmarine)\n",
      "  Using cached jmespath-1.0.1-py3-none-any.whl.metadata (7.6 kB)\n",
      "Collecting s3transfer<0.14.0,>=0.13.0 (from boto3>=1.26->copernicusmarine)\n",
      "  Using cached s3transfer-0.13.0-py3-none-any.whl.metadata (1.7 kB)\n",
      "Requirement already satisfied: cloudpickle>=1.5.0 in /opt/conda/lib/python3.11/site-packages (from dask>=2022->copernicusmarine) (3.0.0)\n",
      "Requirement already satisfied: fsspec>=2021.09.0 in /opt/conda/lib/python3.11/site-packages (from dask>=2022->copernicusmarine) (2024.3.1)\n",
      "Requirement already satisfied: packaging>=20.0 in /opt/conda/lib/python3.11/site-packages (from dask>=2022->copernicusmarine) (24.0)\n",
      "Requirement already satisfied: partd>=1.2.0 in /opt/conda/lib/python3.11/site-packages (from dask>=2022->copernicusmarine) (1.4.1)\n",
      "Requirement already satisfied: pyyaml>=5.3.1 in /opt/conda/lib/python3.11/site-packages (from dask>=2022->copernicusmarine) (6.0.1)\n",
      "Requirement already satisfied: toolz>=0.10.0 in /opt/conda/lib/python3.11/site-packages (from dask>=2022->copernicusmarine) (0.12.1)\n",
      "Requirement already satisfied: importlib-metadata>=4.13.0 in /opt/conda/lib/python3.11/site-packages (from dask>=2022->copernicusmarine) (7.1.0)\n",
      "Requirement already satisfied: h5py in /opt/conda/lib/python3.11/site-packages (from h5netcdf<2.0.0,>=1.4.0->copernicusmarine) (3.11.0)\n",
      "Collecting annotated-types>=0.6.0 (from pydantic<3.0.0,>=2.9.1->copernicusmarine)\n",
      "  Using cached annotated_types-0.7.0-py3-none-any.whl.metadata (15 kB)\n",
      "Collecting pydantic-core==2.33.2 (from pydantic<3.0.0,>=2.9.1->copernicusmarine)\n",
      "  Using cached pydantic_core-2.33.2-cp311-cp311-manylinux_2_17_x86_64.manylinux2014_x86_64.whl.metadata (6.8 kB)\n",
      "Collecting typing-extensions>=4.12.2 (from pydantic<3.0.0,>=2.9.1->copernicusmarine)\n",
      "  Using cached typing_extensions-4.14.0-py3-none-any.whl.metadata (3.0 kB)\n",
      "Collecting typing-inspection>=0.4.0 (from pydantic<3.0.0,>=2.9.1->copernicusmarine)\n",
      "  Using cached typing_inspection-0.4.1-py3-none-any.whl.metadata (2.6 kB)\n",
      "Requirement already satisfied: python-dateutil>=2.7.0 in /opt/conda/lib/python3.11/site-packages (from pystac>=1.8.3->copernicusmarine) (2.9.0)\n",
      "Requirement already satisfied: charset-normalizer<4,>=2 in /opt/conda/lib/python3.11/site-packages (from requests>=2.27.1->copernicusmarine) (3.3.2)\n",
      "Requirement already satisfied: idna<4,>=2.5 in /opt/conda/lib/python3.11/site-packages (from requests>=2.27.1->copernicusmarine) (3.7)\n",
      "Requirement already satisfied: urllib3<3,>=1.21.1 in /opt/conda/lib/python3.11/site-packages (from requests>=2.27.1->copernicusmarine) (2.2.1)\n",
      "Requirement already satisfied: certifi>=2017.4.17 in /opt/conda/lib/python3.11/site-packages (from requests>=2.27.1->copernicusmarine) (2024.2.2)\n",
      "Collecting donfig>=0.8 (from zarr>=2.13.3->copernicusmarine)\n",
      "  Using cached donfig-0.8.1.post1-py3-none-any.whl.metadata (5.0 kB)\n",
      "Collecting numcodecs>=0.14 (from numcodecs[crc32c]>=0.14->zarr>=2.13.3->copernicusmarine)\n",
      "  Using cached numcodecs-0.16.1-cp311-cp311-manylinux_2_17_x86_64.manylinux2014_x86_64.whl.metadata (3.3 kB)\n",
      "Requirement already satisfied: zipp>=0.5 in /opt/conda/lib/python3.11/site-packages (from importlib-metadata>=4.13.0->dask>=2022->copernicusmarine) (3.17.0)\n",
      "Collecting crc32c>=2.7 (from numcodecs[crc32c]>=0.14->zarr>=2.13.3->copernicusmarine)\n",
      "  Using cached crc32c-2.7.1-cp311-cp311-manylinux_2_5_x86_64.manylinux1_x86_64.manylinux_2_17_x86_64.manylinux2014_x86_64.whl.metadata (7.3 kB)\n",
      "Requirement already satisfied: pytz>=2020.1 in /opt/conda/lib/python3.11/site-packages (from pandas<3,>=2->arcosparse<0.5.0,>=0.4.0->copernicusmarine) (2024.1)\n",
      "Requirement already satisfied: tzdata>=2022.7 in /opt/conda/lib/python3.11/site-packages (from pandas<3,>=2->arcosparse<0.5.0,>=0.4.0->copernicusmarine) (2024.1)\n",
      "Requirement already satisfied: locket in /opt/conda/lib/python3.11/site-packages (from partd>=1.2.0->dask>=2022->copernicusmarine) (1.0.0)\n",
      "Requirement already satisfied: six>=1.5 in /opt/conda/lib/python3.11/site-packages (from python-dateutil>=2.7.0->pystac>=1.8.3->copernicusmarine) (1.16.0)\n",
      "Using cached copernicusmarine-2.1.2-py3-none-any.whl (112 kB)\n",
      "Using cached arcosparse-0.4.1-py3-none-any.whl (26 kB)\n",
      "Downloading boto3-1.38.42-py3-none-any.whl (139 kB)\n",
      "\u001b[2K   \u001b[90m━━━━━━━━━━━━━━━━━━━━━━━━━━━━━━━━━━━━━━━━\u001b[0m \u001b[32m139.9/139.9 kB\u001b[0m \u001b[31m5.6 MB/s\u001b[0m eta \u001b[36m0:00:00\u001b[0m\n",
      "\u001b[?25hUsing cached h5netcdf-1.6.1-py3-none-any.whl (49 kB)\n",
      "Using cached lxml-5.4.0-cp311-cp311-manylinux_2_28_x86_64.whl (4.9 MB)\n",
      "Using cached pydantic-2.11.7-py3-none-any.whl (444 kB)\n",
      "Using cached pydantic_core-2.33.2-cp311-cp311-manylinux_2_17_x86_64.manylinux2014_x86_64.whl (2.0 MB)\n",
      "Using cached pystac-1.13.0-py3-none-any.whl (206 kB)\n",
      "Using cached semver-3.0.4-py3-none-any.whl (17 kB)\n",
      "Using cached zarr-3.0.8-py3-none-any.whl (205 kB)\n",
      "Using cached annotated_types-0.7.0-py3-none-any.whl (13 kB)\n",
      "Downloading botocore-1.38.42-py3-none-any.whl (13.7 MB)\n",
      "\u001b[2K   \u001b[90m━━━━━━━━━━━━━━━━━━━━━━━━━━━━━━━━━━━━━━━━\u001b[0m \u001b[32m13.7/13.7 MB\u001b[0m \u001b[31m52.5 MB/s\u001b[0m eta \u001b[36m0:00:00\u001b[0m:00:01\u001b[0m00:01\u001b[0m\n",
      "\u001b[?25hUsing cached donfig-0.8.1.post1-py3-none-any.whl (21 kB)\n",
      "Using cached jmespath-1.0.1-py3-none-any.whl (20 kB)\n",
      "Using cached numcodecs-0.16.1-cp311-cp311-manylinux_2_17_x86_64.manylinux2014_x86_64.whl (8.8 MB)\n",
      "Using cached pyarrow-20.0.0-cp311-cp311-manylinux_2_28_x86_64.whl (42.3 MB)\n",
      "Using cached s3transfer-0.13.0-py3-none-any.whl (85 kB)\n",
      "Using cached typing_extensions-4.14.0-py3-none-any.whl (43 kB)\n",
      "Using cached typing_inspection-0.4.1-py3-none-any.whl (14 kB)\n",
      "Using cached crc32c-2.7.1-cp311-cp311-manylinux_2_5_x86_64.manylinux1_x86_64.manylinux_2_17_x86_64.manylinux2014_x86_64.whl (53 kB)\n",
      "Installing collected packages: typing-extensions, semver, pyarrow, lxml, jmespath, donfig, crc32c, annotated-types, typing-inspection, pystac, pydantic-core, numcodecs, h5netcdf, botocore, s3transfer, pydantic, arcosparse, zarr, boto3, copernicusmarine\n",
      "  Attempting uninstall: typing-extensions\n",
      "    Found existing installation: typing_extensions 4.11.0\n",
      "    Uninstalling typing_extensions-4.11.0:\n",
      "      Successfully uninstalled typing_extensions-4.11.0\n",
      "  Attempting uninstall: pyarrow\n",
      "    Found existing installation: pyarrow 15.0.2\n",
      "    Uninstalling pyarrow-15.0.2:\n",
      "      Successfully uninstalled pyarrow-15.0.2\n",
      "Successfully installed annotated-types-0.7.0 arcosparse-0.4.1 boto3-1.38.42 botocore-1.38.42 copernicusmarine-2.1.2 crc32c-2.7.1 donfig-0.8.1.post1 h5netcdf-1.6.1 jmespath-1.0.1 lxml-5.4.0 numcodecs-0.16.1 pyarrow-20.0.0 pydantic-2.11.7 pydantic-core-2.33.2 pystac-1.13.0 s3transfer-0.13.0 semver-3.0.4 typing-extensions-4.14.0 typing-inspection-0.4.1 zarr-3.0.8\n",
      "Requirement already satisfied: zarr in /opt/conda/lib/python3.11/site-packages (3.0.8)\n",
      "Requirement already satisfied: fsspec in /opt/conda/lib/python3.11/site-packages (2024.3.1)\n",
      "Requirement already satisfied: donfig>=0.8 in /opt/conda/lib/python3.11/site-packages (from zarr) (0.8.1.post1)\n",
      "Requirement already satisfied: numcodecs>=0.14 in /opt/conda/lib/python3.11/site-packages (from numcodecs[crc32c]>=0.14->zarr) (0.16.1)\n",
      "Requirement already satisfied: numpy>=1.25 in /opt/conda/lib/python3.11/site-packages (from zarr) (1.26.4)\n",
      "Requirement already satisfied: packaging>=22.0 in /opt/conda/lib/python3.11/site-packages (from zarr) (24.0)\n",
      "Requirement already satisfied: typing-extensions>=4.9 in /opt/conda/lib/python3.11/site-packages (from zarr) (4.14.0)\n",
      "Requirement already satisfied: pyyaml in /opt/conda/lib/python3.11/site-packages (from donfig>=0.8->zarr) (6.0.1)\n",
      "Requirement already satisfied: crc32c>=2.7 in /opt/conda/lib/python3.11/site-packages (from numcodecs[crc32c]>=0.14->zarr) (2.7.1)\n",
      "Requirement already satisfied: xarray>=2024.1.0 in /opt/conda/lib/python3.11/site-packages (2025.6.1)\n",
      "Requirement already satisfied: numpy>=1.24 in /opt/conda/lib/python3.11/site-packages (from xarray>=2024.1.0) (1.26.4)\n",
      "Requirement already satisfied: packaging>=23.2 in /opt/conda/lib/python3.11/site-packages (from xarray>=2024.1.0) (24.0)\n",
      "Requirement already satisfied: pandas>=2.1 in /opt/conda/lib/python3.11/site-packages (from xarray>=2024.1.0) (2.2.2)\n",
      "Requirement already satisfied: python-dateutil>=2.8.2 in /opt/conda/lib/python3.11/site-packages (from pandas>=2.1->xarray>=2024.1.0) (2.9.0)\n",
      "Requirement already satisfied: pytz>=2020.1 in /opt/conda/lib/python3.11/site-packages (from pandas>=2.1->xarray>=2024.1.0) (2024.1)\n",
      "Requirement already satisfied: tzdata>=2022.7 in /opt/conda/lib/python3.11/site-packages (from pandas>=2.1->xarray>=2024.1.0) (2024.1)\n",
      "Requirement already satisfied: six>=1.5 in /opt/conda/lib/python3.11/site-packages (from python-dateutil>=2.8.2->pandas>=2.1->xarray>=2024.1.0) (1.16.0)\n"
     ]
    }
   ],
   "source": [
    "!pip install copernicusmarine\n",
    "!pip install zarr fsspec\n",
    "!pip install \"xarray>=2024.1.0\""
   ]
  },
  {
   "cell_type": "code",
   "execution_count": 2,
   "metadata": {},
   "outputs": [
    {
     "name": "stdout",
     "output_type": "stream",
     "text": [
      "Requirement already satisfied: numpy<2.0 in /opt/conda/lib/python3.11/site-packages (1.26.4)\n"
     ]
    }
   ],
   "source": [
    "import sys\n",
    "!{sys.executable} -m pip install \"numpy<2.0\""
   ]
  },
  {
   "cell_type": "code",
   "execution_count": 3,
   "metadata": {},
   "outputs": [],
   "source": [
    "import xarray as xr\n",
    "import copernicusmarine\n",
    "import os\n",
    "\n",
    "parent = os.path.dirname(os.getcwd())\n",
    "path = os.path.join(parent, \"data\")\n",
    "os.makedirs(path, exist_ok=True)"
   ]
  },
  {
   "cell_type": "code",
   "execution_count": 4,
   "metadata": {
    "id": "EHQmxvzAma-s"
   },
   "outputs": [],
   "source": [
    "# # Monthly. Salinity, Temperature, more depths...\n",
    "\n",
    "# output_file = os.path.join(path, \"medsea.nc\")\n",
    "# ds = copernicusmarine.subset(\n",
    "#     dataset_id=\"cmems_mod_glo_phy_my_0.083deg_P1M-m\",\n",
    "#     variables=[\"so\", \"thetao\"],\n",
    "#     minimum_longitude=-6.285859234924248,\n",
    "#     maximum_longitude=36.52446704416333,\n",
    "#     minimum_latitude=29.252430574547926,\n",
    "#     maximum_latitude=46.2175134343721,\n",
    "#     start_datetime=\"1993-01-01T00:00:00\",\n",
    "#     end_datetime=\"2021-06-01T00:00:00\",\n",
    "#     minimum_depth=0.49402499198913574,\n",
    "#     maximum_depth=1062.43994140625,\n",
    "#     output_filename= output_file\n",
    "# )"
   ]
  },
  {
   "cell_type": "code",
   "execution_count": null,
   "metadata": {},
   "outputs": [
    {
     "name": "stderr",
     "output_type": "stream",
     "text": [
      "INFO - 2025-06-24T12:15:19Z - Downloading Copernicus Marine data requires a Copernicus Marine username and password, sign up for free at: https://data.marine.copernicus.eu/register\n"
     ]
    },
    {
     "name": "stdout",
     "output_type": "stream",
     "text": [
      "Copernicus Marine username:"
     ]
    },
    {
     "name": "stdin",
     "output_type": "stream",
     "text": [
      "  bthielpeters\n"
     ]
    },
    {
     "name": "stdout",
     "output_type": "stream",
     "text": [
      "Copernicus Marine password:"
     ]
    },
    {
     "name": "stdin",
     "output_type": "stream",
     "text": [
      "  ········\n"
     ]
    },
    {
     "name": "stderr",
     "output_type": "stream",
     "text": [
      "INFO - 2025-06-24T12:15:36Z - Selected dataset version: \"202311\"\n",
      "INFO - 2025-06-24T12:15:36Z - Selected dataset part: \"default\"\n",
      "INFO - 2025-06-24T12:15:38Z - Starting download. Please wait...\n"
     ]
    },
    {
     "data": {
      "application/vnd.jupyter.widget-view+json": {
       "model_id": "0819819831f345cfab9ce29b12a88105",
       "version_major": 2,
       "version_minor": 0
      },
      "text/plain": [
       "  0%|          | 0/8580 [00:00<?, ?it/s]"
      ]
     },
     "metadata": {},
     "output_type": "display_data"
    }
   ],
   "source": [
    "import xarray as xr\n",
    "import os\n",
    "\n",
    "depths = [\n",
    "    47.37369155883789,\n",
    "    318.1274108886719,\n",
    "    1062.43994140625\n",
    "]\n",
    "\n",
    "for depth in depths:\n",
    "    output_file = os.path.join(path, f\"medsea_daily_depth_{int(depth)}.nc\")\n",
    "    ds = copernicusmarine.subset(\n",
    "        dataset_id=\"cmems_mod_glo_phy_my_0.083deg_P1D-m\",\n",
    "        variables=[\"thetao\", \"so\"],\n",
    "        minimum_longitude=-6.285859234924248,\n",
    "        maximum_longitude=36.52446704416333,\n",
    "        minimum_latitude=29.252430574547926,\n",
    "        maximum_latitude=46.2175134343721,\n",
    "        start_datetime=\"1993-01-01T00:00:00\",\n",
    "        end_datetime=\"2021-06-01T00:00:00\",\n",
    "        minimum_depth=depth,\n",
    "        maximum_depth=depth,\n",
    "        output_filename=output_file\n",
    "    )"
   ]
  },
  {
   "cell_type": "code",
   "execution_count": null,
   "metadata": {},
   "outputs": [],
   "source": [
    "import xarray as xr\n",
    "import os\n",
    "\n",
    "depths = [\n",
    "    47.37369155883789,\n",
    "    318.1274108886719,\n",
    "    1062.43994140625\n",
    "]\n",
    "\n",
    "datasets = []\n",
    "for depth in depths:\n",
    "    file_path = os.path.join(path, f\"medsea_daily_depth_{int(depth)}.nc\")\n",
    "    ds = xr.open_dataset(file_path)\n",
    "\n",
    "    # Entferne die depth-Koordinate und -Variable vollständig\n",
    "    if \"depth\" in ds.coords:\n",
    "        ds = ds.drop_vars(\"depth\", errors=\"ignore\")\n",
    "    if \"depth\" in ds.dims:\n",
    "        ds = ds.squeeze(\"depth\", drop=True)  # falls \"depth\" eine Dimension ist mit Länge 1\n",
    "\n",
    "    # Füge neue Tiefe als neue Dimension wieder hinzu\n",
    "    ds = ds.expand_dims({\"depth\": [depth]})\n",
    "    datasets.append(ds)\n",
    "\n",
    "combined = xr.concat(datasets, dim=\"depth\")\n",
    "combined = combined.sortby(\"depth\")\n",
    "\n",
    "output_combined = os.path.join(path, \"medsea_combined_daily.nc\")\n",
    "combined.to_netcdf(output_combined)\n",
    "print(f\"Combined file: {output_combined}\")\n",
    "\n"
   ]
  }
 ],
 "metadata": {
  "colab": {
   "authorship_tag": "ABX9TyPbZPWXM+j0/u7Q9b/CaBa9",
   "include_colab_link": true,
   "provenance": []
  },
  "kernelspec": {
   "display_name": "Python 3 (ipykernel)",
   "language": "python",
   "name": "python3"
  },
  "language_info": {
   "codemirror_mode": {
    "name": "ipython",
    "version": 3
   },
   "file_extension": ".py",
   "mimetype": "text/x-python",
   "name": "python",
   "nbconvert_exporter": "python",
   "pygments_lexer": "ipython3",
   "version": "3.11.9"
  }
 },
 "nbformat": 4,
 "nbformat_minor": 4
}
