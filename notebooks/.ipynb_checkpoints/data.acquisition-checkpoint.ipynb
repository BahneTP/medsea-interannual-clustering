{
 "cells": [
  {
   "cell_type": "markdown",
   "metadata": {
    "colab_type": "text",
    "id": "view-in-github"
   },
   "source": [
    "<a href=\"https://colab.research.google.com/github/BahneTP/spatiotemporal-mining-medsea/blob/main/spatiotemporal_mining_medsea_acquisition.ipynb\" target=\"_parent\"><img src=\"https://colab.research.google.com/assets/colab-badge.svg\" alt=\"Open In Colab\"/></a>"
   ]
  },
  {
   "cell_type": "markdown",
   "metadata": {
    "id": "vwNxcQpXmPQ-"
   },
   "source": [
    "# Data Acquisition\n",
    "\n",
    "This notebook handles the download of the **[Global Ocean Physics Reanalysis](https://data.marine.copernicus.eu/product/GLOBAL_MULTIYEAR_PHY_001_030/download?dataset=cmems_mod_glo_phy_my_0.083deg_P1M-m_202311)** dataset from **Copernicus**.\n",
    "\n",
    "For further work, see:\n",
    "- [Exploratory Data Analysis](./eda.ipynb)  \n",
    "- [Data Mining](./mining.ipynb)\n"
   ]
  },
  {
   "cell_type": "code",
   "execution_count": 3,
   "metadata": {
    "id": "VncoxRijmYwD",
    "scrolled": true
   },
   "outputs": [],
   "source": [
    "# !pip install copernicusmarine\n",
    "# !pip install zarr fsspec\n",
    "# !pip install \"xarray>=2024.1.0\""
   ]
  },
  {
   "cell_type": "code",
   "execution_count": 4,
   "metadata": {},
   "outputs": [
    {
     "name": "stdout",
     "output_type": "stream",
     "text": [
      "Requirement already satisfied: numpy<2.0 in /opt/conda/lib/python3.11/site-packages (1.26.4)\n"
     ]
    }
   ],
   "source": [
    "import sys\n",
    "!{sys.executable} -m pip install \"numpy<2.0\""
   ]
  },
  {
   "cell_type": "code",
   "execution_count": 5,
   "metadata": {},
   "outputs": [],
   "source": [
    "import xarray as xr\n",
    "import copernicusmarine\n",
    "import os\n",
    "\n",
    "parent = os.path.dirname(os.getcwd())\n",
    "path = os.path.join(parent, \"data\")\n",
    "os.makedirs(path, exist_ok=True)"
   ]
  },
  {
   "cell_type": "code",
   "execution_count": 4,
   "metadata": {
    "id": "EHQmxvzAma-s"
   },
   "outputs": [
    {
     "name": "stderr",
     "output_type": "stream",
     "text": [
      "INFO - 2025-06-09T13:03:06Z - Downloading Copernicus Marine data requires a Copernicus Marine username and password, sign up for free at: https://data.marine.copernicus.eu/register\n"
     ]
    },
    {
     "name": "stdout",
     "output_type": "stream",
     "text": [
      "Copernicus Marine username:"
     ]
    },
    {
     "name": "stdin",
     "output_type": "stream",
     "text": [
      "  bthielpeters\n"
     ]
    },
    {
     "name": "stdout",
     "output_type": "stream",
     "text": [
      "Copernicus Marine password:"
     ]
    },
    {
     "name": "stdin",
     "output_type": "stream",
     "text": [
      "  ········\n"
     ]
    },
    {
     "name": "stderr",
     "output_type": "stream",
     "text": [
      "INFO - 2025-06-09T13:03:19Z - Selected dataset version: \"202311\"\n",
      "INFO - 2025-06-09T13:03:19Z - Selected dataset part: \"default\"\n",
      "INFO - 2025-06-09T13:03:21Z - Starting download. Please wait...\n"
     ]
    },
    {
     "data": {
      "application/vnd.jupyter.widget-view+json": {
       "model_id": "19758f7564b2427ba2a751bf7c91492d",
       "version_major": 2,
       "version_minor": 0
      },
      "text/plain": [
       "  0%|          | 0/288 [00:00<?, ?it/s]"
      ]
     },
     "metadata": {},
     "output_type": "display_data"
    },
    {
     "name": "stderr",
     "output_type": "stream",
     "text": [
      "INFO - 2025-06-09T13:12:17Z - Successfully downloaded to /home/jovyan/spatiotemporal-mining-medsea/data/medsea_(1).nc\n"
     ]
    }
   ],
   "source": [
    "# Monthly. Salinity, Temperature, more depths...\n",
    "\n",
    "output_file = os.path.join(path, \"medsea.nc\")\n",
    "ds = copernicusmarine.subset(\n",
    "    dataset_id=\"cmems_mod_glo_phy_my_0.083deg_P1M-m\",\n",
    "    variables=[\"so\", \"thetao\"],\n",
    "    minimum_longitude=-6.285859234924248,\n",
    "    maximum_longitude=36.52446704416333,\n",
    "    minimum_latitude=29.252430574547926,\n",
    "    maximum_latitude=46.2175134343721,\n",
    "    start_datetime=\"1993-01-01T00:00:00\",\n",
    "    end_datetime=\"2021-06-01T00:00:00\",\n",
    "    minimum_depth=0.49402499198913574,\n",
    "    maximum_depth=1062.43994140625,\n",
    "    output_filename= output_file\n",
    ")"
   ]
  },
  {
   "cell_type": "code",
   "execution_count": 4,
   "metadata": {},
   "outputs": [
    {
     "name": "stderr",
     "output_type": "stream",
     "text": [
      "INFO - 2025-06-13T10:35:55Z - Downloading Copernicus Marine data requires a Copernicus Marine username and password, sign up for free at: https://data.marine.copernicus.eu/register\n"
     ]
    },
    {
     "name": "stdout",
     "output_type": "stream",
     "text": [
      "Copernicus Marine username:"
     ]
    },
    {
     "name": "stdin",
     "output_type": "stream",
     "text": [
      "  bthielpeters\n"
     ]
    },
    {
     "name": "stdout",
     "output_type": "stream",
     "text": [
      "Copernicus Marine password:"
     ]
    },
    {
     "name": "stdin",
     "output_type": "stream",
     "text": [
      "  ········\n"
     ]
    },
    {
     "name": "stderr",
     "output_type": "stream",
     "text": [
      "INFO - 2025-06-13T10:36:03Z - Selected dataset version: \"202311\"\n",
      "INFO - 2025-06-13T10:36:03Z - Selected dataset part: \"default\"\n",
      "INFO - 2025-06-13T10:36:05Z - Starting download. Please wait...\n"
     ]
    },
    {
     "data": {
      "application/vnd.jupyter.widget-view+json": {
       "model_id": "238ed7f8df03419d9a021b7aba284750",
       "version_major": 2,
       "version_minor": 0
      },
      "text/plain": [
       "  0%|          | 0/4290 [00:00<?, ?it/s]"
      ]
     },
     "metadata": {},
     "output_type": "display_data"
    },
    {
     "name": "stderr",
     "output_type": "stream",
     "text": [
      "INFO - 2025-06-13T10:50:58Z - Successfully downloaded to /home/jovyan/spatiotemporal-mining-medsea/data/medsea_daily.nc\n"
     ]
    }
   ],
   "source": [
    "# Daiy, only temperature, \n",
    "\n",
    "output_file = os.path.join(path, \"medsea_daily.nc\")\n",
    "ds = copernicusmarine.subset(\n",
    "    dataset_id=\"cmems_mod_glo_phy_my_0.083deg_P1D-m\",\n",
    "    variables=[\"thetao\"],\n",
    "    minimum_longitude=-6.285859234924248,\n",
    "    maximum_longitude=36.52446704416333,\n",
    "    minimum_latitude=29.252430574547926,\n",
    "    maximum_latitude=46.2175134343721,\n",
    "    start_datetime=\"1993-01-01T00:00:00\",\n",
    "    end_datetime=\"2021-06-01T00:00:00\",\n",
    "    minimum_depth=47.37369155883789,\n",
    "    maximum_depth=47.37369155883789,\n",
    "    output_filename= output_file\n",
    ")"
   ]
  },
  {
   "cell_type": "code",
   "execution_count": null,
   "metadata": {},
   "outputs": [
    {
     "name": "stderr",
     "output_type": "stream",
     "text": [
      "INFO - 2025-06-17T19:47:49Z - Downloading Copernicus Marine data requires a Copernicus Marine username and password, sign up for free at: https://data.marine.copernicus.eu/register\n"
     ]
    },
    {
     "name": "stdout",
     "output_type": "stream",
     "text": [
      "Copernicus Marine username:"
     ]
    },
    {
     "name": "stdin",
     "output_type": "stream",
     "text": [
      "  bthielpeters\n"
     ]
    },
    {
     "name": "stdout",
     "output_type": "stream",
     "text": [
      "Copernicus Marine password:"
     ]
    },
    {
     "name": "stdin",
     "output_type": "stream",
     "text": [
      "  ········\n"
     ]
    },
    {
     "name": "stderr",
     "output_type": "stream",
     "text": [
      "INFO - 2025-06-17T19:47:58Z - Selected dataset version: \"202311\"\n",
      "INFO - 2025-06-17T19:47:58Z - Selected dataset part: \"default\"\n",
      "INFO - 2025-06-17T19:48:00Z - Starting download. Please wait...\n"
     ]
    },
    {
     "data": {
      "application/vnd.jupyter.widget-view+json": {
       "model_id": "31d0fbe292da4a35be0b25a600ca3fc0",
       "version_major": 2,
       "version_minor": 0
      },
      "text/plain": [
       "  0%|          | 0/4290 [00:00<?, ?it/s]"
      ]
     },
     "metadata": {},
     "output_type": "display_data"
    },
    {
     "name": "stderr",
     "output_type": "stream",
     "text": [
      "INFO - 2025-06-17T19:58:03Z - Successfully downloaded to /home/jovyan/spatiotemporal-mining-medsea/data/medsea_daily_depth_47.nc\n",
      "INFO - 2025-06-17T19:58:03Z - Downloading Copernicus Marine data requires a Copernicus Marine username and password, sign up for free at: https://data.marine.copernicus.eu/register\n"
     ]
    },
    {
     "name": "stdout",
     "output_type": "stream",
     "text": [
      "Copernicus Marine username:"
     ]
    },
    {
     "name": "stdin",
     "output_type": "stream",
     "text": [
      "  bthielpeters\n"
     ]
    },
    {
     "name": "stdout",
     "output_type": "stream",
     "text": [
      "Copernicus Marine password:"
     ]
    },
    {
     "name": "stdin",
     "output_type": "stream",
     "text": [
      "  ········\n"
     ]
    },
    {
     "name": "stderr",
     "output_type": "stream",
     "text": [
      "INFO - 2025-06-17T20:01:08Z - Selected dataset version: \"202311\"\n",
      "INFO - 2025-06-17T20:01:08Z - Selected dataset part: \"default\"\n",
      "INFO - 2025-06-17T20:01:09Z - Starting download. Please wait...\n"
     ]
    },
    {
     "data": {
      "application/vnd.jupyter.widget-view+json": {
       "model_id": "61ed029fc4fc425da1f733327b9f7514",
       "version_major": 2,
       "version_minor": 0
      },
      "text/plain": [
       "  0%|          | 0/4290 [00:00<?, ?it/s]"
      ]
     },
     "metadata": {},
     "output_type": "display_data"
    }
   ],
   "source": [
    "import xarray as xr\n",
    "import os\n",
    "\n",
    "depths = [\n",
    "    47.37369155883789,\n",
    "    318.1274108886719,\n",
    "    1062.43994140625\n",
    "]\n",
    "\n",
    "for depth in depths:\n",
    "    output_file = os.path.join(path, f\"medsea_daily_depth_{int(depth)}.nc\")\n",
    "    ds = copernicusmarine.subset(\n",
    "        dataset_id=\"cmems_mod_glo_phy_my_0.083deg_P1D-m\",\n",
    "        variables=[\"thetao\"],\n",
    "        minimum_longitude=-6.285859234924248,\n",
    "        maximum_longitude=36.52446704416333,\n",
    "        minimum_latitude=29.252430574547926,\n",
    "        maximum_latitude=46.2175134343721,\n",
    "        start_datetime=\"1993-01-01T00:00:00\",\n",
    "        end_datetime=\"2021-06-01T00:00:00\",\n",
    "        minimum_depth=depth,\n",
    "        maximum_depth=depth,\n",
    "        output_filename=output_file\n",
    "    )\n",
    "\n",
    "\n",
    "# Dateien laden und manuell \"depth\" setzen\n",
    "datasets = []\n",
    "for depth in depths:\n",
    "    file_path = os.path.join(path, f\"medsea_daily_depth_{int(depth)}.nc\")\n",
    "    ds = xr.open_dataset(file_path)\n",
    "    \n",
    "    # Setze Tiefe explizit, falls nicht eindeutig in Datei\n",
    "    ds = ds.assign_coords(depth=depth)\n",
    "    \n",
    "    # Optional: nur Variable 'thetao' behalten\n",
    "    ds = ds[[\"thetao\"]]\n",
    "    \n",
    "    datasets.append(ds)\n",
    "\n",
    "# Zu einem Dataset zusammenführen (über depth stacken)\n",
    "combined = xr.concat(datasets, dim=\"depth\")\n",
    "\n",
    "# Falls nötig: sortiere depth (nicht zwingend nötig)\n",
    "combined = combined.sortby(\"depth\")\n",
    "\n",
    "# Speichern\n",
    "output_combined = os.path.join(path, \"medsea_combined_daily.nc\")\n",
    "combined.to_netcdf(output_combined)\n",
    "print(f\"Zusammengeführt gespeichert unter: {output_combined}\")\n"
   ]
  }
 ],
 "metadata": {
  "colab": {
   "authorship_tag": "ABX9TyPbZPWXM+j0/u7Q9b/CaBa9",
   "include_colab_link": true,
   "provenance": []
  },
  "kernelspec": {
   "display_name": "Python 3 (ipykernel)",
   "language": "python",
   "name": "python3"
  },
  "language_info": {
   "codemirror_mode": {
    "name": "ipython",
    "version": 3
   },
   "file_extension": ".py",
   "mimetype": "text/x-python",
   "name": "python",
   "nbconvert_exporter": "python",
   "pygments_lexer": "ipython3",
   "version": "3.11.9"
  }
 },
 "nbformat": 4,
 "nbformat_minor": 4
}
