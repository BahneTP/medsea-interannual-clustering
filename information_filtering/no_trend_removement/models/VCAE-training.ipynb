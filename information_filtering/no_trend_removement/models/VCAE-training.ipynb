{
 "cells": [
  {
   "cell_type": "markdown",
   "id": "4951ac0e-4f7b-4c6d-87e8-fa212d1750a9",
   "metadata": {
    "id": "4951ac0e-4f7b-4c6d-87e8-fa212d1750a9"
   },
   "source": [
    "# Variational Convolutional Autoencoder\n",
    "\n",
    "This notebook uses a **Convolutional Variational Autoencoder (CVAE)**.  \n",
    "It combines the strengths of a **Convolutional Autoencoder**, which captures local spatial patterns in maps, with the **Variational Autoencoder** approach that maps each input to a smooth probability distribution in latent space.  \n",
    "This way, we compress oceanographic maps into robust, compact representations that stay comparable and regularized.  \n",
    "Masking handles missing or irrelevant regions, and the structured latent space makes it easier to cluster or analyze similar patterns.\n",
    "\n"
   ]
  },
  {
   "cell_type": "code",
   "execution_count": 70,
   "id": "4b2f90b1-6826-4a2b-896b-f0f59aa9999c",
   "metadata": {
    "colab": {
     "base_uri": "https://localhost:8080/"
    },
    "execution": {
     "iopub.execute_input": "2025-07-01T14:01:44.859010Z",
     "iopub.status.busy": "2025-07-01T14:01:44.858660Z",
     "iopub.status.idle": "2025-07-01T14:01:44.862856Z",
     "shell.execute_reply": "2025-07-01T14:01:44.862099Z",
     "shell.execute_reply.started": "2025-07-01T14:01:44.858988Z"
    },
    "executionInfo": {
     "elapsed": 110274,
     "status": "ok",
     "timestamp": 1750955287591,
     "user": {
      "displayName": "Bahne Thiel-Peters",
      "userId": "11084520765208222044"
     },
     "user_tz": -120
    },
    "id": "4b2f90b1-6826-4a2b-896b-f0f59aa9999c",
    "outputId": "4dec4adf-f65f-4eea-9962-5fa5887df0ec"
   },
   "outputs": [],
   "source": [
    "# !pip install cartopy xarray matplotlib netCDF4 torch torchinfo"
   ]
  },
  {
   "cell_type": "markdown",
   "id": "11a9a3b7-de75-47f5-8e47-612a35397ee0",
   "metadata": {},
   "source": [
    "## Imports"
   ]
  },
  {
   "cell_type": "code",
   "execution_count": 2,
   "id": "7e3c815e-a7d9-46d6-a45d-c64b8ed20a69",
   "metadata": {
    "colab": {
     "base_uri": "https://localhost:8080/"
    },
    "execution": {
     "iopub.execute_input": "2025-07-01T11:10:18.406541Z",
     "iopub.status.busy": "2025-07-01T11:10:18.406290Z",
     "iopub.status.idle": "2025-07-01T11:10:24.602762Z",
     "shell.execute_reply": "2025-07-01T11:10:24.602097Z",
     "shell.execute_reply.started": "2025-07-01T11:10:18.406517Z"
    },
    "executionInfo": {
     "elapsed": 57,
     "status": "ok",
     "timestamp": 1750955461797,
     "user": {
      "displayName": "Bahne Thiel-Peters",
      "userId": "11084520765208222044"
     },
     "user_tz": -120
    },
    "id": "7e3c815e-a7d9-46d6-a45d-c64b8ed20a69",
    "outputId": "c8c3bc6e-81b3-473b-e58c-d53fa46ceb8b"
   },
   "outputs": [],
   "source": [
    "import xarray as xr\n",
    "import cartopy.crs as ccrs\n",
    "import cartopy.feature as cfeature\n",
    "from ipywidgets import interact, IntSlider\n",
    "\n",
    "import numpy as np\n",
    "import pandas as pd\n",
    "import matplotlib.pyplot as plt\n",
    "import matplotlib.dates as mdates\n",
    "from sklearn.model_selection import train_test_split\n",
    "from sklearn.metrics import mean_squared_error\n",
    "from sklearn.decomposition import PCA\n",
    "\n",
    "import math\n",
    "import torch\n",
    "import torch.nn as nn\n",
    "import torch.nn.functional as F\n",
    "from torch.utils.data import DataLoader, TensorDataset, random_split\n",
    "from torchinfo import summary\n",
    "\n",
    "import sys\n",
    "sys.path.append('/kaggle/input/helper-functions/')\n",
    "import helper_functions     # Own file.\n",
    "import importlib\n",
    "importlib.reload(helper_functions)\n",
    "\n",
    "import warnings\n",
    "warnings.filterwarnings(\"ignore\", category=RuntimeWarning)"
   ]
  },
  {
   "cell_type": "markdown",
   "id": "4f10a58f-d84f-4be4-abeb-478f20b1b76f",
   "metadata": {},
   "source": [
    "Since our ConvNet works with masked map data, it naturally produces some NaNs — that's expected behavior. To avoid flooding the output with warnings, we've disabled them here."
   ]
  },
  {
   "cell_type": "markdown",
   "id": "cec2175a-a4a6-4443-89a4-c30147743c2e",
   "metadata": {
    "id": "cec2175a-a4a6-4443-89a4-c30147743c2e"
   },
   "source": [
    "## Data Loading & Preprocessing"
   ]
  },
  {
   "cell_type": "code",
   "execution_count": 3,
   "id": "25c45eb1-fe33-437d-bb7b-91c8b1a76a99",
   "metadata": {
    "execution": {
     "iopub.execute_input": "2025-07-01T11:10:24.603925Z",
     "iopub.status.busy": "2025-07-01T11:10:24.603469Z",
     "iopub.status.idle": "2025-07-01T11:10:25.879689Z",
     "shell.execute_reply": "2025-07-01T11:10:25.878996Z",
     "shell.execute_reply.started": "2025-07-01T11:10:24.603904Z"
    },
    "executionInfo": {
     "elapsed": 2945,
     "status": "ok",
     "timestamp": 1750955304911,
     "user": {
      "displayName": "Bahne Thiel-Peters",
      "userId": "11084520765208222044"
     },
     "user_tz": -120
    },
    "id": "25c45eb1-fe33-437d-bb7b-91c8b1a76a99"
   },
   "outputs": [
    {
     "name": "stdout",
     "output_type": "stream",
     "text": [
      "20554.545012 MB\n"
     ]
    }
   ],
   "source": [
    "# ds = xr.open_dataset(\"/home/jovyan/spatiotemporal-mining-medsea/data/medsea.nc\")\n",
    "ds = xr.open_dataset(\"/kaggle/input/thermohaline-structure-of-the-medsea-01062m/medsea_monthly.nc\")\n",
    "print(ds.nbytes / 1e6, \"MB\")"
   ]
  },
  {
   "cell_type": "code",
   "execution_count": 4,
   "id": "ffe1213c-9dee-4d4e-91d3-012c3db1899c",
   "metadata": {
    "colab": {
     "base_uri": "https://localhost:8080/"
    },
    "execution": {
     "iopub.execute_input": "2025-07-01T11:10:25.881065Z",
     "iopub.status.busy": "2025-07-01T11:10:25.880592Z",
     "iopub.status.idle": "2025-07-01T11:10:46.968680Z",
     "shell.execute_reply": "2025-07-01T11:10:46.967877Z",
     "shell.execute_reply.started": "2025-07-01T11:10:25.881035Z"
    },
    "executionInfo": {
     "elapsed": 92667,
     "status": "ok",
     "timestamp": 1750955397579,
     "user": {
      "displayName": "Bahne Thiel-Peters",
      "userId": "11084520765208222044"
     },
     "user_tz": -120
    },
    "id": "ffe1213c-9dee-4d4e-91d3-012c3db1899c",
    "outputId": "5e8a58d3-c8db-4111-ec0e-9396fe41a514"
   },
   "outputs": [
    {
     "name": "stdout",
     "output_type": "stream",
     "text": [
      "torch.Size([342, 6, 203, 514])\n"
     ]
    }
   ],
   "source": [
    "X_np, M_np = helper_functions.preprocessing_conv(ds, [\"thetao\", \"so\"], [50, 300, 1000], 1)\n",
    "X = torch.tensor(X_np)  # (B, C, H, W)\n",
    "M = torch.tensor(M_np)\n",
    "print(X.shape)"
   ]
  },
  {
   "cell_type": "markdown",
   "id": "bb4956a2-917d-4d60-afc2-410b41767582",
   "metadata": {},
   "source": [
    "Again, we include all depths and features for reconstruction. The difference in our ConvNet is that these features are not simply concatenated, but stacked as channels — similar to how RGB channels work in images. This allows the network to capture spatial relationships between features and depths more effectively, which might be important in our case."
   ]
  },
  {
   "cell_type": "markdown",
   "id": "11779e19-1403-4924-b480-f5457daaee2e",
   "metadata": {
    "id": "11779e19-1403-4924-b480-f5457daaee2e"
   },
   "source": [
    "## Splitting"
   ]
  },
  {
   "cell_type": "code",
   "execution_count": 14,
   "id": "974f3cdc-1c88-4f71-88ee-bb7d3fe13362",
   "metadata": {
    "execution": {
     "iopub.execute_input": "2025-07-01T11:14:08.490969Z",
     "iopub.status.busy": "2025-07-01T11:14:08.490364Z",
     "iopub.status.idle": "2025-07-01T11:14:08.495743Z",
     "shell.execute_reply": "2025-07-01T11:14:08.494950Z",
     "shell.execute_reply.started": "2025-07-01T11:14:08.490946Z"
    },
    "executionInfo": {
     "elapsed": 20,
     "status": "ok",
     "timestamp": 1750955397581,
     "user": {
      "displayName": "Bahne Thiel-Peters",
      "userId": "11084520765208222044"
     },
     "user_tz": -120
    },
    "id": "974f3cdc-1c88-4f71-88ee-bb7d3fe13362"
   },
   "outputs": [],
   "source": [
    "from torch.utils.data import Dataset\n",
    "\n",
    "class MaskedDataset(Dataset):\n",
    "    def __init__(self, X, M):\n",
    "        self.X = torch.tensor(X, dtype=torch.float32)\n",
    "        self.M = torch.tensor(M, dtype=torch.float32)\n",
    "\n",
    "    def __len__(self):\n",
    "        return self.X.shape[0]\n",
    "\n",
    "    def __getitem__(self, idx):\n",
    "        return self.X[idx], self.M[idx]"
   ]
  },
  {
   "cell_type": "code",
   "execution_count": 15,
   "id": "36cff7de-fbe6-4edb-9c94-5fead6c7a13a",
   "metadata": {
    "execution": {
     "iopub.execute_input": "2025-07-01T11:14:13.832018Z",
     "iopub.status.busy": "2025-07-01T11:14:13.831651Z",
     "iopub.status.idle": "2025-07-01T11:14:14.571453Z",
     "shell.execute_reply": "2025-07-01T11:14:14.570800Z",
     "shell.execute_reply.started": "2025-07-01T11:14:13.831997Z"
    },
    "executionInfo": {
     "elapsed": 874,
     "status": "ok",
     "timestamp": 1750955398447,
     "user": {
      "displayName": "Bahne Thiel-Peters",
      "userId": "11084520765208222044"
     },
     "user_tz": -120
    },
    "id": "36cff7de-fbe6-4edb-9c94-5fead6c7a13a"
   },
   "outputs": [],
   "source": [
    "full_dataset = MaskedDataset(X_np, M_np)\n",
    "train_size = int(0.8 * len(full_dataset))\n",
    "val_size = len(full_dataset) - train_size\n",
    "train_set, val_set = random_split(full_dataset, [train_size, val_size])\n",
    "\n",
    "train_loader = DataLoader(train_set, batch_size=32, shuffle=True)\n",
    "test_loader = DataLoader(val_set, batch_size=32)"
   ]
  },
  {
   "cell_type": "markdown",
   "id": "4ed51ed5-9af0-42ad-a1a9-9d9b0b5edfe7",
   "metadata": {
    "id": "4ed51ed5-9af0-42ad-a1a9-9d9b0b5edfe7"
   },
   "source": [
    "## The Architecture"
   ]
  },
  {
   "cell_type": "code",
   "execution_count": 7,
   "id": "BmPchZzRmXID",
   "metadata": {
    "execution": {
     "iopub.execute_input": "2025-07-01T11:12:56.279132Z",
     "iopub.status.busy": "2025-07-01T11:12:56.278842Z",
     "iopub.status.idle": "2025-07-01T11:12:56.290234Z",
     "shell.execute_reply": "2025-07-01T11:12:56.289541Z",
     "shell.execute_reply.started": "2025-07-01T11:12:56.279114Z"
    },
    "executionInfo": {
     "elapsed": 36,
     "status": "ok",
     "timestamp": 1750955534808,
     "user": {
      "displayName": "Bahne Thiel-Peters",
      "userId": "11084520765208222044"
     },
     "user_tz": -120
    },
    "id": "BmPchZzRmXID"
   },
   "outputs": [],
   "source": [
    "class VCAE(nn.Module):\n",
    "    def __init__(self, in_channels, latent_dim=3, dropout_p=0.1, channels=[32, 64, 128, 256, 512, 1024], input_shape=(203, 514)):\n",
    "        super().__init__()\n",
    "\n",
    "        self.input_shape = input_shape\n",
    "        self.channels = channels\n",
    "\n",
    "        encoder_layers = []\n",
    "        prev_channels = in_channels\n",
    "        h, w = input_shape\n",
    "\n",
    "        for ch in channels:\n",
    "            encoder_layers += [\n",
    "                nn.Conv2d(prev_channels, ch, kernel_size=3, stride=2, padding=1),\n",
    "                nn.InstanceNorm2d(ch),\n",
    "                nn.LeakyReLU(),\n",
    "                nn.Dropout2d(p=dropout_p),\n",
    "            ]\n",
    "            prev_channels = ch\n",
    "            h = math.floor((h + 2 * 1 - 3) / 2 + 1)\n",
    "            w = math.floor((w + 2 * 1 - 3) / 2 + 1)\n",
    "\n",
    "        self.encoder = nn.Sequential(*encoder_layers)\n",
    "        self.unflatten_shape = (channels[-1], h, w)\n",
    "\n",
    "        flat_dim = channels[-1] * h * w\n",
    "        self.flatten = nn.Flatten()\n",
    "        self.fc_shared = nn.Sequential(\n",
    "            nn.Linear(flat_dim, 1024),\n",
    "            nn.LeakyReLU(),\n",
    "            nn.Dropout(p=dropout_p),\n",
    "            nn.Linear(1024, 64),\n",
    "            nn.LeakyReLU(),\n",
    "            nn.Dropout(p=dropout_p),\n",
    "        )\n",
    "        self.fc_mean = nn.Linear(64, latent_dim)\n",
    "        self.fc_logvar = nn.Linear(64, latent_dim)\n",
    "\n",
    "        self.fc_dec = nn.Sequential(\n",
    "            nn.Linear(latent_dim, 64),\n",
    "            nn.LeakyReLU(),\n",
    "            nn.Dropout(p=dropout_p),\n",
    "            nn.Linear(64, 1024),\n",
    "            nn.LeakyReLU(),\n",
    "            nn.Dropout(p=dropout_p),\n",
    "            nn.Linear(1024, flat_dim)\n",
    "        )\n",
    "\n",
    "        decoder_layers = []\n",
    "        rev_channels = list(reversed(channels))\n",
    "        for i in range(len(rev_channels) - 1):\n",
    "            decoder_layers += [\n",
    "                nn.ConvTranspose2d(rev_channels[i], rev_channels[i + 1], kernel_size=3, stride=2, padding=1, output_padding=1),\n",
    "                nn.InstanceNorm2d(rev_channels[i + 1]),\n",
    "                nn.LeakyReLU(),\n",
    "                nn.Dropout2d(p=dropout_p),\n",
    "            ]\n",
    "\n",
    "        decoder_layers += [\n",
    "            nn.ConvTranspose2d(rev_channels[-1], in_channels, kernel_size=3, stride=2, padding=1, output_padding=1)\n",
    "        ]\n",
    "        self.decoder = nn.Sequential(*decoder_layers)\n",
    "\n",
    "    def reparameterize(self, mean, logvar):\n",
    "        std = torch.exp(0.5 * logvar)\n",
    "        eps = torch.randn_like(std)\n",
    "        return mean + eps * std\n",
    "\n",
    "    def forward(self, x, mask=None):\n",
    "        if mask is not None:\n",
    "            x = x * mask\n",
    "        x = self.encoder(x)\n",
    "        h = self.fc_shared(self.flatten(x))\n",
    "        z_mean = self.fc_mean(h)\n",
    "        z_logvar = self.fc_logvar(h)\n",
    "        z = self.reparameterize(z_mean, z_logvar)\n",
    "        x = self.fc_dec(z)\n",
    "        x = x.view(x.size(0), *self.unflatten_shape)\n",
    "        x = self.decoder(x)\n",
    "        return x[:, :, :self.input_shape[0], :self.input_shape[1]], z_mean, z_logvar\n"
   ]
  },
  {
   "cell_type": "markdown",
   "id": "fd997601-9a5d-4a69-a879-fe1c9936e87b",
   "metadata": {},
   "source": [
    "### Convolutional Autoencoder\n",
    "\n",
    "We use a simple convolutional autoencoder that compresses the input maps into a small latent vector and reconstructs them back. The encoder reduces spatial resolution through convolutional layers, while the decoder upsamples the data back using transposed convolutions.\n",
    "\n",
    "I experimented with different numbers of layers, kernel sizes, and dropout values. The current setup gave the best trade-off between reconstruction quality and training stability.\n",
    "\n",
    "\n",
    "### Hard Masking\n",
    "- Since many values in the input maps are invalid (e.g. land areas), we apply a **hard mask** before feeding the data into the encoder.\n",
    "- This mask zeroes out irrelevant values, so the model only learns from valid oceanic regions.\n",
    "- During training, the same mask is applied to the loss function to ensure the model is not penalized for errors in masked-out areas.\n",
    "- This is essential for learning robust spatial patterns without being misled by missing or irrelevant data.\n"
   ]
  },
  {
   "cell_type": "markdown",
   "id": "f9f29428-7c81-4a80-a415-c051c92d86cd",
   "metadata": {
    "id": "f9f29428-7c81-4a80-a415-c051c92d86cd"
   },
   "source": [
    "## Loss Function"
   ]
  },
  {
   "cell_type": "code",
   "execution_count": 8,
   "id": "f36d7cfa-8d22-41f0-a1b0-fb2c31ac8f5e",
   "metadata": {
    "execution": {
     "iopub.execute_input": "2025-07-01T11:13:19.453864Z",
     "iopub.status.busy": "2025-07-01T11:13:19.453564Z",
     "iopub.status.idle": "2025-07-01T11:13:19.458435Z",
     "shell.execute_reply": "2025-07-01T11:13:19.457687Z",
     "shell.execute_reply.started": "2025-07-01T11:13:19.453842Z"
    },
    "executionInfo": {
     "elapsed": 3,
     "status": "ok",
     "timestamp": 1750955398551,
     "user": {
      "displayName": "Bahne Thiel-Peters",
      "userId": "11084520765208222044"
     },
     "user_tz": -120
    },
    "id": "f36d7cfa-8d22-41f0-a1b0-fb2c31ac8f5e"
   },
   "outputs": [],
   "source": [
    "def masked_recon_loss(x_recon, x_true, mask):\n",
    "    loss = ((x_recon - x_true) ** 2) * mask\n",
    "    return loss.sum() / mask.sum()"
   ]
  },
  {
   "cell_type": "markdown",
   "id": "696eba88-be08-4790-a145-0a3ddeeffaa2",
   "metadata": {
    "id": "696eba88-be08-4790-a145-0a3ddeeffaa2"
   },
   "source": [
    "## Training Loop"
   ]
  },
  {
   "cell_type": "code",
   "execution_count": 63,
   "id": "c8b3e058-34ba-439d-aeda-aa0a21e6dd5e",
   "metadata": {
    "execution": {
     "iopub.execute_input": "2025-07-01T13:21:02.556388Z",
     "iopub.status.busy": "2025-07-01T13:21:02.555662Z",
     "iopub.status.idle": "2025-07-01T13:21:02.565886Z",
     "shell.execute_reply": "2025-07-01T13:21:02.565223Z",
     "shell.execute_reply.started": "2025-07-01T13:21:02.556362Z"
    },
    "executionInfo": {
     "elapsed": 2,
     "status": "ok",
     "timestamp": 1750955398556,
     "user": {
      "displayName": "Bahne Thiel-Peters",
      "userId": "11084520765208222044"
     },
     "user_tz": -120
    },
    "id": "c8b3e058-34ba-439d-aeda-aa0a21e6dd5e"
   },
   "outputs": [],
   "source": [
    "def train(num_epochs: int, kl_annealing_epochs: int = 50, bint = 100):\n",
    "    torch.cuda.empty_cache()\n",
    "    train_losses = []\n",
    "    val_losses = []\n",
    "\n",
    "    for epoch in range(num_epochs):\n",
    "        beta = min(bint, epoch / kl_annealing_epochs * bint)\n",
    "        model.train()\n",
    "        running_train_recon = 0.0\n",
    "        running_train_kl = 0.0\n",
    "\n",
    "        for x, mask in train_loader:\n",
    "            x = x.to(device)\n",
    "            mask = mask.to(device)\n",
    "            optimizer.zero_grad()\n",
    "            x_recon, z_mean, z_logvar = model(x, mask=mask)\n",
    "            kl_loss = -0.5 * torch.sum(1 + z_logvar - z_mean.pow(2) - z_logvar.exp(), dim=1).mean()\n",
    "            recon_loss = masked_recon_loss(x_recon, x, mask)\n",
    "            loss = recon_loss + beta * kl_loss\n",
    "            loss.backward()\n",
    "            optimizer.step()\n",
    "            running_train_recon += recon_loss.item() * x.size(0)\n",
    "            running_train_kl += kl_loss.item() * x.size(0)\n",
    "\n",
    "        train_recon = running_train_recon / len(train_loader.dataset)\n",
    "        train_kl = running_train_kl / len(train_loader.dataset)\n",
    "        train_loss = train_recon + beta * train_kl\n",
    "        train_losses.append(train_loss)\n",
    "\n",
    "        model.eval()\n",
    "        running_val_recon = 0.0\n",
    "        running_val_kl = 0.0\n",
    "\n",
    "        with torch.no_grad():\n",
    "            for x, mask in test_loader:\n",
    "                x = x.to(device)\n",
    "                mask = mask.to(device)\n",
    "                x_recon, z_mean, z_logvar = model(x, mask=mask)\n",
    "                kl_loss = -0.5 * torch.sum(1 + z_logvar - z_mean.pow(2) - z_logvar.exp(), dim=1).mean()\n",
    "                recon_loss = masked_recon_loss(x_recon, x, mask)\n",
    "                running_val_recon += recon_loss.item() * x.size(0)\n",
    "                running_val_kl += kl_loss.item() * x.size(0)\n",
    "\n",
    "        val_recon = running_val_recon / len(test_loader.dataset)\n",
    "        val_kl = running_val_kl / len(test_loader.dataset)\n",
    "        val_loss = val_recon + beta * val_kl\n",
    "        val_losses.append(val_loss)\n",
    "\n",
    "        if (epoch+1) % 10 == 0:\n",
    "            print(\n",
    "                f\"Epoch {epoch+1}/{num_epochs} | \"\n",
    "                f\"β: {beta:.3f} | \"\n",
    "                f\"Train Loss: {train_loss:.4f} (Recon: {train_recon:.4f}, KL: {train_kl:.4f}) | \"\n",
    "                f\"Val Loss: {val_loss:.4f} (Recon: {val_recon:.4f}, KL: {val_kl:.4f})\"\n",
    "            )\n",
    "\n",
    "    return train_losses, val_losses"
   ]
  },
  {
   "cell_type": "markdown",
   "id": "bd29feb4-1f80-400e-b1f7-a41f47fcace9",
   "metadata": {
    "id": "bd29feb4-1f80-400e-b1f7-a41f47fcace9"
   },
   "source": [
    "## Setup"
   ]
  },
  {
   "cell_type": "code",
   "execution_count": 10,
   "id": "22fecc03-c5a1-49d2-87d0-9b490e8ff0c2",
   "metadata": {
    "execution": {
     "iopub.execute_input": "2025-07-01T11:13:38.983203Z",
     "iopub.status.busy": "2025-07-01T11:13:38.982917Z",
     "iopub.status.idle": "2025-07-01T11:13:38.986740Z",
     "shell.execute_reply": "2025-07-01T11:13:38.985987Z",
     "shell.execute_reply.started": "2025-07-01T11:13:38.983158Z"
    },
    "executionInfo": {
     "elapsed": 7,
     "status": "ok",
     "timestamp": 1750955398545,
     "user": {
      "displayName": "Bahne Thiel-Peters",
      "userId": "11084520765208222044"
     },
     "user_tz": -120
    },
    "id": "22fecc03-c5a1-49d2-87d0-9b490e8ff0c2"
   },
   "outputs": [],
   "source": [
    "train_losses = []\n",
    "val_losses = []"
   ]
  },
  {
   "cell_type": "code",
   "execution_count": 61,
   "id": "36mleCQi1wa1",
   "metadata": {
    "colab": {
     "base_uri": "https://localhost:8080/",
     "height": 218
    },
    "execution": {
     "iopub.execute_input": "2025-07-01T13:20:47.434385Z",
     "iopub.status.busy": "2025-07-01T13:20:47.433469Z",
     "iopub.status.idle": "2025-07-01T13:20:48.272186Z",
     "shell.execute_reply": "2025-07-01T13:20:48.271455Z",
     "shell.execute_reply.started": "2025-07-01T13:20:47.434358Z"
    },
    "executionInfo": {
     "elapsed": 224,
     "status": "error",
     "timestamp": 1750955678818,
     "user": {
      "displayName": "Bahne Thiel-Peters",
      "userId": "11084520765208222044"
     },
     "user_tz": -120
    },
    "id": "36mleCQi1wa1",
    "outputId": "618c29cd-1083-48b1-b84a-7a9790043df4"
   },
   "outputs": [
    {
     "data": {
      "text/plain": [
       "==========================================================================================\n",
       "Layer (type:depth-idx)                   Output Shape              Param #\n",
       "==========================================================================================\n",
       "VCAE                                     [1, 6, 203, 514]          --\n",
       "├─Sequential: 1-1                        [1, 1024, 4, 9]           --\n",
       "│    └─Conv2d: 2-1                       [1, 32, 102, 257]         1,760\n",
       "│    └─InstanceNorm2d: 2-2               [1, 32, 102, 257]         --\n",
       "│    └─LeakyReLU: 2-3                    [1, 32, 102, 257]         --\n",
       "│    └─Dropout2d: 2-4                    [1, 32, 102, 257]         --\n",
       "│    └─Conv2d: 2-5                       [1, 64, 51, 129]          18,496\n",
       "│    └─InstanceNorm2d: 2-6               [1, 64, 51, 129]          --\n",
       "│    └─LeakyReLU: 2-7                    [1, 64, 51, 129]          --\n",
       "│    └─Dropout2d: 2-8                    [1, 64, 51, 129]          --\n",
       "│    └─Conv2d: 2-9                       [1, 128, 26, 65]          73,856\n",
       "│    └─InstanceNorm2d: 2-10              [1, 128, 26, 65]          --\n",
       "│    └─LeakyReLU: 2-11                   [1, 128, 26, 65]          --\n",
       "│    └─Dropout2d: 2-12                   [1, 128, 26, 65]          --\n",
       "│    └─Conv2d: 2-13                      [1, 256, 13, 33]          295,168\n",
       "│    └─InstanceNorm2d: 2-14              [1, 256, 13, 33]          --\n",
       "│    └─LeakyReLU: 2-15                   [1, 256, 13, 33]          --\n",
       "│    └─Dropout2d: 2-16                   [1, 256, 13, 33]          --\n",
       "│    └─Conv2d: 2-17                      [1, 512, 7, 17]           1,180,160\n",
       "│    └─InstanceNorm2d: 2-18              [1, 512, 7, 17]           --\n",
       "│    └─LeakyReLU: 2-19                   [1, 512, 7, 17]           --\n",
       "│    └─Dropout2d: 2-20                   [1, 512, 7, 17]           --\n",
       "│    └─Conv2d: 2-21                      [1, 1024, 4, 9]           4,719,616\n",
       "│    └─InstanceNorm2d: 2-22              [1, 1024, 4, 9]           --\n",
       "│    └─LeakyReLU: 2-23                   [1, 1024, 4, 9]           --\n",
       "│    └─Dropout2d: 2-24                   [1, 1024, 4, 9]           --\n",
       "├─Flatten: 1-2                           [1, 36864]                --\n",
       "├─Sequential: 1-3                        [1, 64]                   --\n",
       "│    └─Linear: 2-25                      [1, 1024]                 37,749,760\n",
       "│    └─LeakyReLU: 2-26                   [1, 1024]                 --\n",
       "│    └─Dropout: 2-27                     [1, 1024]                 --\n",
       "│    └─Linear: 2-28                      [1, 64]                   65,600\n",
       "│    └─LeakyReLU: 2-29                   [1, 64]                   --\n",
       "│    └─Dropout: 2-30                     [1, 64]                   --\n",
       "├─Linear: 1-4                            [1, 3]                    195\n",
       "├─Linear: 1-5                            [1, 3]                    195\n",
       "├─Sequential: 1-6                        [1, 36864]                --\n",
       "│    └─Linear: 2-31                      [1, 64]                   256\n",
       "│    └─LeakyReLU: 2-32                   [1, 64]                   --\n",
       "│    └─Dropout: 2-33                     [1, 64]                   --\n",
       "│    └─Linear: 2-34                      [1, 1024]                 66,560\n",
       "│    └─LeakyReLU: 2-35                   [1, 1024]                 --\n",
       "│    └─Dropout: 2-36                     [1, 1024]                 --\n",
       "│    └─Linear: 2-37                      [1, 36864]                37,785,600\n",
       "├─Sequential: 1-7                        [1, 6, 256, 576]          --\n",
       "│    └─ConvTranspose2d: 2-38             [1, 512, 8, 18]           4,719,104\n",
       "│    └─InstanceNorm2d: 2-39              [1, 512, 8, 18]           --\n",
       "│    └─LeakyReLU: 2-40                   [1, 512, 8, 18]           --\n",
       "│    └─Dropout2d: 2-41                   [1, 512, 8, 18]           --\n",
       "│    └─ConvTranspose2d: 2-42             [1, 256, 16, 36]          1,179,904\n",
       "│    └─InstanceNorm2d: 2-43              [1, 256, 16, 36]          --\n",
       "│    └─LeakyReLU: 2-44                   [1, 256, 16, 36]          --\n",
       "│    └─Dropout2d: 2-45                   [1, 256, 16, 36]          --\n",
       "│    └─ConvTranspose2d: 2-46             [1, 128, 32, 72]          295,040\n",
       "│    └─InstanceNorm2d: 2-47              [1, 128, 32, 72]          --\n",
       "│    └─LeakyReLU: 2-48                   [1, 128, 32, 72]          --\n",
       "│    └─Dropout2d: 2-49                   [1, 128, 32, 72]          --\n",
       "│    └─ConvTranspose2d: 2-50             [1, 64, 64, 144]          73,792\n",
       "│    └─InstanceNorm2d: 2-51              [1, 64, 64, 144]          --\n",
       "│    └─LeakyReLU: 2-52                   [1, 64, 64, 144]          --\n",
       "│    └─Dropout2d: 2-53                   [1, 64, 64, 144]          --\n",
       "│    └─ConvTranspose2d: 2-54             [1, 32, 128, 288]         18,464\n",
       "│    └─InstanceNorm2d: 2-55              [1, 32, 128, 288]         --\n",
       "│    └─LeakyReLU: 2-56                   [1, 32, 128, 288]         --\n",
       "│    └─Dropout2d: 2-57                   [1, 32, 128, 288]         --\n",
       "│    └─ConvTranspose2d: 2-58             [1, 6, 256, 576]          1,734\n",
       "==========================================================================================\n",
       "Total params: 88,245,260\n",
       "Trainable params: 88,245,260\n",
       "Non-trainable params: 0\n",
       "Total mult-adds (Units.GIGABYTES): 4.46\n",
       "==========================================================================================\n",
       "Input size (MB): 2.50\n",
       "Forward/backward pass size (MB): 39.15\n",
       "Params size (MB): 352.98\n",
       "Estimated Total Size (MB): 394.63\n",
       "=========================================================================================="
      ]
     },
     "execution_count": 61,
     "metadata": {},
     "output_type": "execute_result"
    }
   ],
   "source": [
    "torch.cuda.empty_cache()\n",
    "# torch.cuda.reset_peak_memory_stats()\n",
    "device = torch.device(\"cuda\" if torch.cuda.is_available() else \"cpu\")\n",
    "\n",
    "model = VCAE(in_channels=X_np.shape[1], latent_dim=3, dropout_p=0.1, channels= [32, 64, 128, 256, 512, 1024]).to(device)\n",
    "optimizer = torch.optim.Adam(model.parameters(), lr=0.0001)\n",
    "\n",
    "from torchinfo import summary\n",
    "summary(model, input_size=(1, X_np.shape[1], 203, 514))"
   ]
  },
  {
   "cell_type": "code",
   "execution_count": 65,
   "id": "PUQ6KPZs2CZL",
   "metadata": {
    "execution": {
     "iopub.execute_input": "2025-07-01T13:21:13.342215Z",
     "iopub.status.busy": "2025-07-01T13:21:13.341533Z",
     "iopub.status.idle": "2025-07-01T13:57:34.002598Z",
     "shell.execute_reply": "2025-07-01T13:57:34.001784Z",
     "shell.execute_reply.started": "2025-07-01T13:21:13.342181Z"
    },
    "id": "PUQ6KPZs2CZL"
   },
   "outputs": [
    {
     "name": "stdout",
     "output_type": "stream",
     "text": [
      "Epoch 10/600 | β: 0.001 | Train Loss: 1.0022 (Recon: 1.0022, KL: 0.0085) | Val Loss: 1.0133 (Recon: 1.0133, KL: 0.0021)\n",
      "Epoch 20/600 | β: 0.002 | Train Loss: 1.0000 (Recon: 1.0000, KL: 0.0045) | Val Loss: 1.0102 (Recon: 1.0102, KL: 0.0009)\n",
      "Epoch 30/600 | β: 0.003 | Train Loss: 0.9994 (Recon: 0.9994, KL: 0.0051) | Val Loss: 1.0090 (Recon: 1.0090, KL: 0.0050)\n",
      "Epoch 40/600 | β: 0.004 | Train Loss: 0.9987 (Recon: 0.9976, KL: 0.2931) | Val Loss: 1.0066 (Recon: 1.0050, KL: 0.4125)\n",
      "Epoch 50/600 | β: 0.005 | Train Loss: 0.9735 (Recon: 0.9678, KL: 1.1545) | Val Loss: 0.9707 (Recon: 0.9675, KL: 0.6416)\n",
      "Epoch 60/600 | β: 0.006 | Train Loss: 0.8940 (Recon: 0.8797, KL: 2.4335) | Val Loss: 0.8601 (Recon: 0.8468, KL: 2.2553)\n",
      "Epoch 70/600 | β: 0.007 | Train Loss: 0.8320 (Recon: 0.8121, KL: 2.8765) | Val Loss: 0.8019 (Recon: 0.7793, KL: 3.2799)\n",
      "Epoch 80/600 | β: 0.008 | Train Loss: 0.7910 (Recon: 0.7661, KL: 3.1525) | Val Loss: 0.7614 (Recon: 0.7380, KL: 2.9615)\n",
      "Epoch 90/600 | β: 0.009 | Train Loss: 0.7841 (Recon: 0.7495, KL: 3.8877) | Val Loss: 0.7421 (Recon: 0.7084, KL: 3.7875)\n",
      "Epoch 100/600 | β: 0.010 | Train Loss: 0.7559 (Recon: 0.7197, KL: 3.6599) | Val Loss: 0.7231 (Recon: 0.6927, KL: 3.0626)\n",
      "Epoch 110/600 | β: 0.011 | Train Loss: 0.7388 (Recon: 0.6974, KL: 3.7950) | Val Loss: 0.7138 (Recon: 0.6749, KL: 3.5716)\n",
      "Epoch 120/600 | β: 0.012 | Train Loss: 0.7285 (Recon: 0.6807, KL: 4.0183) | Val Loss: 0.6987 (Recon: 0.6548, KL: 3.6855)\n",
      "Epoch 130/600 | β: 0.013 | Train Loss: 0.7110 (Recon: 0.6609, KL: 3.8795) | Val Loss: 0.6868 (Recon: 0.6388, KL: 3.7241)\n",
      "Epoch 140/600 | β: 0.014 | Train Loss: 0.7035 (Recon: 0.6432, KL: 4.3348) | Val Loss: 0.6719 (Recon: 0.6163, KL: 4.0028)\n",
      "Epoch 150/600 | β: 0.015 | Train Loss: 0.6772 (Recon: 0.6162, KL: 4.0880) | Val Loss: 0.6517 (Recon: 0.5935, KL: 3.9051)\n",
      "Epoch 160/600 | β: 0.016 | Train Loss: 0.6652 (Recon: 0.5967, KL: 4.3032) | Val Loss: 0.6270 (Recon: 0.5641, KL: 3.9562)\n",
      "Epoch 170/600 | β: 0.017 | Train Loss: 0.6554 (Recon: 0.5851, KL: 4.1648) | Val Loss: 0.6195 (Recon: 0.5465, KL: 4.3173)\n",
      "Epoch 180/600 | β: 0.018 | Train Loss: 0.6409 (Recon: 0.5624, KL: 4.3860) | Val Loss: 0.6088 (Recon: 0.5349, KL: 4.1301)\n",
      "Epoch 190/600 | β: 0.019 | Train Loss: 0.6316 (Recon: 0.5434, KL: 4.6651) | Val Loss: 0.5942 (Recon: 0.5152, KL: 4.1784)\n",
      "Epoch 200/600 | β: 0.020 | Train Loss: 0.6279 (Recon: 0.5364, KL: 4.5947) | Val Loss: 0.6078 (Recon: 0.5269, KL: 4.0625)\n",
      "Epoch 210/600 | β: 0.021 | Train Loss: 0.6190 (Recon: 0.5242, KL: 4.5374) | Val Loss: 0.5915 (Recon: 0.5055, KL: 4.1157)\n",
      "Epoch 220/600 | β: 0.022 | Train Loss: 0.6170 (Recon: 0.5237, KL: 4.2613) | Val Loss: 0.6000 (Recon: 0.5098, KL: 4.1196)\n",
      "Epoch 230/600 | β: 0.023 | Train Loss: 0.6202 (Recon: 0.5167, KL: 4.5183) | Val Loss: 0.5954 (Recon: 0.4946, KL: 4.4018)\n",
      "Epoch 240/600 | β: 0.024 | Train Loss: 0.6217 (Recon: 0.5106, KL: 4.6496) | Val Loss: 0.5877 (Recon: 0.4796, KL: 4.5204)\n",
      "Epoch 250/600 | β: 0.025 | Train Loss: 0.6167 (Recon: 0.4950, KL: 4.8871) | Val Loss: 0.6086 (Recon: 0.4967, KL: 4.4928)\n",
      "Epoch 260/600 | β: 0.026 | Train Loss: 0.5951 (Recon: 0.4784, KL: 4.5089) | Val Loss: 0.5872 (Recon: 0.4814, KL: 4.0842)\n",
      "Epoch 270/600 | β: 0.027 | Train Loss: 0.6138 (Recon: 0.4934, KL: 4.4733) | Val Loss: 0.5974 (Recon: 0.4754, KL: 4.5329)\n",
      "Epoch 280/600 | β: 0.028 | Train Loss: 0.5981 (Recon: 0.4822, KL: 4.1545) | Val Loss: 0.5792 (Recon: 0.4684, KL: 3.9704)\n",
      "Epoch 290/600 | β: 0.029 | Train Loss: 0.6141 (Recon: 0.4812, KL: 4.5997) | Val Loss: 0.6021 (Recon: 0.4771, KL: 4.3225)\n",
      "Epoch 300/600 | β: 0.030 | Train Loss: 0.6186 (Recon: 0.4905, KL: 4.2838) | Val Loss: 0.5955 (Recon: 0.4623, KL: 4.4545)\n",
      "Epoch 310/600 | β: 0.031 | Train Loss: 0.6173 (Recon: 0.4806, KL: 4.4240) | Val Loss: 0.5900 (Recon: 0.4591, KL: 4.2390)\n",
      "Epoch 320/600 | β: 0.032 | Train Loss: 0.6214 (Recon: 0.4836, KL: 4.3179) | Val Loss: 0.6019 (Recon: 0.4664, KL: 4.2471)\n",
      "Epoch 330/600 | β: 0.033 | Train Loss: 0.6122 (Recon: 0.4686, KL: 4.3669) | Val Loss: 0.5973 (Recon: 0.4571, KL: 4.2611)\n",
      "Epoch 340/600 | β: 0.034 | Train Loss: 0.6266 (Recon: 0.4864, KL: 4.1359) | Val Loss: 0.6010 (Recon: 0.4687, KL: 3.9004)\n",
      "Epoch 350/600 | β: 0.035 | Train Loss: 0.6402 (Recon: 0.4773, KL: 4.6676) | Val Loss: 0.6119 (Recon: 0.4622, KL: 4.2910)\n",
      "Epoch 360/600 | β: 0.036 | Train Loss: 0.6205 (Recon: 0.4614, KL: 4.4298) | Val Loss: 0.6131 (Recon: 0.4644, KL: 4.1410)\n",
      "Epoch 370/600 | β: 0.037 | Train Loss: 0.6313 (Recon: 0.4613, KL: 4.6060) | Val Loss: 0.6132 (Recon: 0.4421, KL: 4.6371)\n",
      "Epoch 380/600 | β: 0.038 | Train Loss: 0.6438 (Recon: 0.4800, KL: 4.3214) | Val Loss: 0.6076 (Recon: 0.4508, KL: 4.1371)\n",
      "Epoch 390/600 | β: 0.039 | Train Loss: 0.6341 (Recon: 0.4734, KL: 4.1312) | Val Loss: 0.6264 (Recon: 0.4728, KL: 3.9496)\n",
      "Epoch 400/600 | β: 0.040 | Train Loss: 0.6406 (Recon: 0.4768, KL: 4.1034) | Val Loss: 0.6253 (Recon: 0.4733, KL: 3.8093)\n",
      "Epoch 410/600 | β: 0.041 | Train Loss: 0.6397 (Recon: 0.4796, KL: 3.9144) | Val Loss: 0.6307 (Recon: 0.4728, KL: 3.8598)\n",
      "Epoch 420/600 | β: 0.042 | Train Loss: 0.6368 (Recon: 0.4663, KL: 4.0700) | Val Loss: 0.6186 (Recon: 0.4522, KL: 3.9709)\n",
      "Epoch 430/600 | β: 0.043 | Train Loss: 0.6349 (Recon: 0.4619, KL: 4.0335) | Val Loss: 0.6263 (Recon: 0.4678, KL: 3.6943)\n",
      "Epoch 440/600 | β: 0.044 | Train Loss: 0.6335 (Recon: 0.4515, KL: 4.1455) | Val Loss: 0.6299 (Recon: 0.4651, KL: 3.7547)\n",
      "Epoch 450/600 | β: 0.045 | Train Loss: 0.6460 (Recon: 0.4694, KL: 3.9325) | Val Loss: 0.6395 (Recon: 0.4704, KL: 3.7667)\n",
      "Epoch 460/600 | β: 0.046 | Train Loss: 0.6642 (Recon: 0.4800, KL: 4.0115) | Val Loss: 0.6427 (Recon: 0.4639, KL: 3.8969)\n",
      "Epoch 470/600 | β: 0.047 | Train Loss: 0.6545 (Recon: 0.4538, KL: 4.2796) | Val Loss: 0.6436 (Recon: 0.4568, KL: 3.9829)\n",
      "Epoch 480/600 | β: 0.048 | Train Loss: 0.6611 (Recon: 0.4686, KL: 4.0179) | Val Loss: 0.6528 (Recon: 0.4728, KL: 3.7574)\n",
      "Epoch 490/600 | β: 0.049 | Train Loss: 0.6609 (Recon: 0.4738, KL: 3.8262) | Val Loss: 0.6445 (Recon: 0.4611, KL: 3.7521)\n",
      "Epoch 500/600 | β: 0.050 | Train Loss: 0.6685 (Recon: 0.4716, KL: 3.9466) | Val Loss: 0.6442 (Recon: 0.4572, KL: 3.7479)\n",
      "Epoch 510/600 | β: 0.051 | Train Loss: 0.6617 (Recon: 0.4704, KL: 3.7582) | Val Loss: 0.6632 (Recon: 0.4886, KL: 3.4291)\n",
      "Epoch 520/600 | β: 0.052 | Train Loss: 0.6429 (Recon: 0.4575, KL: 3.5723) | Val Loss: 0.6483 (Recon: 0.4739, KL: 3.3610)\n",
      "Epoch 530/600 | β: 0.053 | Train Loss: 0.6659 (Recon: 0.4709, KL: 3.6863) | Val Loss: 0.6618 (Recon: 0.4785, KL: 3.4650)\n",
      "Epoch 540/600 | β: 0.054 | Train Loss: 0.6600 (Recon: 0.4652, KL: 3.6124) | Val Loss: 0.6776 (Recon: 0.4987, KL: 3.3189)\n",
      "Epoch 550/600 | β: 0.055 | Train Loss: 0.6777 (Recon: 0.4712, KL: 3.7610) | Val Loss: 0.6708 (Recon: 0.4710, KL: 3.6398)\n",
      "Epoch 560/600 | β: 0.056 | Train Loss: 0.6683 (Recon: 0.4655, KL: 3.6269) | Val Loss: 0.6885 (Recon: 0.4983, KL: 3.4022)\n",
      "Epoch 570/600 | β: 0.057 | Train Loss: 0.6683 (Recon: 0.4577, KL: 3.7013) | Val Loss: 0.6817 (Recon: 0.4960, KL: 3.2625)\n",
      "Epoch 580/600 | β: 0.058 | Train Loss: 0.6693 (Recon: 0.4510, KL: 3.7717) | Val Loss: 0.6652 (Recon: 0.4644, KL: 3.4681)\n",
      "Epoch 590/600 | β: 0.059 | Train Loss: 0.6815 (Recon: 0.4708, KL: 3.5775) | Val Loss: 0.6919 (Recon: 0.4899, KL: 3.4293)\n",
      "Epoch 600/600 | β: 0.060 | Train Loss: 0.6850 (Recon: 0.4650, KL: 3.6726) | Val Loss: 0.6753 (Recon: 0.4618, KL: 3.5638)\n"
     ]
    }
   ],
   "source": [
    "#train_losses, val_losses = train(600, 500, 0.04)\n",
    "train_losses, val_losses = train(600, 600, 0.06)"
   ]
  },
  {
   "cell_type": "markdown",
   "id": "68549efe-8ccf-4412-a9e6-0868f92d4e68",
   "metadata": {
    "id": "68549efe-8ccf-4412-a9e6-0868f92d4e68"
   },
   "source": [
    "## Evaluation"
   ]
  },
  {
   "cell_type": "code",
   "execution_count": 67,
   "id": "55eeb7ee-74d4-4189-bd3a-3e642670e591",
   "metadata": {
    "colab": {
     "base_uri": "https://localhost:8080/",
     "height": 407
    },
    "execution": {
     "iopub.execute_input": "2025-07-01T13:57:56.700230Z",
     "iopub.status.busy": "2025-07-01T13:57:56.699899Z",
     "iopub.status.idle": "2025-07-01T13:57:56.867589Z",
     "shell.execute_reply": "2025-07-01T13:57:56.866842Z",
     "shell.execute_reply.started": "2025-07-01T13:57:56.700202Z"
    },
    "executionInfo": {
     "elapsed": 235,
     "status": "ok",
     "timestamp": 1750953054183,
     "user": {
      "displayName": "Bahne Thiel-Peters",
      "userId": "11084520765208222044"
     },
     "user_tz": -120
    },
    "id": "55eeb7ee-74d4-4189-bd3a-3e642670e591",
    "outputId": "e40abef7-64f9-489b-f9f9-edd55db58589"
   },
   "outputs": [
    {
     "data": {
      "image/png": "[encoded data removed]",
      "text/plain": [
       "<Figure size 600x300 with 1 Axes>"
      ]
     },
     "metadata": {},
     "output_type": "display_data"
    }
   ],
   "source": [
    "plt.figure(figsize=(6, 3))\n",
    "plt.plot(train_losses, label=\"Train Loss\")\n",
    "plt.plot(val_losses, label=\"Validation Loss\")\n",
    "plt.xlabel(\"Epoch\", fontsize=12)\n",
    "plt.ylabel(\"Loss (MSE)\", fontsize=12)\n",
    "plt.legend()\n",
    "plt.grid(True)\n",
    "plt.tight_layout()\n",
    "plt.show()\n"
   ]
  },
  {
   "cell_type": "code",
   "execution_count": 68,
   "id": "a0c60612-6d73-4b01-b394-995b4bea45ee",
   "metadata": {
    "execution": {
     "iopub.execute_input": "2025-07-01T13:57:56.869235Z",
     "iopub.status.busy": "2025-07-01T13:57:56.869008Z",
     "iopub.status.idle": "2025-07-01T13:57:57.492993Z",
     "shell.execute_reply": "2025-07-01T13:57:57.492409Z",
     "shell.execute_reply.started": "2025-07-01T13:57:56.869219Z"
    }
   },
   "outputs": [
    {
     "name": "stdout",
     "output_type": "stream",
     "text": [
      "Std of mu per latent dim:\n",
      "tensor([0.9486, 0.9860, 0.9004])\n",
      "\n",
      "Mean of logvar per latent dim:\n",
      "tensor([-1.9585, -3.0933, -2.0769])\n",
      "\n",
      "Std of logvar per latent dim:\n",
      "tensor([0.3847, 0.5349, 0.3697])\n"
     ]
    }
   ],
   "source": [
    "device = torch.device(\"cuda\" if torch.cuda.is_available() else \"cpu\")\n",
    "model = model.to(device)\n",
    "model.eval()\n",
    "\n",
    "latents_mu = []\n",
    "latents_logvar = []\n",
    "\n",
    "with torch.no_grad():\n",
    "    for batch in test_loader:\n",
    "        x = batch[0].to(device).float()\n",
    "        _, mu, logvar = model(x)\n",
    "        latents_mu.append(mu.cpu())\n",
    "        latents_logvar.append(logvar.cpu())\n",
    "\n",
    "mu_all = torch.cat(latents_mu, dim=0)           # shape: (n_samples, latent_dim)\n",
    "logvar_all = torch.cat(latents_logvar, dim=0)   # shape: (n_samples, latent_dim)\n",
    "\n",
    "# Statistics\n",
    "mu_std = mu_all.std(dim=0)\n",
    "logvar_mean = logvar_all.mean(dim=0)\n",
    "logvar_std = logvar_all.std(dim=0)\n",
    "\n",
    "print(\"Std of mu per latent dim:\")\n",
    "print(mu_std)\n",
    "\n",
    "print(\"\\nMean of logvar per latent dim:\")\n",
    "print(logvar_mean)\n",
    "\n",
    "print(\"\\nStd of logvar per latent dim:\")\n",
    "print(logvar_std)"
   ]
  },
  {
   "cell_type": "code",
   "execution_count": 48,
   "id": "5c1065cd-8915-41bc-817e-157d470d4614",
   "metadata": {
    "execution": {
     "iopub.execute_input": "2025-07-01T12:58:09.445661Z",
     "iopub.status.busy": "2025-07-01T12:58:09.445447Z",
     "iopub.status.idle": "2025-07-01T12:58:09.451870Z",
     "shell.execute_reply": "2025-07-01T12:58:09.451221Z",
     "shell.execute_reply.started": "2025-07-01T12:58:09.445645Z"
    }
   },
   "outputs": [],
   "source": [
    "def get_latents_and_cluster(model, X, k=9, batch_size=512, device=\"cpu\"):\n",
    "    \"\"\"\n",
    "    Computes the latent means (mu) for all inputs and clusters them using KMeans.\n",
    "    \"\"\"\n",
    "\n",
    "    model.eval()\n",
    "    model.to(device)\n",
    "\n",
    "    if isinstance(X, torch.Tensor):\n",
    "        X_tensor = X\n",
    "    else:\n",
    "        X_tensor = torch.tensor(X, dtype=torch.float32)\n",
    "\n",
    "    X_tensor = X_tensor.to(device)\n",
    "    latents = []\n",
    "\n",
    "    with torch.no_grad():\n",
    "        for i in range(0, len(X_tensor), batch_size):\n",
    "            batch = X_tensor[i:i+batch_size]\n",
    "\n",
    "            # VCAE: Encoder + Flatten + fc_shared + fc_mean\n",
    "            h = model.encoder(batch)\n",
    "            h = model.fc_shared(model.flatten(h))\n",
    "            mu = model.fc_mean(h)\n",
    "            latents.append(mu.cpu())\n",
    "\n",
    "    latents = torch.cat(latents, dim=0)\n",
    "\n",
    "    labels = helper_functions.apply_kmeans(latents, k)\n",
    "    labels += 1\n",
    "\n",
    "    return latents, labels\n"
   ]
  },
  {
   "cell_type": "code",
   "execution_count": 69,
   "id": "c0900f0b-2057-4fc5-b583-a0a64b532819",
   "metadata": {
    "execution": {
     "iopub.execute_input": "2025-07-01T13:59:15.236595Z",
     "iopub.status.busy": "2025-07-01T13:59:15.236251Z",
     "iopub.status.idle": "2025-07-01T13:59:15.957771Z",
     "shell.execute_reply": "2025-07-01T13:59:15.957213Z",
     "shell.execute_reply.started": "2025-07-01T13:59:15.236572Z"
    }
   },
   "outputs": [],
   "source": [
    "torch.save(model.state_dict(), \"VCAE.pth\")"
   ]
  }
 ],
 "metadata": {
  "accelerator": "GPU",
  "colab": {
   "gpuType": "T4",
   "provenance": []
  },
  "kaggle": {
   "accelerator": "nvidiaTeslaT4",
   "dataSources": [
    {
     "datasetId": 7749099,
     "sourceId": 12294777,
     "sourceType": "datasetVersion"
    },
    {
     "datasetId": 7749153,
     "sourceId": 12301699,
     "sourceType": "datasetVersion"
    },
    {
     "isSourceIdPinned": true,
     "modelId": 387008,
     "modelInstanceId": 366113,
     "sourceId": 451267,
     "sourceType": "modelInstanceVersion"
    }
   ],
   "dockerImageVersionId": 31040,
   "isGpuEnabled": true,
   "isInternetEnabled": true,
   "language": "python",
   "sourceType": "notebook"
  },
  "kernelspec": {
   "display_name": "Python 3 (ipykernel)",
   "language": "python",
   "name": "python3"
  },
  "language_info": {
   "codemirror_mode": {
    "name": "ipython",
    "version": 3
   },
   "file_extension": ".py",
   "mimetype": "text/x-python",
   "name": "python",
   "nbconvert_exporter": "python",
   "pygments_lexer": "ipython3",
   "version": "3.11.9"
  }
 },
 "nbformat": 4,
 "nbformat_minor": 5
}
