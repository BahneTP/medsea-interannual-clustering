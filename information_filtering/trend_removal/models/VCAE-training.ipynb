{
 "cells": [
  {
   "cell_type": "markdown",
   "id": "4951ac0e-4f7b-4c6d-87e8-fa212d1750a9",
   "metadata": {
    "editable": true,
    "id": "4951ac0e-4f7b-4c6d-87e8-fa212d1750a9",
    "slideshow": {
     "slide_type": ""
    },
    "tags": []
   },
   "source": [
    "# Variational Convolutional Autoencoder\n",
    "\n",
    "This notebook uses a **Convolutional Variational Autoencoder (CVAE)**.  \n",
    "It combines the strengths of a **Convolutional Autoencoder**, which captures local spatial patterns in maps, with the **Variational Autoencoder** approach that maps each input to a smooth probability distribution in latent space.  \n",
    "This way, we compress oceanographic maps into robust, compact representations that stay comparable and regularized.  \n",
    "Masking handles missing or irrelevant regions, and the structured latent space makes it easier to cluster or analyze similar patterns.\n",
    "\n"
   ]
  },
  {
   "cell_type": "code",
   "execution_count": 1,
   "id": "4b2f90b1-6826-4a2b-896b-f0f59aa9999c",
   "metadata": {
    "colab": {
     "base_uri": "https://localhost:8080/"
    },
    "executionInfo": {
     "elapsed": 110274,
     "status": "ok",
     "timestamp": 1750955287591,
     "user": {
      "displayName": "Bahne Thiel-Peters",
      "userId": "11084520765208222044"
     },
     "user_tz": -120
    },
    "id": "4b2f90b1-6826-4a2b-896b-f0f59aa9999c",
    "outputId": "4dec4adf-f65f-4eea-9962-5fa5887df0ec"
   },
   "outputs": [],
   "source": [
    "!pip install -q -r ../../requirements.txt &> /dev/null"
   ]
  },
  {
   "cell_type": "markdown",
   "id": "11a9a3b7-de75-47f5-8e47-612a35397ee0",
   "metadata": {},
   "source": [
    "## Imports"
   ]
  },
  {
   "cell_type": "code",
   "execution_count": 2,
   "id": "7e3c815e-a7d9-46d6-a45d-c64b8ed20a69",
   "metadata": {
    "colab": {
     "base_uri": "https://localhost:8080/"
    },
    "executionInfo": {
     "elapsed": 57,
     "status": "ok",
     "timestamp": 1750955461797,
     "user": {
      "displayName": "Bahne Thiel-Peters",
      "userId": "11084520765208222044"
     },
     "user_tz": -120
    },
    "id": "7e3c815e-a7d9-46d6-a45d-c64b8ed20a69",
    "outputId": "c8c3bc6e-81b3-473b-e58c-d53fa46ceb8b"
   },
   "outputs": [],
   "source": [
    "import xarray as xr\n",
    "import cartopy.crs as ccrs\n",
    "import cartopy.feature as cfeature\n",
    "from ipywidgets import interact, IntSlider\n",
    "\n",
    "import numpy as np\n",
    "import pandas as pd\n",
    "import matplotlib.pyplot as plt\n",
    "import matplotlib.dates as mdates\n",
    "from sklearn.model_selection import train_test_split\n",
    "from sklearn.metrics import mean_squared_error\n",
    "from sklearn.decomposition import PCA\n",
    "\n",
    "import math\n",
    "import torch\n",
    "import torch.nn as nn\n",
    "import torch.nn.functional as F\n",
    "from torch.utils.data import DataLoader, TensorDataset, random_split\n",
    "from torchinfo import summary\n",
    "import random\n",
    "\n",
    "import sys\n",
    "sys.path.append('../..')\n",
    "import helper_functions\n",
    "import importlib\n",
    "importlib.reload(helper_functions)\n",
    "\n",
    "import warnings\n",
    "warnings.filterwarnings(\"ignore\", category=RuntimeWarning)"
   ]
  },
  {
   "cell_type": "code",
   "execution_count": 3,
   "id": "456d58da-0454-4ae0-b025-ea0d3a7f8efd",
   "metadata": {},
   "outputs": [],
   "source": [
    "SEED = 27\n",
    "random.seed(SEED)\n",
    "np.random.seed(SEED)\n",
    "torch.manual_seed(SEED)\n",
    "if torch.cuda.is_available():\n",
    "    torch.cuda.manual_seed(SEED)\n",
    "    torch.cuda.manual_seed_all(SEED)\n",
    "torch.backends.cudnn.deterministic = True\n",
    "torch.backends.cudnn.benchmark = False"
   ]
  },
  {
   "cell_type": "markdown",
   "id": "4f10a58f-d84f-4be4-abeb-478f20b1b76f",
   "metadata": {},
   "source": [
    "Since our ConvNet works with masked map data, it naturally produces some NaNs — that's expected behavior. To avoid flooding the output with warnings, we've disabled them here."
   ]
  },
  {
   "cell_type": "markdown",
   "id": "cec2175a-a4a6-4443-89a4-c30147743c2e",
   "metadata": {
    "id": "cec2175a-a4a6-4443-89a4-c30147743c2e"
   },
   "source": [
    "## Data Loading & Preprocessing"
   ]
  },
  {
   "cell_type": "code",
   "execution_count": 4,
   "id": "25c45eb1-fe33-437d-bb7b-91c8b1a76a99",
   "metadata": {
    "executionInfo": {
     "elapsed": 2945,
     "status": "ok",
     "timestamp": 1750955304911,
     "user": {
      "displayName": "Bahne Thiel-Peters",
      "userId": "11084520765208222044"
     },
     "user_tz": -120
    },
    "id": "25c45eb1-fe33-437d-bb7b-91c8b1a76a99"
   },
   "outputs": [
    {
     "name": "stdout",
     "output_type": "stream",
     "text": [
      "20554.545012 MB\n"
     ]
    }
   ],
   "source": [
    "ds = xr.open_dataset(\"/home/jovyan/spatiotemporal-mining-medsea/data/medsea.nc\")\n",
    "print(ds.nbytes / 1e6, \"MB\")"
   ]
  },
  {
   "cell_type": "code",
   "execution_count": 5,
   "id": "ffe1213c-9dee-4d4e-91d3-012c3db1899c",
   "metadata": {
    "colab": {
     "base_uri": "https://localhost:8080/"
    },
    "executionInfo": {
     "elapsed": 92667,
     "status": "ok",
     "timestamp": 1750955397579,
     "user": {
      "displayName": "Bahne Thiel-Peters",
      "userId": "11084520765208222044"
     },
     "user_tz": -120
    },
    "id": "ffe1213c-9dee-4d4e-91d3-012c3db1899c",
    "outputId": "5e8a58d3-c8db-4111-ec0e-9396fe41a514"
   },
   "outputs": [
    {
     "name": "stdout",
     "output_type": "stream",
     "text": [
      "torch.Size([342, 6, 203, 514])\n"
     ]
    }
   ],
   "source": [
    "X_np, M_np = helper_functions.preprocessing_conv(ds, [\"thetao\", \"so\"], [50, 300, 1000], True, 1)\n",
    "X = torch.tensor(X_np)  # (B, C, H, W)\n",
    "M = torch.tensor(M_np)\n",
    "print(X.shape)"
   ]
  },
  {
   "cell_type": "markdown",
   "id": "bb4956a2-917d-4d60-afc2-410b41767582",
   "metadata": {},
   "source": [
    "Again, we include all depths and features for reconstruction. The difference in our ConvNet is that these features are not simply concatenated, but stacked as channels — similar to how RGB channels work in images. This allows the network to capture spatial relationships between features and depths more effectively, which might be important in our case."
   ]
  },
  {
   "cell_type": "markdown",
   "id": "11779e19-1403-4924-b480-f5457daaee2e",
   "metadata": {
    "id": "11779e19-1403-4924-b480-f5457daaee2e"
   },
   "source": [
    "## Splitting"
   ]
  },
  {
   "cell_type": "code",
   "execution_count": 6,
   "id": "974f3cdc-1c88-4f71-88ee-bb7d3fe13362",
   "metadata": {
    "executionInfo": {
     "elapsed": 20,
     "status": "ok",
     "timestamp": 1750955397581,
     "user": {
      "displayName": "Bahne Thiel-Peters",
      "userId": "11084520765208222044"
     },
     "user_tz": -120
    },
    "id": "974f3cdc-1c88-4f71-88ee-bb7d3fe13362"
   },
   "outputs": [],
   "source": [
    "from torch.utils.data import Dataset\n",
    "\n",
    "class MaskedDataset(Dataset):\n",
    "    def __init__(self, X, M):\n",
    "        self.X = X\n",
    "        self.M = M\n",
    "\n",
    "    def __len__(self):\n",
    "        return self.X.shape[0]\n",
    "\n",
    "    def __getitem__(self, idx):\n",
    "        return self.X[idx], self.M[idx]"
   ]
  },
  {
   "cell_type": "code",
   "execution_count": 7,
   "id": "36cff7de-fbe6-4edb-9c94-5fead6c7a13a",
   "metadata": {
    "executionInfo": {
     "elapsed": 874,
     "status": "ok",
     "timestamp": 1750955398447,
     "user": {
      "displayName": "Bahne Thiel-Peters",
      "userId": "11084520765208222044"
     },
     "user_tz": -120
    },
    "id": "36cff7de-fbe6-4edb-9c94-5fead6c7a13a"
   },
   "outputs": [],
   "source": [
    "full_dataset = MaskedDataset(X_np, M_np)\n",
    "train_size = int(0.9 * len(full_dataset))\n",
    "val_size = len(full_dataset) - train_size\n",
    "\n",
    "generator = torch.Generator().manual_seed(SEED)\n",
    "train_set, val_set = torch.utils.data.random_split(\n",
    "    full_dataset,\n",
    "    [train_size, val_size],\n",
    "    generator=generator\n",
    ")\n",
    "\n",
    "train_loader = DataLoader(train_set, batch_size=32, shuffle=True)\n",
    "test_loader = DataLoader(val_set, batch_size=32)"
   ]
  },
  {
   "cell_type": "markdown",
   "id": "4ed51ed5-9af0-42ad-a1a9-9d9b0b5edfe7",
   "metadata": {
    "id": "4ed51ed5-9af0-42ad-a1a9-9d9b0b5edfe7"
   },
   "source": [
    "## The Architecture"
   ]
  },
  {
   "cell_type": "code",
   "execution_count": 8,
   "id": "BmPchZzRmXID",
   "metadata": {
    "executionInfo": {
     "elapsed": 36,
     "status": "ok",
     "timestamp": 1750955534808,
     "user": {
      "displayName": "Bahne Thiel-Peters",
      "userId": "11084520765208222044"
     },
     "user_tz": -120
    },
    "id": "BmPchZzRmXID"
   },
   "outputs": [],
   "source": [
    "class VCAE(nn.Module):\n",
    "    def __init__(self, in_channels, latent_dim=3, dropout_p=0.1, channels=[32, 64, 128, 256, 512, 1024], input_shape=(203, 514)):\n",
    "        super().__init__()\n",
    "\n",
    "        self.input_shape = input_shape\n",
    "        self.channels = channels\n",
    "\n",
    "        encoder_layers = []\n",
    "        prev_channels = in_channels\n",
    "        h, w = input_shape\n",
    "\n",
    "        for ch in channels:\n",
    "            encoder_layers += [\n",
    "                nn.Conv2d(prev_channels, ch, kernel_size=3, stride=2, padding=1),\n",
    "                nn.InstanceNorm2d(ch),\n",
    "                nn.LeakyReLU(),\n",
    "                nn.Dropout2d(p=dropout_p),\n",
    "            ]\n",
    "            prev_channels = ch\n",
    "            h = math.floor((h + 2 * 1 - 3) / 2 + 1)\n",
    "            w = math.floor((w + 2 * 1 - 3) / 2 + 1)\n",
    "\n",
    "        self.encoder = nn.Sequential(*encoder_layers)\n",
    "        self.unflatten_shape = (channels[-1], h, w)\n",
    "\n",
    "        flat_dim = channels[-1] * h * w\n",
    "        self.flatten = nn.Flatten()\n",
    "        self.fc_shared = nn.Sequential(\n",
    "            nn.Linear(flat_dim, 1024),\n",
    "            nn.LeakyReLU(),\n",
    "            nn.Dropout(p=dropout_p),\n",
    "            nn.Linear(1024, 64),\n",
    "            nn.LeakyReLU(),\n",
    "            nn.Dropout(p=dropout_p),\n",
    "        )\n",
    "        self.fc_mean = nn.Linear(64, latent_dim)\n",
    "        self.fc_logvar = nn.Linear(64, latent_dim)\n",
    "\n",
    "        self.fc_dec = nn.Sequential(\n",
    "            nn.Linear(latent_dim, 64),\n",
    "            nn.LeakyReLU(),\n",
    "            nn.Dropout(p=dropout_p),\n",
    "            nn.Linear(64, 1024),\n",
    "            nn.LeakyReLU(),\n",
    "            nn.Dropout(p=dropout_p),\n",
    "            nn.Linear(1024, flat_dim)\n",
    "        )\n",
    "\n",
    "        decoder_layers = []\n",
    "        rev_channels = list(reversed(channels))\n",
    "        for i in range(len(rev_channels) - 1):\n",
    "            decoder_layers += [\n",
    "                nn.ConvTranspose2d(rev_channels[i], rev_channels[i + 1], kernel_size=3, stride=2, padding=1, output_padding=1),\n",
    "                nn.InstanceNorm2d(rev_channels[i + 1]),\n",
    "                nn.LeakyReLU(),\n",
    "                nn.Dropout2d(p=dropout_p),\n",
    "            ]\n",
    "\n",
    "        decoder_layers += [\n",
    "            nn.ConvTranspose2d(rev_channels[-1], in_channels, kernel_size=3, stride=2, padding=1, output_padding=1)\n",
    "        ]\n",
    "        self.decoder = nn.Sequential(*decoder_layers)\n",
    "\n",
    "    def reparameterize(self, mean, logvar):\n",
    "        std = torch.exp(0.5 * logvar)\n",
    "        eps = torch.randn_like(std)\n",
    "        return mean + eps * std\n",
    "\n",
    "    def forward(self, x, mask=None):\n",
    "        if mask is not None:\n",
    "            x = x * mask\n",
    "        x = self.encoder(x)\n",
    "        h = self.fc_shared(self.flatten(x))\n",
    "        z_mean = self.fc_mean(h)\n",
    "        z_logvar = self.fc_logvar(h)\n",
    "        z = self.reparameterize(z_mean, z_logvar)\n",
    "        x = self.fc_dec(z)\n",
    "        x = x.view(x.size(0), *self.unflatten_shape)\n",
    "        x = self.decoder(x)\n",
    "        return x[:, :, :self.input_shape[0], :self.input_shape[1]], z_mean, z_logvar\n"
   ]
  },
  {
   "cell_type": "markdown",
   "id": "fd997601-9a5d-4a69-a879-fe1c9936e87b",
   "metadata": {
    "jp-MarkdownHeadingCollapsed": true
   },
   "source": [
    "### Convolutional Autoencoder\n",
    "\n",
    "We use a simple convolutional autoencoder that compresses the input maps into a small latent vector and reconstructs them back. The encoder reduces spatial resolution through convolutional layers, while the decoder upsamples the data back using transposed convolutions.\n",
    "\n",
    "I experimented with different numbers of layers, kernel sizes, and dropout values. The current setup gave the best trade-off between reconstruction quality and training stability.\n",
    "\n",
    "\n",
    "### Hard Masking\n",
    "- Since many values in the input maps are invalid (e.g. land areas), we apply a **hard mask** before feeding the data into the encoder.\n",
    "- This mask zeroes out irrelevant values, so the model only learns from valid oceanic regions.\n",
    "- During training, the same mask is applied to the loss function to ensure the model is not penalized for errors in masked-out areas.\n",
    "- This is essential for learning robust spatial patterns without being misled by missing or irrelevant data.\n"
   ]
  },
  {
   "cell_type": "markdown",
   "id": "f9f29428-7c81-4a80-a415-c051c92d86cd",
   "metadata": {
    "id": "f9f29428-7c81-4a80-a415-c051c92d86cd"
   },
   "source": [
    "## Loss Function"
   ]
  },
  {
   "cell_type": "code",
   "execution_count": 9,
   "id": "f36d7cfa-8d22-41f0-a1b0-fb2c31ac8f5e",
   "metadata": {
    "executionInfo": {
     "elapsed": 3,
     "status": "ok",
     "timestamp": 1750955398551,
     "user": {
      "displayName": "Bahne Thiel-Peters",
      "userId": "11084520765208222044"
     },
     "user_tz": -120
    },
    "id": "f36d7cfa-8d22-41f0-a1b0-fb2c31ac8f5e"
   },
   "outputs": [],
   "source": [
    "def masked_recon_loss(x_recon, x_true, mask):\n",
    "    loss = ((x_recon - x_true) ** 2) * mask\n",
    "    return loss.sum() / mask.sum()"
   ]
  },
  {
   "cell_type": "markdown",
   "id": "696eba88-be08-4790-a145-0a3ddeeffaa2",
   "metadata": {
    "id": "696eba88-be08-4790-a145-0a3ddeeffaa2"
   },
   "source": [
    "## Training Loop"
   ]
  },
  {
   "cell_type": "code",
   "execution_count": 10,
   "id": "c8b3e058-34ba-439d-aeda-aa0a21e6dd5e",
   "metadata": {
    "executionInfo": {
     "elapsed": 2,
     "status": "ok",
     "timestamp": 1750955398556,
     "user": {
      "displayName": "Bahne Thiel-Peters",
      "userId": "11084520765208222044"
     },
     "user_tz": -120
    },
    "id": "c8b3e058-34ba-439d-aeda-aa0a21e6dd5e"
   },
   "outputs": [],
   "source": [
    "def train(num_epochs: int, kl_annealing_epochs: int = 50, bint: float = 0.1):\n",
    "    torch.cuda.empty_cache()\n",
    "\n",
    "    train_losses = []\n",
    "    val_losses = []\n",
    "    train_recons = []\n",
    "    val_recons = []\n",
    "    train_kls = []\n",
    "    val_kls = []\n",
    "\n",
    "    for epoch in range(num_epochs):\n",
    "        beta = min(bint, epoch / kl_annealing_epochs * bint)\n",
    "        model.train()\n",
    "        running_train_recon = 0.0\n",
    "        running_train_kl = 0.0\n",
    "\n",
    "        for x, mask in train_loader:\n",
    "            x = x.to(device)\n",
    "            mask = mask.to(device)\n",
    "            optimizer.zero_grad()\n",
    "            x_recon, z_mean, z_logvar = model(x, mask=mask)\n",
    "            kl_loss = -0.5 * torch.sum(1 + z_logvar - z_mean.pow(2) - z_logvar.exp(), dim=1).mean()\n",
    "            recon_loss = masked_recon_loss(x_recon, x, mask)\n",
    "            loss = recon_loss + beta * kl_loss\n",
    "            loss.backward()\n",
    "            optimizer.step()\n",
    "            running_train_recon += recon_loss.item() * x.size(0)\n",
    "            running_train_kl += kl_loss.item() * x.size(0)\n",
    "\n",
    "        train_recon = running_train_recon / len(train_loader.dataset)\n",
    "        train_kl = running_train_kl / len(train_loader.dataset)\n",
    "        train_loss = train_recon + beta * train_kl\n",
    "\n",
    "        train_losses.append(train_loss)\n",
    "        train_recons.append(train_recon)\n",
    "        train_kls.append(train_kl)\n",
    "\n",
    "        model.eval()\n",
    "        running_val_recon = 0.0\n",
    "        running_val_kl = 0.0\n",
    "\n",
    "        with torch.no_grad():\n",
    "            for x, mask in test_loader:\n",
    "                x = x.to(device)\n",
    "                mask = mask.to(device)\n",
    "                x_recon, z_mean, z_logvar = model(x, mask=mask)\n",
    "                kl_loss = -0.5 * torch.sum(1 + z_logvar - z_mean.pow(2) - z_logvar.exp(), dim=1).mean()\n",
    "                recon_loss = masked_recon_loss(x_recon, x, mask)\n",
    "                running_val_recon += recon_loss.item() * x.size(0)\n",
    "                running_val_kl += kl_loss.item() * x.size(0)\n",
    "\n",
    "        val_recon = running_val_recon / len(test_loader.dataset)\n",
    "        val_kl = running_val_kl / len(test_loader.dataset)\n",
    "        val_loss = val_recon + beta * val_kl\n",
    "\n",
    "        val_losses.append(val_loss)\n",
    "        val_recons.append(val_recon)\n",
    "        val_kls.append(val_kl)\n",
    "\n",
    "        if (epoch+1) % 10 == 0:\n",
    "            print(\n",
    "                f\"Epoch {epoch+1}/{num_epochs} | \"\n",
    "                f\"β: {beta:.5f} | \"\n",
    "                f\"Train Loss: {train_loss:.4f} (Recon: {train_recon:.4f}, KL: {train_kl:.4f}) | \"\n",
    "                f\"Val Loss: {val_loss:.4f} (Recon: {val_recon:.4f}, KL: {val_kl:.4f})\"\n",
    "            )\n",
    "\n",
    "    return train_losses, val_losses, train_recons, val_recons, train_kls, val_kls\n"
   ]
  },
  {
   "cell_type": "markdown",
   "id": "bd29feb4-1f80-400e-b1f7-a41f47fcace9",
   "metadata": {
    "id": "bd29feb4-1f80-400e-b1f7-a41f47fcace9"
   },
   "source": [
    "## Setup"
   ]
  },
  {
   "cell_type": "code",
   "execution_count": 11,
   "id": "22fecc03-c5a1-49d2-87d0-9b490e8ff0c2",
   "metadata": {
    "executionInfo": {
     "elapsed": 7,
     "status": "ok",
     "timestamp": 1750955398545,
     "user": {
      "displayName": "Bahne Thiel-Peters",
      "userId": "11084520765208222044"
     },
     "user_tz": -120
    },
    "id": "22fecc03-c5a1-49d2-87d0-9b490e8ff0c2"
   },
   "outputs": [],
   "source": [
    "train_losses = []\n",
    "val_losses = []"
   ]
  },
  {
   "cell_type": "code",
   "execution_count": 12,
   "id": "36mleCQi1wa1",
   "metadata": {
    "colab": {
     "base_uri": "https://localhost:8080/",
     "height": 218
    },
    "executionInfo": {
     "elapsed": 224,
     "status": "error",
     "timestamp": 1750955678818,
     "user": {
      "displayName": "Bahne Thiel-Peters",
      "userId": "11084520765208222044"
     },
     "user_tz": -120
    },
    "id": "36mleCQi1wa1",
    "outputId": "618c29cd-1083-48b1-b84a-7a9790043df4"
   },
   "outputs": [
    {
     "data": {
      "text/plain": [
       "==========================================================================================\n",
       "Layer (type:depth-idx)                   Output Shape              Param #\n",
       "==========================================================================================\n",
       "VCAE                                     [1, 6, 203, 514]          --\n",
       "├─Sequential: 1-1                        [1, 1024, 4, 9]           --\n",
       "│    └─Conv2d: 2-1                       [1, 32, 102, 257]         1,760\n",
       "│    └─InstanceNorm2d: 2-2               [1, 32, 102, 257]         --\n",
       "│    └─LeakyReLU: 2-3                    [1, 32, 102, 257]         --\n",
       "│    └─Dropout2d: 2-4                    [1, 32, 102, 257]         --\n",
       "│    └─Conv2d: 2-5                       [1, 64, 51, 129]          18,496\n",
       "│    └─InstanceNorm2d: 2-6               [1, 64, 51, 129]          --\n",
       "│    └─LeakyReLU: 2-7                    [1, 64, 51, 129]          --\n",
       "│    └─Dropout2d: 2-8                    [1, 64, 51, 129]          --\n",
       "│    └─Conv2d: 2-9                       [1, 128, 26, 65]          73,856\n",
       "│    └─InstanceNorm2d: 2-10              [1, 128, 26, 65]          --\n",
       "│    └─LeakyReLU: 2-11                   [1, 128, 26, 65]          --\n",
       "│    └─Dropout2d: 2-12                   [1, 128, 26, 65]          --\n",
       "│    └─Conv2d: 2-13                      [1, 256, 13, 33]          295,168\n",
       "│    └─InstanceNorm2d: 2-14              [1, 256, 13, 33]          --\n",
       "│    └─LeakyReLU: 2-15                   [1, 256, 13, 33]          --\n",
       "│    └─Dropout2d: 2-16                   [1, 256, 13, 33]          --\n",
       "│    └─Conv2d: 2-17                      [1, 512, 7, 17]           1,180,160\n",
       "│    └─InstanceNorm2d: 2-18              [1, 512, 7, 17]           --\n",
       "│    └─LeakyReLU: 2-19                   [1, 512, 7, 17]           --\n",
       "│    └─Dropout2d: 2-20                   [1, 512, 7, 17]           --\n",
       "│    └─Conv2d: 2-21                      [1, 1024, 4, 9]           4,719,616\n",
       "│    └─InstanceNorm2d: 2-22              [1, 1024, 4, 9]           --\n",
       "│    └─LeakyReLU: 2-23                   [1, 1024, 4, 9]           --\n",
       "│    └─Dropout2d: 2-24                   [1, 1024, 4, 9]           --\n",
       "├─Flatten: 1-2                           [1, 36864]                --\n",
       "├─Sequential: 1-3                        [1, 64]                   --\n",
       "│    └─Linear: 2-25                      [1, 1024]                 37,749,760\n",
       "│    └─LeakyReLU: 2-26                   [1, 1024]                 --\n",
       "│    └─Dropout: 2-27                     [1, 1024]                 --\n",
       "│    └─Linear: 2-28                      [1, 64]                   65,600\n",
       "│    └─LeakyReLU: 2-29                   [1, 64]                   --\n",
       "│    └─Dropout: 2-30                     [1, 64]                   --\n",
       "├─Linear: 1-4                            [1, 3]                    195\n",
       "├─Linear: 1-5                            [1, 3]                    195\n",
       "├─Sequential: 1-6                        [1, 36864]                --\n",
       "│    └─Linear: 2-31                      [1, 64]                   256\n",
       "│    └─LeakyReLU: 2-32                   [1, 64]                   --\n",
       "│    └─Dropout: 2-33                     [1, 64]                   --\n",
       "│    └─Linear: 2-34                      [1, 1024]                 66,560\n",
       "│    └─LeakyReLU: 2-35                   [1, 1024]                 --\n",
       "│    └─Dropout: 2-36                     [1, 1024]                 --\n",
       "│    └─Linear: 2-37                      [1, 36864]                37,785,600\n",
       "├─Sequential: 1-7                        [1, 6, 256, 576]          --\n",
       "│    └─ConvTranspose2d: 2-38             [1, 512, 8, 18]           4,719,104\n",
       "│    └─InstanceNorm2d: 2-39              [1, 512, 8, 18]           --\n",
       "│    └─LeakyReLU: 2-40                   [1, 512, 8, 18]           --\n",
       "│    └─Dropout2d: 2-41                   [1, 512, 8, 18]           --\n",
       "│    └─ConvTranspose2d: 2-42             [1, 256, 16, 36]          1,179,904\n",
       "│    └─InstanceNorm2d: 2-43              [1, 256, 16, 36]          --\n",
       "│    └─LeakyReLU: 2-44                   [1, 256, 16, 36]          --\n",
       "│    └─Dropout2d: 2-45                   [1, 256, 16, 36]          --\n",
       "│    └─ConvTranspose2d: 2-46             [1, 128, 32, 72]          295,040\n",
       "│    └─InstanceNorm2d: 2-47              [1, 128, 32, 72]          --\n",
       "│    └─LeakyReLU: 2-48                   [1, 128, 32, 72]          --\n",
       "│    └─Dropout2d: 2-49                   [1, 128, 32, 72]          --\n",
       "│    └─ConvTranspose2d: 2-50             [1, 64, 64, 144]          73,792\n",
       "│    └─InstanceNorm2d: 2-51              [1, 64, 64, 144]          --\n",
       "│    └─LeakyReLU: 2-52                   [1, 64, 64, 144]          --\n",
       "│    └─Dropout2d: 2-53                   [1, 64, 64, 144]          --\n",
       "│    └─ConvTranspose2d: 2-54             [1, 32, 128, 288]         18,464\n",
       "│    └─InstanceNorm2d: 2-55              [1, 32, 128, 288]         --\n",
       "│    └─LeakyReLU: 2-56                   [1, 32, 128, 288]         --\n",
       "│    └─Dropout2d: 2-57                   [1, 32, 128, 288]         --\n",
       "│    └─ConvTranspose2d: 2-58             [1, 6, 256, 576]          1,734\n",
       "==========================================================================================\n",
       "Total params: 88,245,260\n",
       "Trainable params: 88,245,260\n",
       "Non-trainable params: 0\n",
       "Total mult-adds (Units.GIGABYTES): 4.46\n",
       "==========================================================================================\n",
       "Input size (MB): 2.50\n",
       "Forward/backward pass size (MB): 39.15\n",
       "Params size (MB): 352.98\n",
       "Estimated Total Size (MB): 394.63\n",
       "=========================================================================================="
      ]
     },
     "execution_count": 12,
     "metadata": {},
     "output_type": "execute_result"
    }
   ],
   "source": [
    "torch.cuda.empty_cache()\n",
    "# torch.cuda.reset_peak_memory_stats()\n",
    "device = torch.device(\"cuda\" if torch.cuda.is_available() else \"cpu\")\n",
    "\n",
    "model = VCAE(in_channels=X_np.shape[1], latent_dim=3, dropout_p=0.1, channels= [32, 64, 128, 256, 512, 1024]).to(device)\n",
    "optimizer = torch.optim.Adam(model.parameters(), lr=0.0004)\n",
    "\n",
    "summary(model, input_size=(1, X_np.shape[1], 203, 514))"
   ]
  },
  {
   "cell_type": "code",
   "execution_count": 13,
   "id": "PUQ6KPZs2CZL",
   "metadata": {
    "editable": true,
    "id": "PUQ6KPZs2CZL",
    "slideshow": {
     "slide_type": ""
    },
    "tags": []
   },
   "outputs": [
    {
     "name": "stdout",
     "output_type": "stream",
     "text": [
      "Epoch 10/1000 | β: 0.00060 | Train Loss: 1.0022 (Recon: 1.0022, KL: 0.0017) | Val Loss: 0.9905 (Recon: 0.9905, KL: 0.0001)\n",
      "Epoch 20/1000 | β: 0.00127 | Train Loss: 1.0019 (Recon: 1.0019, KL: 0.0018) | Val Loss: 0.9900 (Recon: 0.9900, KL: 0.0004)\n",
      "Epoch 30/1000 | β: 0.00193 | Train Loss: 1.0017 (Recon: 1.0017, KL: 0.0017) | Val Loss: 0.9896 (Recon: 0.9896, KL: 0.0011)\n",
      "Epoch 40/1000 | β: 0.00260 | Train Loss: 1.0015 (Recon: 1.0015, KL: 0.0018) | Val Loss: 0.9894 (Recon: 0.9894, KL: 0.0014)\n",
      "Epoch 50/1000 | β: 0.00327 | Train Loss: 1.0014 (Recon: 1.0014, KL: 0.0072) | Val Loss: 0.9898 (Recon: 0.9898, KL: 0.0029)\n",
      "Epoch 60/1000 | β: 0.00393 | Train Loss: 1.0012 (Recon: 1.0011, KL: 0.0341) | Val Loss: 0.9890 (Recon: 0.9889, KL: 0.0249)\n",
      "Epoch 70/1000 | β: 0.00460 | Train Loss: 0.9993 (Recon: 0.9969, KL: 0.5142) | Val Loss: 0.9862 (Recon: 0.9853, KL: 0.2061)\n",
      "Epoch 80/1000 | β: 0.00527 | Train Loss: 0.9735 (Recon: 0.9663, KL: 1.3654) | Val Loss: 0.9676 (Recon: 0.9593, KL: 1.5692)\n",
      "Epoch 90/1000 | β: 0.00593 | Train Loss: 0.9519 (Recon: 0.9424, KL: 1.5883) | Val Loss: 0.9475 (Recon: 0.9387, KL: 1.4830)\n",
      "Epoch 100/1000 | β: 0.00660 | Train Loss: 0.9385 (Recon: 0.9265, KL: 1.8118) | Val Loss: 0.9396 (Recon: 0.9283, KL: 1.7229)\n",
      "Epoch 110/1000 | β: 0.00727 | Train Loss: 0.9192 (Recon: 0.9044, KL: 2.0450) | Val Loss: 0.9117 (Recon: 0.8983, KL: 1.8515)\n",
      "Epoch 120/1000 | β: 0.00793 | Train Loss: 0.9029 (Recon: 0.8776, KL: 3.1974) | Val Loss: 0.8832 (Recon: 0.8609, KL: 2.8199)\n",
      "Epoch 130/1000 | β: 0.00860 | Train Loss: 0.8717 (Recon: 0.8422, KL: 3.4244) | Val Loss: 0.8417 (Recon: 0.8092, KL: 3.7766)\n",
      "Epoch 140/1000 | β: 0.00927 | Train Loss: 0.8500 (Recon: 0.8111, KL: 4.1927) | Val Loss: 0.8199 (Recon: 0.7806, KL: 4.2427)\n",
      "Epoch 150/1000 | β: 0.00993 | Train Loss: 0.8281 (Recon: 0.7842, KL: 4.4239) | Val Loss: 0.7996 (Recon: 0.7581, KL: 4.1796)\n",
      "Epoch 160/1000 | β: 0.01060 | Train Loss: 0.8073 (Recon: 0.7595, KL: 4.5127) | Val Loss: 0.7783 (Recon: 0.7278, KL: 4.7642)\n",
      "Epoch 170/1000 | β: 0.01127 | Train Loss: 0.7823 (Recon: 0.7299, KL: 4.6448) | Val Loss: 0.7554 (Recon: 0.7007, KL: 4.8539)\n",
      "Epoch 180/1000 | β: 0.01193 | Train Loss: 0.7795 (Recon: 0.7214, KL: 4.8740) | Val Loss: 0.7424 (Recon: 0.6838, KL: 4.9099)\n",
      "Epoch 190/1000 | β: 0.01260 | Train Loss: 0.7765 (Recon: 0.7146, KL: 4.9116) | Val Loss: 0.7425 (Recon: 0.6788, KL: 5.0575)\n",
      "Epoch 200/1000 | β: 0.01327 | Train Loss: 0.7579 (Recon: 0.6920, KL: 4.9673) | Val Loss: 0.7555 (Recon: 0.6854, KL: 5.2840)\n",
      "Epoch 210/1000 | β: 0.01393 | Train Loss: 0.7424 (Recon: 0.6712, KL: 5.1076) | Val Loss: 0.7178 (Recon: 0.6483, KL: 4.9888)\n",
      "Epoch 220/1000 | β: 0.01460 | Train Loss: 0.7428 (Recon: 0.6689, KL: 5.0645) | Val Loss: 0.7273 (Recon: 0.6484, KL: 5.4043)\n",
      "Epoch 230/1000 | β: 0.01527 | Train Loss: 0.7342 (Recon: 0.6550, KL: 5.1851) | Val Loss: 0.7171 (Recon: 0.6350, KL: 5.3723)\n",
      "Epoch 240/1000 | β: 0.01593 | Train Loss: 0.7289 (Recon: 0.6499, KL: 4.9569) | Val Loss: 0.7557 (Recon: 0.6736, KL: 5.1541)\n",
      "Epoch 250/1000 | β: 0.01660 | Train Loss: 0.7449 (Recon: 0.6511, KL: 5.6473) | Val Loss: 0.7375 (Recon: 0.6441, KL: 5.6268)\n",
      "Epoch 260/1000 | β: 0.01727 | Train Loss: 0.7251 (Recon: 0.6381, KL: 5.0385) | Val Loss: 0.7332 (Recon: 0.6427, KL: 5.2461)\n",
      "Epoch 270/1000 | β: 0.01793 | Train Loss: 0.7332 (Recon: 0.6426, KL: 5.0500) | Val Loss: 0.7309 (Recon: 0.6377, KL: 5.1973)\n",
      "Epoch 280/1000 | β: 0.01860 | Train Loss: 0.7185 (Recon: 0.6267, KL: 4.9379) | Val Loss: 0.7148 (Recon: 0.6191, KL: 5.1416)\n",
      "Epoch 290/1000 | β: 0.01927 | Train Loss: 0.7204 (Recon: 0.6217, KL: 5.1234) | Val Loss: 0.7166 (Recon: 0.6166, KL: 5.1874)\n",
      "Epoch 300/1000 | β: 0.01993 | Train Loss: 0.7192 (Recon: 0.6221, KL: 4.8718) | Val Loss: 0.7123 (Recon: 0.6132, KL: 4.9707)\n",
      "Epoch 310/1000 | β: 0.02060 | Train Loss: 0.7093 (Recon: 0.6083, KL: 4.9045) | Val Loss: 0.7160 (Recon: 0.6131, KL: 4.9942)\n",
      "Epoch 320/1000 | β: 0.02127 | Train Loss: 0.7300 (Recon: 0.6216, KL: 5.0970) | Val Loss: 0.7363 (Recon: 0.6323, KL: 4.8924)\n",
      "Epoch 330/1000 | β: 0.02193 | Train Loss: 0.7065 (Recon: 0.6018, KL: 4.7729) | Val Loss: 0.7210 (Recon: 0.6118, KL: 4.9820)\n",
      "Epoch 340/1000 | β: 0.02260 | Train Loss: 0.7139 (Recon: 0.6025, KL: 4.9278) | Val Loss: 0.7188 (Recon: 0.6023, KL: 5.1556)\n",
      "Epoch 350/1000 | β: 0.02327 | Train Loss: 0.7124 (Recon: 0.5973, KL: 4.9476) | Val Loss: 0.7232 (Recon: 0.6067, KL: 5.0052)\n",
      "Epoch 360/1000 | β: 0.02393 | Train Loss: 0.7170 (Recon: 0.5961, KL: 5.0540) | Val Loss: 0.7096 (Recon: 0.5892, KL: 5.0327)\n",
      "Epoch 370/1000 | β: 0.02460 | Train Loss: 0.7115 (Recon: 0.5888, KL: 4.9866) | Val Loss: 0.7230 (Recon: 0.5978, KL: 5.0888)\n",
      "Epoch 380/1000 | β: 0.02527 | Train Loss: 0.7070 (Recon: 0.5822, KL: 4.9380) | Val Loss: 0.7174 (Recon: 0.5863, KL: 5.1904)\n",
      "Epoch 390/1000 | β: 0.02593 | Train Loss: 0.7150 (Recon: 0.5893, KL: 4.8469) | Val Loss: 0.7221 (Recon: 0.5914, KL: 5.0429)\n",
      "Epoch 400/1000 | β: 0.02660 | Train Loss: 0.7638 (Recon: 0.6118, KL: 5.7175) | Val Loss: 0.7634 (Recon: 0.5948, KL: 6.3381)\n",
      "Epoch 410/1000 | β: 0.02727 | Train Loss: 0.7194 (Recon: 0.5903, KL: 4.7354) | Val Loss: 0.7114 (Recon: 0.5778, KL: 4.8966)\n",
      "Epoch 420/1000 | β: 0.02793 | Train Loss: 0.7286 (Recon: 0.5925, KL: 4.8708) | Val Loss: 0.7192 (Recon: 0.5814, KL: 4.9312)\n",
      "Epoch 430/1000 | β: 0.02860 | Train Loss: 0.7058 (Recon: 0.5671, KL: 4.8511) | Val Loss: 0.7084 (Recon: 0.5723, KL: 4.7581)\n",
      "Epoch 440/1000 | β: 0.02927 | Train Loss: 0.7190 (Recon: 0.5765, KL: 4.8699) | Val Loss: 0.7357 (Recon: 0.5824, KL: 5.2373)\n",
      "Epoch 450/1000 | β: 0.02993 | Train Loss: 0.7059 (Recon: 0.5651, KL: 4.7031) | Val Loss: 0.7243 (Recon: 0.5810, KL: 4.7873)\n",
      "Epoch 460/1000 | β: 0.03060 | Train Loss: 0.7244 (Recon: 0.5840, KL: 4.5900) | Val Loss: 0.7322 (Recon: 0.5832, KL: 4.8679)\n",
      "Epoch 470/1000 | β: 0.03127 | Train Loss: 0.7146 (Recon: 0.5706, KL: 4.6059) | Val Loss: 0.7121 (Recon: 0.5609, KL: 4.8357)\n",
      "Epoch 480/1000 | β: 0.03193 | Train Loss: 0.7273 (Recon: 0.5741, KL: 4.7994) | Val Loss: 0.7642 (Recon: 0.6048, KL: 4.9911)\n",
      "Epoch 490/1000 | β: 0.03260 | Train Loss: 0.7096 (Recon: 0.5565, KL: 4.6964) | Val Loss: 0.7385 (Recon: 0.5810, KL: 4.8324)\n",
      "Epoch 500/1000 | β: 0.03327 | Train Loss: 0.7136 (Recon: 0.5552, KL: 4.7623) | Val Loss: 0.7357 (Recon: 0.5771, KL: 4.7667)\n",
      "Epoch 510/1000 | β: 0.03393 | Train Loss: 0.7185 (Recon: 0.5576, KL: 4.7411) | Val Loss: 0.7131 (Recon: 0.5551, KL: 4.6550)\n",
      "Epoch 520/1000 | β: 0.03460 | Train Loss: 0.7310 (Recon: 0.5615, KL: 4.8988) | Val Loss: 0.7545 (Recon: 0.5867, KL: 4.8500)\n",
      "Epoch 530/1000 | β: 0.03527 | Train Loss: 0.7358 (Recon: 0.5587, KL: 5.0224) | Val Loss: 0.7543 (Recon: 0.5827, KL: 4.8665)\n",
      "Epoch 540/1000 | β: 0.03593 | Train Loss: 0.7267 (Recon: 0.5535, KL: 4.8192) | Val Loss: 0.7316 (Recon: 0.5613, KL: 4.7393)\n",
      "Epoch 550/1000 | β: 0.03660 | Train Loss: 0.7193 (Recon: 0.5504, KL: 4.6153) | Val Loss: 0.7437 (Recon: 0.5749, KL: 4.6128)\n",
      "Epoch 560/1000 | β: 0.03727 | Train Loss: 0.7282 (Recon: 0.5541, KL: 4.6709) | Val Loss: 0.7778 (Recon: 0.5936, KL: 4.9422)\n",
      "Epoch 570/1000 | β: 0.03793 | Train Loss: 0.7159 (Recon: 0.5413, KL: 4.6041) | Val Loss: 0.7917 (Recon: 0.6107, KL: 4.7722)\n",
      "Epoch 580/1000 | β: 0.03860 | Train Loss: 0.7142 (Recon: 0.5348, KL: 4.6452) | Val Loss: 0.7466 (Recon: 0.5641, KL: 4.7283)\n",
      "Epoch 590/1000 | β: 0.03927 | Train Loss: 0.7774 (Recon: 0.6002, KL: 4.5116) | Val Loss: 0.7911 (Recon: 0.6235, KL: 4.2687)\n",
      "Epoch 600/1000 | β: 0.03993 | Train Loss: 0.7540 (Recon: 0.5698, KL: 4.6136) | Val Loss: 0.7828 (Recon: 0.5969, KL: 4.6560)\n",
      "Epoch 610/1000 | β: 0.04000 | Train Loss: 0.7500 (Recon: 0.5720, KL: 4.4510) | Val Loss: 0.8077 (Recon: 0.6260, KL: 4.5426)\n",
      "Epoch 620/1000 | β: 0.04000 | Train Loss: 0.7356 (Recon: 0.5521, KL: 4.5879) | Val Loss: 0.7823 (Recon: 0.5951, KL: 4.6794)\n",
      "Epoch 630/1000 | β: 0.04000 | Train Loss: 0.7402 (Recon: 0.5597, KL: 4.5122) | Val Loss: 0.7641 (Recon: 0.5864, KL: 4.4422)\n",
      "Epoch 640/1000 | β: 0.04000 | Train Loss: 0.7215 (Recon: 0.5462, KL: 4.3813) | Val Loss: 0.7513 (Recon: 0.5761, KL: 4.3803)\n",
      "Epoch 650/1000 | β: 0.04000 | Train Loss: 0.7253 (Recon: 0.5425, KL: 4.5684) | Val Loss: 0.7531 (Recon: 0.5685, KL: 4.6148)\n",
      "Epoch 660/1000 | β: 0.04000 | Train Loss: 0.8931 (Recon: 0.6922, KL: 5.0227) | Val Loss: 0.8766 (Recon: 0.6807, KL: 4.8965)\n",
      "Epoch 670/1000 | β: 0.04000 | Train Loss: 0.8468 (Recon: 0.6517, KL: 4.8778) | Val Loss: 0.8265 (Recon: 0.6212, KL: 5.1318)\n",
      "Epoch 680/1000 | β: 0.04000 | Train Loss: 0.7937 (Recon: 0.6174, KL: 4.4073) | Val Loss: 0.8028 (Recon: 0.6190, KL: 4.5964)\n",
      "Epoch 690/1000 | β: 0.04000 | Train Loss: 0.8167 (Recon: 0.6182, KL: 4.9630) | Val Loss: 0.8122 (Recon: 0.6091, KL: 5.0771)\n",
      "Epoch 700/1000 | β: 0.04000 | Train Loss: 0.9048 (Recon: 0.6193, KL: 7.1374) | Val Loss: 0.9053 (Recon: 0.6147, KL: 7.2660)\n",
      "Epoch 710/1000 | β: 0.04000 | Train Loss: 0.8401 (Recon: 0.5995, KL: 6.0147) | Val Loss: 0.8659 (Recon: 0.6173, KL: 6.2139)\n",
      "Epoch 720/1000 | β: 0.04000 | Train Loss: 0.8308 (Recon: 0.6094, KL: 5.5351) | Val Loss: 0.8379 (Recon: 0.6132, KL: 5.6165)\n",
      "Epoch 730/1000 | β: 0.04000 | Train Loss: 0.7894 (Recon: 0.5882, KL: 5.0294) | Val Loss: 0.8255 (Recon: 0.6137, KL: 5.2939)\n",
      "Epoch 740/1000 | β: 0.04000 | Train Loss: 0.7860 (Recon: 0.5842, KL: 5.0451) | Val Loss: 0.8216 (Recon: 0.6124, KL: 5.2296)\n",
      "Epoch 750/1000 | β: 0.04000 | Train Loss: 0.8014 (Recon: 0.6056, KL: 4.8956) | Val Loss: 0.8062 (Recon: 0.6039, KL: 5.0574)\n",
      "Epoch 760/1000 | β: 0.04000 | Train Loss: 0.7789 (Recon: 0.5854, KL: 4.8360) | Val Loss: 0.8336 (Recon: 0.6297, KL: 5.0964)\n",
      "Epoch 770/1000 | β: 0.04000 | Train Loss: 0.7818 (Recon: 0.5868, KL: 4.8751) | Val Loss: 0.8292 (Recon: 0.6284, KL: 5.0192)\n",
      "Epoch 780/1000 | β: 0.04000 | Train Loss: 0.7880 (Recon: 0.5629, KL: 5.6289) | Val Loss: 0.8347 (Recon: 0.6064, KL: 5.7065)\n",
      "Epoch 790/1000 | β: 0.04000 | Train Loss: 0.7733 (Recon: 0.5763, KL: 4.9261) | Val Loss: 0.8059 (Recon: 0.6059, KL: 5.0010)\n",
      "Epoch 800/1000 | β: 0.04000 | Train Loss: 0.7691 (Recon: 0.5778, KL: 4.7824) | Val Loss: 0.8360 (Recon: 0.6385, KL: 4.9384)\n",
      "Epoch 810/1000 | β: 0.04000 | Train Loss: 0.7731 (Recon: 0.5817, KL: 4.7873) | Val Loss: 0.8145 (Recon: 0.6191, KL: 4.8844)\n",
      "Epoch 820/1000 | β: 0.04000 | Train Loss: 0.7512 (Recon: 0.5614, KL: 4.7465) | Val Loss: 0.7879 (Recon: 0.5934, KL: 4.8628)\n",
      "Epoch 830/1000 | β: 0.04000 | Train Loss: 0.7579 (Recon: 0.5695, KL: 4.7113) | Val Loss: 0.8170 (Recon: 0.6265, KL: 4.7632)\n",
      "Epoch 840/1000 | β: 0.04000 | Train Loss: 0.7508 (Recon: 0.5614, KL: 4.7352) | Val Loss: 0.7864 (Recon: 0.5962, KL: 4.7551)\n",
      "Epoch 850/1000 | β: 0.04000 | Train Loss: 0.7467 (Recon: 0.5568, KL: 4.7478) | Val Loss: 0.7979 (Recon: 0.6014, KL: 4.9139)\n",
      "Epoch 860/1000 | β: 0.04000 | Train Loss: 0.7470 (Recon: 0.5563, KL: 4.7666) | Val Loss: 0.7973 (Recon: 0.6022, KL: 4.8761)\n",
      "Epoch 870/1000 | β: 0.04000 | Train Loss: 0.7470 (Recon: 0.5579, KL: 4.7289) | Val Loss: 0.8127 (Recon: 0.6218, KL: 4.7728)\n",
      "Epoch 880/1000 | β: 0.04000 | Train Loss: 0.7381 (Recon: 0.5499, KL: 4.7066) | Val Loss: 0.7798 (Recon: 0.5870, KL: 4.8195)\n",
      "Epoch 890/1000 | β: 0.04000 | Train Loss: 0.7302 (Recon: 0.5411, KL: 4.7288) | Val Loss: 0.7856 (Recon: 0.5953, KL: 4.7574)\n",
      "Epoch 900/1000 | β: 0.04000 | Train Loss: 0.7369 (Recon: 0.5416, KL: 4.8836) | Val Loss: 0.7729 (Recon: 0.5803, KL: 4.8150)\n",
      "Epoch 910/1000 | β: 0.04000 | Train Loss: 0.7439 (Recon: 0.5549, KL: 4.7249) | Val Loss: 0.8063 (Recon: 0.6136, KL: 4.8185)\n",
      "Epoch 920/1000 | β: 0.04000 | Train Loss: 0.7462 (Recon: 0.5570, KL: 4.7290) | Val Loss: 0.8043 (Recon: 0.6079, KL: 4.9104)\n",
      "Epoch 930/1000 | β: 0.04000 | Train Loss: 0.7302 (Recon: 0.5363, KL: 4.8472) | Val Loss: 0.7836 (Recon: 0.5916, KL: 4.8016)\n",
      "Epoch 940/1000 | β: 0.04000 | Train Loss: 0.7349 (Recon: 0.5432, KL: 4.7919) | Val Loss: 0.7896 (Recon: 0.5955, KL: 4.8527)\n",
      "Epoch 950/1000 | β: 0.04000 | Train Loss: 0.7287 (Recon: 0.5402, KL: 4.7137) | Val Loss: 0.7699 (Recon: 0.5778, KL: 4.8010)\n",
      "Epoch 960/1000 | β: 0.04000 | Train Loss: 0.7254 (Recon: 0.5377, KL: 4.6942) | Val Loss: 0.7858 (Recon: 0.5949, KL: 4.7714)\n",
      "Epoch 970/1000 | β: 0.04000 | Train Loss: 0.8346 (Recon: 0.5575, KL: 6.9272) | Val Loss: 0.8722 (Recon: 0.5940, KL: 6.9553)\n",
      "Epoch 980/1000 | β: 0.04000 | Train Loss: 0.7993 (Recon: 0.5568, KL: 6.0625) | Val Loss: 0.8489 (Recon: 0.6025, KL: 6.1590)\n",
      "Epoch 990/1000 | β: 0.04000 | Train Loss: 0.7666 (Recon: 0.5413, KL: 5.6328) | Val Loss: 0.8597 (Recon: 0.6311, KL: 5.7153)\n",
      "Epoch 1000/1000 | β: 0.04000 | Train Loss: 0.7484 (Recon: 0.5361, KL: 5.3070) | Val Loss: 0.8072 (Recon: 0.5917, KL: 5.3875)\n"
     ]
    }
   ],
   "source": [
    "# train_losses, val_losses, train_recons, val_recons, train_kls, val_kls = train(800, 600, 0.02)\n",
    "train_losses, val_losses, train_recons, val_recons, train_kls, val_kls = train(1000, 600, 0.04)"
   ]
  },
  {
   "cell_type": "markdown",
   "id": "68549efe-8ccf-4412-a9e6-0868f92d4e68",
   "metadata": {
    "id": "68549efe-8ccf-4412-a9e6-0868f92d4e68"
   },
   "source": [
    "## Evaluation"
   ]
  },
  {
   "cell_type": "code",
   "execution_count": 14,
   "id": "55eeb7ee-74d4-4189-bd3a-3e642670e591",
   "metadata": {
    "colab": {
     "base_uri": "https://localhost:8080/",
     "height": 407
    },
    "executionInfo": {
     "elapsed": 235,
     "status": "ok",
     "timestamp": 1750953054183,
     "user": {
      "displayName": "Bahne Thiel-Peters",
      "userId": "11084520765208222044"
     },
     "user_tz": -120
    },
    "id": "55eeb7ee-74d4-4189-bd3a-3e642670e591",
    "outputId": "e40abef7-64f9-489b-f9f9-edd55db58589"
   },
   "outputs": [
    {
     "data": {
      "image/png": "[encoded data removed]",
      "text/plain": [
       "<Figure size 600x300 with 1 Axes>"
      ]
     },
     "metadata": {},
     "output_type": "display_data"
    },
    {
     "data": {
      "image/png": "[encoded data removed]",
      "text/plain": [
       "<Figure size 600x300 with 1 Axes>"
      ]
     },
     "metadata": {},
     "output_type": "display_data"
    },
    {
     "data": {
      "image/png": "[encoded data removed]",
      "text/plain": [
       "<Figure size 600x300 with 1 Axes>"
      ]
     },
     "metadata": {},
     "output_type": "display_data"
    }
   ],
   "source": [
    "train_losses2 = [min(x,1) for x in train_losses]\n",
    "val_losses2 = [min(x,2) for x in val_losses]\n",
    "helper_functions.plot_metrics([(train_losses2, \"Train Loss\"), (val_losses2, \"Validation Loss\")], \"Loss\")\n",
    "helper_functions.plot_metrics([(train_recons, \"Train MSE-Scores\"), (val_recons, \"Validation MSE-Scores\")], \"MSE-Scores\")\n",
    "train_kls2 = [min(x,7) for x in train_kls]\n",
    "val_kls2 = [min(x,7) for x in val_kls]\n",
    "helper_functions.plot_metrics([(train_kls2, \"Train KL-Scores\"), (val_kls2, \"Validation KL-Scores\")], \"KL-Scores\")"
   ]
  },
  {
   "cell_type": "code",
   "execution_count": 15,
   "id": "a0c60612-6d73-4b01-b394-995b4bea45ee",
   "metadata": {},
   "outputs": [
    {
     "name": "stdout",
     "output_type": "stream",
     "text": [
      "Std of mu per latent dim:\n",
      "tensor([0.9739, 0.8940, 0.0153])\n",
      "\n",
      "Mean of logvar per latent dim:\n",
      "tensor([-4.5693, -6.1641, -0.0441])\n",
      "\n",
      "Std of logvar per latent dim:\n",
      "tensor([1.0142, 1.6263, 0.0424])\n"
     ]
    }
   ],
   "source": [
    "device = torch.device(\"cuda\" if torch.cuda.is_available() else \"cpu\")\n",
    "model = model.to(device)\n",
    "model.eval()\n",
    "\n",
    "latents_mu = []\n",
    "latents_logvar = []\n",
    "\n",
    "with torch.no_grad():\n",
    "    for batch in train_loader:\n",
    "        x = batch[0].to(device).float()\n",
    "        _, mu, logvar = model(x)\n",
    "        latents_mu.append(mu.cpu())\n",
    "        latents_logvar.append(logvar.cpu())\n",
    "\n",
    "mu_all = torch.cat(latents_mu, dim=0)           # shape: (n_samples, latent_dim)\n",
    "logvar_all = torch.cat(latents_logvar, dim=0)   # shape: (n_samples, latent_dim)\n",
    "\n",
    "# Statistics\n",
    "mu_std = mu_all.std(dim=0)\n",
    "logvar_mean = logvar_all.mean(dim=0)\n",
    "logvar_std = logvar_all.std(dim=0)\n",
    "\n",
    "print(\"Std of mu per latent dim:\")\n",
    "print(mu_std)\n",
    "\n",
    "print(\"\\nMean of logvar per latent dim:\")\n",
    "print(logvar_mean)\n",
    "\n",
    "print(\"\\nStd of logvar per latent dim:\")\n",
    "print(logvar_std)"
   ]
  },
  {
   "cell_type": "code",
   "execution_count": 16,
   "id": "5c1065cd-8915-41bc-817e-157d470d4614",
   "metadata": {},
   "outputs": [],
   "source": [
    "def get_latents_and_cluster(model, X, k=9, batch_size=512, device=\"cpu\"):\n",
    "    \"\"\"\n",
    "    Computes the latent means (mu) for all inputs and clusters them using KMeans.\n",
    "    \"\"\"\n",
    "\n",
    "    model.eval()\n",
    "    model.to(device)\n",
    "\n",
    "    if isinstance(X, torch.Tensor):\n",
    "        X_tensor = X\n",
    "    else:\n",
    "        X_tensor = torch.tensor(X, dtype=torch.float32)\n",
    "\n",
    "    X_tensor = X_tensor.to(device)\n",
    "    latents = []\n",
    "\n",
    "    with torch.no_grad():\n",
    "        for i in range(0, len(X_tensor), batch_size):\n",
    "            batch = X_tensor[i:i+batch_size]\n",
    "\n",
    "            # VCAE: Encoder + Flatten + fc_shared + fc_mean\n",
    "            h = model.encoder(batch)\n",
    "            h = model.fc_shared(model.flatten(h))\n",
    "            mu = model.fc_mean(h)\n",
    "            latents.append(mu.cpu())\n",
    "\n",
    "    latents = torch.cat(latents, dim=0)\n",
    "\n",
    "    labels = helper_functions.apply_kmeans(latents, k)\n",
    "    labels += 1\n",
    "\n",
    "    return latents, labels\n"
   ]
  },
  {
   "cell_type": "code",
   "execution_count": 17,
   "id": "c0900f0b-2057-4fc5-b583-a0a64b532819",
   "metadata": {},
   "outputs": [],
   "source": [
    "torch.save(model.state_dict(), \"VCAE3.pth\")"
   ]
  }
 ],
 "metadata": {
  "accelerator": "GPU",
  "colab": {
   "gpuType": "T4",
   "provenance": []
  },
  "kaggle": {
   "accelerator": "nvidiaTeslaT4",
   "dataSources": [
    {
     "datasetId": 7749099,
     "sourceId": 12294777,
     "sourceType": "datasetVersion"
    },
    {
     "datasetId": 7749153,
     "sourceId": 12301699,
     "sourceType": "datasetVersion"
    },
    {
     "isSourceIdPinned": true,
     "modelId": 387008,
     "modelInstanceId": 366113,
     "sourceId": 451267,
     "sourceType": "modelInstanceVersion"
    }
   ],
   "dockerImageVersionId": 31040,
   "isGpuEnabled": true,
   "isInternetEnabled": true,
   "language": "python",
   "sourceType": "notebook"
  },
  "kernelspec": {
   "display_name": "Python 3 (ipykernel)",
   "language": "python",
   "name": "python3"
  },
  "language_info": {
   "codemirror_mode": {
    "name": "ipython",
    "version": 3
   },
   "file_extension": ".py",
   "mimetype": "text/x-python",
   "name": "python",
   "nbconvert_exporter": "python",
   "pygments_lexer": "ipython3",
   "version": "3.11.9"
  }
 },
 "nbformat": 4,
 "nbformat_minor": 5
}
