{
 "cells": [
  {
   "cell_type": "code",
   "execution_count": 1,
   "id": "3250f7de-9caa-42c4-aa7b-d95654d655c4",
   "metadata": {},
   "outputs": [],
   "source": [
    "import os\n",
    "import numpy as np\n",
    "from scipy.optimize import linear_sum_assignment\n",
    "\n",
    "path = \".\""
   ]
  },
  {
   "cell_type": "code",
   "execution_count": 2,
   "id": "6f09c218-6f98-40cb-ac29-f47338c6793d",
   "metadata": {},
   "outputs": [],
   "source": [
    "def load_all_cluster_series_from_folder(folder_path):\n",
    "    \"\"\"\n",
    "    Loads all the .npy files in the path and returns a list of the time-series.\n",
    "    \"\"\"\n",
    "    time_series_list = []\n",
    "\n",
    "    for file_name in os.listdir(folder_path):\n",
    "        if file_name.endswith(\".npy\"):\n",
    "            full_path = os.path.join(folder_path, file_name)\n",
    "            arr = np.load(full_path)\n",
    "            time_series_list.append((file_name, arr))\n",
    "    \n",
    "    return time_series_list"
   ]
  },
  {
   "cell_type": "markdown",
   "id": "b3295670-a81f-4ad8-af78-fc76d8a3f35d",
   "metadata": {},
   "source": [
    "# Hungarian"
   ]
  },
  {
   "cell_type": "code",
   "execution_count": 3,
   "id": "c6822dd4-7a90-47d8-a27c-c16f0b146d17",
   "metadata": {},
   "outputs": [],
   "source": [
    "def find_best_permutation(reference, target, n_clusters):\n",
    "    \"\"\"\n",
    "    Findet die beste Permutation der Clusterlabels von target,\n",
    "    damit sie möglichst gut zu reference passen.\n",
    "    \"\"\"\n",
    "    # Kostenmatrix: Zeigt, wie oft Cluster i in reference mit j in target übereinstimmt\n",
    "    cost_matrix = np.zeros((n_clusters, n_clusters))\n",
    "    \n",
    "    for i in range(n_clusters):\n",
    "        for j in range(n_clusters):\n",
    "            cost_matrix[i, j] = -np.sum((reference == i+1) & (target == j+1))\n",
    "\n",
    "    # Ungarischer Algorithmus\n",
    "    row_ind, col_ind = linear_sum_assignment(cost_matrix)\n",
    "    \n",
    "    # Baue die Permutationstabelle\n",
    "    permutation = dict(zip(col_ind + 1, row_ind + 1))\n",
    "    \n",
    "    # Wende Permutation an\n",
    "    target_aligned = np.array([permutation[label] for label in target])\n",
    "    \n",
    "    return target_aligned, permutation\n"
   ]
  },
  {
   "cell_type": "code",
   "execution_count": 4,
   "id": "e3e054a2-af03-458d-9c84-6a8c0179cbd3",
   "metadata": {},
   "outputs": [],
   "source": [
    "time_series_list = load_all_cluster_series_from_folder(path)\n",
    "\n",
    "for name, series in time_series_list:\n",
    "    if name == \"kmeans.npy\":\n",
    "        ref_name, ref_series = name, series\n",
    "        break"
   ]
  },
  {
   "cell_type": "code",
   "execution_count": 5,
   "id": "ac5e1012-c593-479e-80b7-5a476ed5cd9d",
   "metadata": {},
   "outputs": [
    {
     "name": "stdout",
     "output_type": "stream",
     "text": [
      "ae.npy permuted with: {5: 1, 2: 2, 4: 3, 7: 4, 3: 5, 9: 6, 8: 7, 1: 8, 6: 9}\n",
      "vae.npy permuted with: {3: 1, 9: 2, 5: 3, 2: 4, 6: 5, 4: 6, 8: 7, 7: 8, 1: 9}\n",
      "convae.npy permuted with: {5: 1, 4: 2, 8: 3, 9: 4, 2: 5, 3: 6, 7: 7, 1: 8, 6: 9}\n"
     ]
    }
   ],
   "source": [
    "aligned_series = []\n",
    "\n",
    "for name, series in time_series_list:\n",
    "    if name == ref_name:\n",
    "        aligned_series.append((name, series))\n",
    "    else:\n",
    "        aligned, perm = find_best_permutation(ref_series, series, n_clusters=9)\n",
    "        aligned_series.append((name, aligned))\n",
    "        print(f\"{name} permuted with: {perm}\")"
   ]
  },
  {
   "cell_type": "markdown",
   "id": "73c48d53-a567-469e-b2ce-832f9ce5c027",
   "metadata": {},
   "source": [
    "# Greedy"
   ]
  },
  {
   "cell_type": "code",
   "execution_count": 6,
   "id": "d3724e88-8081-4d29-9ae1-b6ac62f1e9f5",
   "metadata": {},
   "outputs": [],
   "source": [
    "def compute_contingency_matrix(ref, target, K):\n",
    "    matrix = np.zeros((K, K), dtype=int)\n",
    "    for i in range(K):\n",
    "        for j in range(K):\n",
    "            matrix[i, j] = np.sum((ref == (i+1)) & (target == (j+1)))\n",
    "    return matrix\n",
    "\n",
    "def greedy_match(contingency):\n",
    "    K = contingency.shape[0]\n",
    "    ref_used = set()\n",
    "    target_used = set()\n",
    "    mapping = {}\n",
    "\n",
    "    while len(mapping) < K:\n",
    "        max_val = -1\n",
    "        max_pair = None\n",
    "\n",
    "        for i in range(K):\n",
    "            if i in ref_used:\n",
    "                continue\n",
    "            for j in range(K):\n",
    "                if j in target_used:\n",
    "                    continue\n",
    "                if contingency[i, j] > max_val:\n",
    "                    max_val = contingency[i, j]\n",
    "                    max_pair = (i, j)\n",
    "\n",
    "        i, j = max_pair\n",
    "        mapping[j+1] = i+1  # +1 wenn Labels bei 1 starten\n",
    "        ref_used.add(i)\n",
    "        target_used.add(j)\n",
    "\n",
    "    return mapping\n",
    "\n",
    "def apply_mapping(target, mapping):\n",
    "    return np.array([mapping[label] for label in target])"
   ]
  },
  {
   "cell_type": "code",
   "execution_count": 7,
   "id": "61bceb2e-8423-4372-8f9e-dce3acecc03b",
   "metadata": {},
   "outputs": [
    {
     "name": "stdout",
     "output_type": "stream",
     "text": [
      "ae.npy mapping: {7: 4, 5: 1, 9: 6, 2: 2, 8: 7, 1: 8, 4: 9, 3: 3, 6: 5}\n",
      "vae.npy mapping: {2: 4, 4: 6, 3: 1, 7: 8, 6: 3, 8: 7, 9: 2, 1: 5, 5: 9}\n",
      "convae.npy mapping: {3: 6, 2: 4, 5: 1, 1: 8, 7: 7, 8: 2, 6: 9, 9: 3, 4: 5}\n"
     ]
    }
   ],
   "source": [
    "time_series_list = load_all_cluster_series_from_folder(path)\n",
    "\n",
    "K = max(np.max(series) for _, series in time_series_list)\n",
    "\n",
    "aligned_series = [(ref_name, ref_series)]\n",
    "\n",
    "for name, series in time_series_list:\n",
    "    if name == \"kmeans.npy\":\n",
    "        continue\n",
    "    contingency = compute_contingency_matrix(ref_series, series, K)\n",
    "    mapping = greedy_match(contingency)\n",
    "    aligned = apply_mapping(series, mapping)\n",
    "    aligned_series.append((name, aligned))\n",
    "    print(f\"{name} mapping:\", mapping)"
   ]
  }
 ],
 "metadata": {
  "kernelspec": {
   "display_name": "Python 3 (ipykernel)",
   "language": "python",
   "name": "python3"
  },
  "language_info": {
   "codemirror_mode": {
    "name": "ipython",
    "version": 3
   },
   "file_extension": ".py",
   "mimetype": "text/x-python",
   "name": "python",
   "nbconvert_exporter": "python",
   "pygments_lexer": "ipython3",
   "version": "3.11.9"
  }
 },
 "nbformat": 4,
 "nbformat_minor": 5
}
