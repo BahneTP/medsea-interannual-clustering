{
 "cells": [
  {
   "cell_type": "code",
   "execution_count": 6,
   "id": "a807ef5b-6ccb-4384-9b1d-9392899cb67d",
   "metadata": {},
   "outputs": [
    {
     "data": {
      "text/plain": [
       "<module 'helper_functions' from '/home/jovyan/spatiotemporal-mining-medsea/notebooks/trend_removal/helper_functions.py'>"
      ]
     },
     "execution_count": 6,
     "metadata": {},
     "output_type": "execute_result"
    }
   ],
   "source": [
    "import xarray as xr\n",
    "import numpy as np\n",
    "import importlib\n",
    "import helper_functions\n",
    "importlib.reload(helper_functions)"
   ]
  },
  {
   "cell_type": "code",
   "execution_count": 8,
   "id": "6381928c-2ad2-466f-a7ab-60eef6d0a1a2",
   "metadata": {},
   "outputs": [],
   "source": [
    "import xarray as xr\n",
    "import pandas as pd\n",
    "import numpy as np\n",
    "\n",
    "def compute_linear_trend(ds, features: list, depths: list, dim: str, interpolate: int):\n",
    "    \"\"\"\n",
    "    Berechnet den linearen Trend (Steigung b) für jedes Feature, jede Tiefe und jeden Punkt.\n",
    "    Die Zeitachse wird in Monaten gezählt → b in °C pro Monat (oder Salinity pro Monat).\n",
    "\n",
    "    Returns:\n",
    "        DataArray mit dims: (dim, location)\n",
    "    \"\"\"\n",
    "\n",
    "    lon2d, lat2d = xr.broadcast(ds.longitude, ds.latitude)\n",
    "    atlantic_mask = ~((lon2d < 0) & (lat2d > 41))\n",
    "    blacksea_mask = ~((lon2d > 27) & (lat2d > 41))\n",
    "    mask = atlantic_mask & blacksea_mask\n",
    "\n",
    "    trend_vectors = []\n",
    "\n",
    "    for feature in features:\n",
    "        for depth in depths:\n",
    "            data = ds[feature].sel(depth=depth, method=\"nearest\")\n",
    "            data = data.where(mask)\n",
    "\n",
    "            if interpolate != -1:\n",
    "                data = interpolate_time_linear(data, factor=interpolate)\n",
    "\n",
    "            # Zeitachse als numerisch berechnen\n",
    "            time_index = pd.to_datetime(data['time'].values)\n",
    "            months = (time_index.year - time_index.year[0]) * 12 + (time_index.month - time_index.month[0])\n",
    "            months = months - months[0]  # optional: bei 0 starten\n",
    "            \n",
    "            # Die numerische Zeit direkt als neue \"time\"-Koordinate einsetzen\n",
    "            data = data.assign_coords(time=(\"time\", months))\n",
    "            \n",
    "            # Polyfit direkt über \"time\"\n",
    "            fit = data.polyfit(dim=\"time\", deg=1)\n",
    "            \n",
    "            # Steigung b\n",
    "            b = fit.polyfit_coefficients.sel(degree=1)\n",
    "\n",
    "\n",
    "            # In Location-Vektor stacken\n",
    "            b = b.stack(location=(\"latitude\", \"longitude\"))\n",
    "            trend_vectors.append(b)\n",
    "\n",
    "    # Concatenate entlang dim (z.B. \"feature\")\n",
    "    b_concat = xr.concat(trend_vectors, dim=dim)\n",
    "    b_concat = b_concat.dropna(dim=\"location\", how=\"any\")\n",
    "\n",
    "    return b_concat  # DataArray mit dims: (dim, location)\n"
   ]
  },
  {
   "cell_type": "code",
   "execution_count": 9,
   "id": "64035a45-d12c-4055-8b16-f7463ef41724",
   "metadata": {},
   "outputs": [
    {
     "ename": "TypeError",
     "evalue": "DataArray.polyfit() got an unexpected keyword argument 'coord'",
     "output_type": "error",
     "traceback": [
      "\u001b[0;31m---------------------------------------------------------------------------\u001b[0m",
      "\u001b[0;31mTypeError\u001b[0m                                 Traceback (most recent call last)",
      "Cell \u001b[0;32mIn[9], line 2\u001b[0m\n\u001b[1;32m      1\u001b[0m ds \u001b[38;5;241m=\u001b[39m xr\u001b[38;5;241m.\u001b[39mopen_dataset(\u001b[38;5;124m\"\u001b[39m\u001b[38;5;124m/home/jovyan/spatiotemporal-mining-medsea/data/medsea.nc\u001b[39m\u001b[38;5;124m\"\u001b[39m)\n\u001b[0;32m----> 2\u001b[0m z_time \u001b[38;5;241m=\u001b[39m \u001b[43mcompute_linear_trend\u001b[49m\u001b[43m(\u001b[49m\n\u001b[1;32m      3\u001b[0m \u001b[43m    \u001b[49m\u001b[43mds\u001b[49m\u001b[43m,\u001b[49m\u001b[43m \u001b[49m\n\u001b[1;32m      4\u001b[0m \u001b[43m    \u001b[49m\u001b[43mfeatures\u001b[49m\u001b[38;5;241;43m=\u001b[39;49m\u001b[43m[\u001b[49m\u001b[38;5;124;43m\"\u001b[39;49m\u001b[38;5;124;43mthetao\u001b[39;49m\u001b[38;5;124;43m\"\u001b[39;49m\u001b[43m,\u001b[49m\u001b[43m \u001b[49m\u001b[38;5;124;43m\"\u001b[39;49m\u001b[38;5;124;43mso\u001b[39;49m\u001b[38;5;124;43m\"\u001b[39;49m\u001b[43m]\u001b[49m\u001b[43m,\u001b[49m\u001b[43m \u001b[49m\n\u001b[1;32m      5\u001b[0m \u001b[43m    \u001b[49m\u001b[43mdepths\u001b[49m\u001b[38;5;241;43m=\u001b[39;49m\u001b[43m[\u001b[49m\u001b[38;5;241;43m50\u001b[39;49m\u001b[43m,\u001b[49m\u001b[43m \u001b[49m\u001b[38;5;241;43m300\u001b[39;49m\u001b[43m,\u001b[49m\u001b[43m \u001b[49m\u001b[38;5;241;43m1000\u001b[39;49m\u001b[43m]\u001b[49m\u001b[43m,\u001b[49m\u001b[43m \u001b[49m\n\u001b[1;32m      6\u001b[0m \u001b[43m    \u001b[49m\u001b[43mdim\u001b[49m\u001b[38;5;241;43m=\u001b[39;49m\u001b[38;5;124;43m\"\u001b[39;49m\u001b[38;5;124;43mfeature\u001b[39;49m\u001b[38;5;124;43m\"\u001b[39;49m\u001b[43m,\u001b[49m\u001b[43m \u001b[49m\n\u001b[1;32m      7\u001b[0m \u001b[43m    \u001b[49m\u001b[43minterpolate\u001b[49m\u001b[38;5;241;43m=\u001b[39;49m\u001b[38;5;241;43m-\u001b[39;49m\u001b[38;5;241;43m1\u001b[39;49m\n\u001b[1;32m      8\u001b[0m \u001b[43m)\u001b[49m\n",
      "Cell \u001b[0;32mIn[8], line 38\u001b[0m, in \u001b[0;36mcompute_linear_trend\u001b[0;34m(ds, features, depths, dim, interpolate)\u001b[0m\n\u001b[1;32m     35\u001b[0m data \u001b[38;5;241m=\u001b[39m data\u001b[38;5;241m.\u001b[39massign_coords(time_num\u001b[38;5;241m=\u001b[39m(\u001b[38;5;124m\"\u001b[39m\u001b[38;5;124mtime\u001b[39m\u001b[38;5;124m\"\u001b[39m, months))\n\u001b[1;32m     37\u001b[0m \u001b[38;5;66;03m# Polyfit über \"time_num\"\u001b[39;00m\n\u001b[0;32m---> 38\u001b[0m fit \u001b[38;5;241m=\u001b[39m \u001b[43mdata\u001b[49m\u001b[38;5;241;43m.\u001b[39;49m\u001b[43mpolyfit\u001b[49m\u001b[43m(\u001b[49m\u001b[43mdim\u001b[49m\u001b[38;5;241;43m=\u001b[39;49m\u001b[38;5;124;43m\"\u001b[39;49m\u001b[38;5;124;43mtime\u001b[39;49m\u001b[38;5;124;43m\"\u001b[39;49m\u001b[43m,\u001b[49m\u001b[43m \u001b[49m\u001b[43mdeg\u001b[49m\u001b[38;5;241;43m=\u001b[39;49m\u001b[38;5;241;43m1\u001b[39;49m\u001b[43m,\u001b[49m\u001b[43m \u001b[49m\u001b[43mcoord\u001b[49m\u001b[38;5;241;43m=\u001b[39;49m\u001b[38;5;124;43m\"\u001b[39;49m\u001b[38;5;124;43mtime_num\u001b[39;49m\u001b[38;5;124;43m\"\u001b[39;49m\u001b[43m)\u001b[49m\n\u001b[1;32m     40\u001b[0m \u001b[38;5;66;03m# Steigung b (degree=1)\u001b[39;00m\n\u001b[1;32m     41\u001b[0m b \u001b[38;5;241m=\u001b[39m fit\u001b[38;5;241m.\u001b[39mpolyfit_coefficients\u001b[38;5;241m.\u001b[39msel(degree\u001b[38;5;241m=\u001b[39m\u001b[38;5;241m1\u001b[39m)\n",
      "\u001b[0;31mTypeError\u001b[0m: DataArray.polyfit() got an unexpected keyword argument 'coord'"
     ]
    }
   ],
   "source": [
    "ds = xr.open_dataset(\"/home/jovyan/spatiotemporal-mining-medsea/data/medsea.nc\")\n",
    "z_time = compute_linear_trend(\n",
    "    ds, \n",
    "    features=[\"thetao\", \"so\"], \n",
    "    depths=[50, 300, 1000], \n",
    "    dim=\"feature\", \n",
    "    interpolate=-1\n",
    ")\n"
   ]
  }
 ],
 "metadata": {
  "kernelspec": {
   "display_name": "Python 3 (ipykernel)",
   "language": "python",
   "name": "python3"
  },
  "language_info": {
   "codemirror_mode": {
    "name": "ipython",
    "version": 3
   },
   "file_extension": ".py",
   "mimetype": "text/x-python",
   "name": "python",
   "nbconvert_exporter": "python",
   "pygments_lexer": "ipython3",
   "version": "3.11.9"
  }
 },
 "nbformat": 4,
 "nbformat_minor": 5
}
