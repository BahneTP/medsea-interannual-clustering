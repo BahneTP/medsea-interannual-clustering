{
 "cells": [
  {
   "cell_type": "markdown",
   "id": "4951ac0e-4f7b-4c6d-87e8-fa212d1750a9",
   "metadata": {},
   "source": [
    "# Autoencoder\n",
    "This notebook makes use of the **Autoencoder**, which is used to reduce the dimensionality of our dataset in a non-linear way. Furthermore, we then apply **k-means Clustering** as in our last notebook in our new created **Latent Space** in lower dimension. We do so, to get rid of less important variables and achieve a better Clustering."
   ]
  },
  {
   "cell_type": "code",
   "execution_count": 1,
   "id": "4b2f90b1-6826-4a2b-896b-f0f59aa9999c",
   "metadata": {},
   "outputs": [
    {
     "name": "stdout",
     "output_type": "stream",
     "text": [
      "Collecting cartopy\n",
      "  Using cached Cartopy-0.24.1-cp311-cp311-manylinux_2_17_x86_64.manylinux2014_x86_64.whl.metadata (7.9 kB)\n",
      "Collecting xarray\n",
      "  Using cached xarray-2025.6.1-py3-none-any.whl.metadata (12 kB)\n",
      "Requirement already satisfied: matplotlib in /opt/conda/lib/python3.11/site-packages (3.8.4)\n",
      "Collecting netCDF4\n",
      "  Using cached netCDF4-1.7.2-cp311-cp311-manylinux_2_17_x86_64.manylinux2014_x86_64.whl.metadata (1.8 kB)\n",
      "Collecting torch\n",
      "  Using cached torch-2.7.1-cp311-cp311-manylinux_2_28_x86_64.whl.metadata (29 kB)\n",
      "Requirement already satisfied: numpy>=1.23 in /opt/conda/lib/python3.11/site-packages (from cartopy) (1.26.4)\n",
      "Collecting shapely>=1.8 (from cartopy)\n",
      "  Using cached shapely-2.1.1-cp311-cp311-manylinux_2_17_x86_64.manylinux2014_x86_64.whl.metadata (6.7 kB)\n",
      "Requirement already satisfied: packaging>=21 in /opt/conda/lib/python3.11/site-packages (from cartopy) (24.0)\n",
      "Collecting pyshp>=2.3 (from cartopy)\n",
      "  Using cached pyshp-2.3.1-py2.py3-none-any.whl.metadata (55 kB)\n",
      "Collecting pyproj>=3.3.1 (from cartopy)\n",
      "  Using cached pyproj-3.7.1-cp311-cp311-manylinux_2_17_x86_64.manylinux2014_x86_64.whl.metadata (31 kB)\n",
      "Requirement already satisfied: pandas>=2.1 in /opt/conda/lib/python3.11/site-packages (from xarray) (2.2.2)\n",
      "Requirement already satisfied: contourpy>=1.0.1 in /opt/conda/lib/python3.11/site-packages (from matplotlib) (1.2.1)\n",
      "Requirement already satisfied: cycler>=0.10 in /opt/conda/lib/python3.11/site-packages (from matplotlib) (0.12.1)\n",
      "Requirement already satisfied: fonttools>=4.22.0 in /opt/conda/lib/python3.11/site-packages (from matplotlib) (4.51.0)\n",
      "Requirement already satisfied: kiwisolver>=1.3.1 in /opt/conda/lib/python3.11/site-packages (from matplotlib) (1.4.5)\n",
      "Requirement already satisfied: pillow>=8 in /opt/conda/lib/python3.11/site-packages (from matplotlib) (10.3.0)\n",
      "Requirement already satisfied: pyparsing>=2.3.1 in /opt/conda/lib/python3.11/site-packages (from matplotlib) (3.1.2)\n",
      "Requirement already satisfied: python-dateutil>=2.7 in /opt/conda/lib/python3.11/site-packages (from matplotlib) (2.9.0)\n",
      "Collecting cftime (from netCDF4)\n",
      "  Using cached cftime-1.6.4.post1-cp311-cp311-manylinux_2_17_x86_64.manylinux2014_x86_64.whl.metadata (8.7 kB)\n",
      "Requirement already satisfied: certifi in /opt/conda/lib/python3.11/site-packages (from netCDF4) (2024.2.2)\n",
      "Collecting filelock (from torch)\n",
      "  Using cached filelock-3.18.0-py3-none-any.whl.metadata (2.9 kB)\n",
      "Requirement already satisfied: typing-extensions>=4.10.0 in /opt/conda/lib/python3.11/site-packages (from torch) (4.11.0)\n",
      "Collecting sympy>=1.13.3 (from torch)\n",
      "  Using cached sympy-1.14.0-py3-none-any.whl.metadata (12 kB)\n",
      "Requirement already satisfied: networkx in /opt/conda/lib/python3.11/site-packages (from torch) (3.3)\n",
      "Requirement already satisfied: jinja2 in /opt/conda/lib/python3.11/site-packages (from torch) (3.1.3)\n",
      "Requirement already satisfied: fsspec in /opt/conda/lib/python3.11/site-packages (from torch) (2024.3.1)\n",
      "Collecting nvidia-cuda-nvrtc-cu12==12.6.77 (from torch)\n",
      "  Using cached nvidia_cuda_nvrtc_cu12-12.6.77-py3-none-manylinux2014_x86_64.whl.metadata (1.5 kB)\n",
      "Collecting nvidia-cuda-runtime-cu12==12.6.77 (from torch)\n",
      "  Using cached nvidia_cuda_runtime_cu12-12.6.77-py3-none-manylinux2014_x86_64.manylinux_2_17_x86_64.whl.metadata (1.5 kB)\n",
      "Collecting nvidia-cuda-cupti-cu12==12.6.80 (from torch)\n",
      "  Using cached nvidia_cuda_cupti_cu12-12.6.80-py3-none-manylinux2014_x86_64.manylinux_2_17_x86_64.whl.metadata (1.6 kB)\n",
      "Collecting nvidia-cudnn-cu12==9.5.1.17 (from torch)\n",
      "  Using cached nvidia_cudnn_cu12-9.5.1.17-py3-none-manylinux_2_28_x86_64.whl.metadata (1.6 kB)\n",
      "Collecting nvidia-cublas-cu12==12.6.4.1 (from torch)\n",
      "  Using cached nvidia_cublas_cu12-12.6.4.1-py3-none-manylinux2014_x86_64.manylinux_2_17_x86_64.whl.metadata (1.5 kB)\n",
      "Collecting nvidia-cufft-cu12==11.3.0.4 (from torch)\n",
      "  Using cached nvidia_cufft_cu12-11.3.0.4-py3-none-manylinux2014_x86_64.manylinux_2_17_x86_64.whl.metadata (1.5 kB)\n",
      "Collecting nvidia-curand-cu12==10.3.7.77 (from torch)\n",
      "  Using cached nvidia_curand_cu12-10.3.7.77-py3-none-manylinux2014_x86_64.manylinux_2_17_x86_64.whl.metadata (1.5 kB)\n",
      "Collecting nvidia-cusolver-cu12==11.7.1.2 (from torch)\n",
      "  Using cached nvidia_cusolver_cu12-11.7.1.2-py3-none-manylinux2014_x86_64.manylinux_2_17_x86_64.whl.metadata (1.6 kB)\n",
      "Collecting nvidia-cusparse-cu12==12.5.4.2 (from torch)\n",
      "  Using cached nvidia_cusparse_cu12-12.5.4.2-py3-none-manylinux2014_x86_64.manylinux_2_17_x86_64.whl.metadata (1.6 kB)\n",
      "Collecting nvidia-cusparselt-cu12==0.6.3 (from torch)\n",
      "  Using cached nvidia_cusparselt_cu12-0.6.3-py3-none-manylinux2014_x86_64.whl.metadata (6.8 kB)\n",
      "Collecting nvidia-nccl-cu12==2.26.2 (from torch)\n",
      "  Using cached nvidia_nccl_cu12-2.26.2-py3-none-manylinux2014_x86_64.manylinux_2_17_x86_64.whl.metadata (2.0 kB)\n",
      "Collecting nvidia-nvtx-cu12==12.6.77 (from torch)\n",
      "  Using cached nvidia_nvtx_cu12-12.6.77-py3-none-manylinux2014_x86_64.manylinux_2_17_x86_64.whl.metadata (1.6 kB)\n",
      "Collecting nvidia-nvjitlink-cu12==12.6.85 (from torch)\n",
      "  Using cached nvidia_nvjitlink_cu12-12.6.85-py3-none-manylinux2010_x86_64.manylinux_2_12_x86_64.whl.metadata (1.5 kB)\n",
      "Collecting nvidia-cufile-cu12==1.11.1.6 (from torch)\n",
      "  Using cached nvidia_cufile_cu12-1.11.1.6-py3-none-manylinux2014_x86_64.manylinux_2_17_x86_64.whl.metadata (1.5 kB)\n",
      "Collecting triton==3.3.1 (from torch)\n",
      "  Using cached triton-3.3.1-cp311-cp311-manylinux_2_27_x86_64.manylinux_2_28_x86_64.whl.metadata (1.5 kB)\n",
      "Requirement already satisfied: setuptools>=40.8.0 in /opt/conda/lib/python3.11/site-packages (from triton==3.3.1->torch) (69.5.1)\n",
      "Requirement already satisfied: pytz>=2020.1 in /opt/conda/lib/python3.11/site-packages (from pandas>=2.1->xarray) (2024.1)\n",
      "Requirement already satisfied: tzdata>=2022.7 in /opt/conda/lib/python3.11/site-packages (from pandas>=2.1->xarray) (2024.1)\n",
      "Requirement already satisfied: six>=1.5 in /opt/conda/lib/python3.11/site-packages (from python-dateutil>=2.7->matplotlib) (1.16.0)\n",
      "Requirement already satisfied: mpmath<1.4,>=1.1.0 in /opt/conda/lib/python3.11/site-packages (from sympy>=1.13.3->torch) (1.3.0)\n",
      "Requirement already satisfied: MarkupSafe>=2.0 in /opt/conda/lib/python3.11/site-packages (from jinja2->torch) (2.1.5)\n",
      "Using cached Cartopy-0.24.1-cp311-cp311-manylinux_2_17_x86_64.manylinux2014_x86_64.whl (11.7 MB)\n",
      "Using cached xarray-2025.6.1-py3-none-any.whl (1.3 MB)\n",
      "Using cached netCDF4-1.7.2-cp311-cp311-manylinux_2_17_x86_64.manylinux2014_x86_64.whl (9.3 MB)\n",
      "Using cached torch-2.7.1-cp311-cp311-manylinux_2_28_x86_64.whl (821.2 MB)\n",
      "Using cached nvidia_cublas_cu12-12.6.4.1-py3-none-manylinux2014_x86_64.manylinux_2_17_x86_64.whl (393.1 MB)\n",
      "Using cached nvidia_cuda_cupti_cu12-12.6.80-py3-none-manylinux2014_x86_64.manylinux_2_17_x86_64.whl (8.9 MB)\n",
      "Using cached nvidia_cuda_nvrtc_cu12-12.6.77-py3-none-manylinux2014_x86_64.whl (23.7 MB)\n",
      "Using cached nvidia_cuda_runtime_cu12-12.6.77-py3-none-manylinux2014_x86_64.manylinux_2_17_x86_64.whl (897 kB)\n",
      "Using cached nvidia_cudnn_cu12-9.5.1.17-py3-none-manylinux_2_28_x86_64.whl (571.0 MB)\n",
      "Using cached nvidia_cufft_cu12-11.3.0.4-py3-none-manylinux2014_x86_64.manylinux_2_17_x86_64.whl (200.2 MB)\n",
      "Using cached nvidia_cufile_cu12-1.11.1.6-py3-none-manylinux2014_x86_64.manylinux_2_17_x86_64.whl (1.1 MB)\n",
      "Using cached nvidia_curand_cu12-10.3.7.77-py3-none-manylinux2014_x86_64.manylinux_2_17_x86_64.whl (56.3 MB)\n",
      "Using cached nvidia_cusolver_cu12-11.7.1.2-py3-none-manylinux2014_x86_64.manylinux_2_17_x86_64.whl (158.2 MB)\n",
      "Using cached nvidia_cusparse_cu12-12.5.4.2-py3-none-manylinux2014_x86_64.manylinux_2_17_x86_64.whl (216.6 MB)\n",
      "Using cached nvidia_cusparselt_cu12-0.6.3-py3-none-manylinux2014_x86_64.whl (156.8 MB)\n",
      "Using cached nvidia_nccl_cu12-2.26.2-py3-none-manylinux2014_x86_64.manylinux_2_17_x86_64.whl (201.3 MB)\n",
      "Using cached nvidia_nvjitlink_cu12-12.6.85-py3-none-manylinux2010_x86_64.manylinux_2_12_x86_64.whl (19.7 MB)\n",
      "Using cached nvidia_nvtx_cu12-12.6.77-py3-none-manylinux2014_x86_64.manylinux_2_17_x86_64.whl (89 kB)\n",
      "Using cached triton-3.3.1-cp311-cp311-manylinux_2_27_x86_64.manylinux_2_28_x86_64.whl (155.7 MB)\n",
      "Using cached pyproj-3.7.1-cp311-cp311-manylinux_2_17_x86_64.manylinux2014_x86_64.whl (9.5 MB)\n",
      "Using cached pyshp-2.3.1-py2.py3-none-any.whl (46 kB)\n",
      "Using cached shapely-2.1.1-cp311-cp311-manylinux_2_17_x86_64.manylinux2014_x86_64.whl (3.1 MB)\n",
      "Using cached sympy-1.14.0-py3-none-any.whl (6.3 MB)\n",
      "Using cached cftime-1.6.4.post1-cp311-cp311-manylinux_2_17_x86_64.manylinux2014_x86_64.whl (1.4 MB)\n",
      "Using cached filelock-3.18.0-py3-none-any.whl (16 kB)\n",
      "Installing collected packages: nvidia-cusparselt-cu12, triton, sympy, shapely, pyshp, pyproj, nvidia-nvtx-cu12, nvidia-nvjitlink-cu12, nvidia-nccl-cu12, nvidia-curand-cu12, nvidia-cufile-cu12, nvidia-cuda-runtime-cu12, nvidia-cuda-nvrtc-cu12, nvidia-cuda-cupti-cu12, nvidia-cublas-cu12, filelock, cftime, nvidia-cusparse-cu12, nvidia-cufft-cu12, nvidia-cudnn-cu12, netCDF4, xarray, nvidia-cusolver-cu12, cartopy, torch\n",
      "  Attempting uninstall: sympy\n",
      "    Found existing installation: sympy 1.12\n",
      "    Uninstalling sympy-1.12:\n",
      "      Successfully uninstalled sympy-1.12\n",
      "Successfully installed cartopy-0.24.1 cftime-1.6.4.post1 filelock-3.18.0 netCDF4-1.7.2 nvidia-cublas-cu12-12.6.4.1 nvidia-cuda-cupti-cu12-12.6.80 nvidia-cuda-nvrtc-cu12-12.6.77 nvidia-cuda-runtime-cu12-12.6.77 nvidia-cudnn-cu12-9.5.1.17 nvidia-cufft-cu12-11.3.0.4 nvidia-cufile-cu12-1.11.1.6 nvidia-curand-cu12-10.3.7.77 nvidia-cusolver-cu12-11.7.1.2 nvidia-cusparse-cu12-12.5.4.2 nvidia-cusparselt-cu12-0.6.3 nvidia-nccl-cu12-2.26.2 nvidia-nvjitlink-cu12-12.6.85 nvidia-nvtx-cu12-12.6.77 pyproj-3.7.1 pyshp-2.3.1 shapely-2.1.1 sympy-1.14.0 torch-2.7.1 triton-3.3.1 xarray-2025.6.1\n"
     ]
    }
   ],
   "source": [
    "!pip install cartopy xarray matplotlib netCDF4 torch"
   ]
  },
  {
   "cell_type": "code",
   "execution_count": 2,
   "id": "7e3c815e-a7d9-46d6-a45d-c64b8ed20a69",
   "metadata": {},
   "outputs": [
    {
     "data": {
      "text/plain": [
       "<module 'helper_functions' from '/home/jovyan/spatiotemporal-mining-medsea/notebooks/helper_functions.py'>"
      ]
     },
     "execution_count": 2,
     "metadata": {},
     "output_type": "execute_result"
    }
   ],
   "source": [
    "import helper_functions\n",
    "import importlib\n",
    "from ipywidgets import FloatSlider\n",
    "import xarray as xr\n",
    "import matplotlib.pyplot as plt\n",
    "import cartopy.crs as ccrs\n",
    "import cartopy.feature as cfeature\n",
    "from ipywidgets import interact, IntSlider\n",
    "from sklearn.decomposition import PCA\n",
    "import numpy as np\n",
    "import pandas as pd\n",
    "import matplotlib.dates as mdates\n",
    "\n",
    "import torch\n",
    "import torch.nn as nn\n",
    "from sklearn.model_selection import train_test_split\n",
    "from sklearn.metrics import mean_squared_error\n",
    "from torch.utils.data import DataLoader, TensorDataset\n",
    "importlib.reload(helper_functions)"
   ]
  },
  {
   "cell_type": "markdown",
   "id": "cec2175a-a4a6-4443-89a4-c30147743c2e",
   "metadata": {},
   "source": [
    "## Data Loading & Preprocessing"
   ]
  },
  {
   "cell_type": "code",
   "execution_count": 3,
   "id": "25c45eb1-fe33-437d-bb7b-91c8b1a76a99",
   "metadata": {},
   "outputs": [
    {
     "name": "stdout",
     "output_type": "stream",
     "text": [
      "20554.545012 MB\n",
      "(342, 167042)\n",
      "457.026912 MB\n",
      "167042\n"
     ]
    }
   ],
   "source": [
    "ds = xr.open_dataset(\"/home/jovyan/spatiotemporal-mining-medsea/data/medsea.nc\")\n",
    "print(ds.nbytes / 1e6, \"MB\")\n",
    "\n",
    "z_temp = helper_functions.preprocessing(ds, [\"thetao\", \"so\"], [50, 300, 1000], \"location\", -1)\n",
    "print(z_temp.shape)\n",
    "X = z_temp.values\n",
    "input_dimension = X.shape[1]\n",
    "print(z_temp.nbytes / 1e6, \"MB\")\n",
    "print(X.shape[1])"
   ]
  },
  {
   "cell_type": "markdown",
   "id": "11779e19-1403-4924-b480-f5457daaee2e",
   "metadata": {},
   "source": [
    "## Splitting"
   ]
  },
  {
   "cell_type": "code",
   "execution_count": 4,
   "id": "36cff7de-fbe6-4edb-9c94-5fead6c7a13a",
   "metadata": {},
   "outputs": [],
   "source": [
    "X = X.astype(np.float32)\n",
    "X_train, X_test = train_test_split(X, test_size=0.2, random_state=27)\n",
    "\n",
    "train_loader = DataLoader(TensorDataset(torch.from_numpy(X_train)), batch_size=256, shuffle=True)\n",
    "test_loader = DataLoader(TensorDataset(torch.from_numpy(X_test)), batch_size=256, shuffle=False)"
   ]
  },
  {
   "cell_type": "markdown",
   "id": "4ed51ed5-9af0-42ad-a1a9-9d9b0b5edfe7",
   "metadata": {},
   "source": [
    "## The Architecture"
   ]
  },
  {
   "cell_type": "code",
   "execution_count": 5,
   "id": "33015db9-48a7-4147-b637-ca509c39ae69",
   "metadata": {},
   "outputs": [],
   "source": [
    "import torch\n",
    "import torch.nn as nn\n",
    "import torch.nn.functional as F\n",
    "\n",
    "class VariationalAutoencoder(nn.Module):\n",
    "    def __init__(self, input_dim, latent_dim):\n",
    "        super().__init__()\n",
    "        # Shared encoder backbone\n",
    "        self.encoder_shared = nn.Sequential(\n",
    "            nn.Linear(input_dim, 512),\n",
    "            nn.BatchNorm1d(512),\n",
    "            nn.Dropout(0.1),\n",
    "            nn.LeakyReLU(),\n",
    "            nn.Linear(512, 256),\n",
    "            nn.BatchNorm1d(256),\n",
    "            nn.Dropout(0.1),\n",
    "            nn.LeakyReLU(),\n",
    "        )\n",
    "        # Separate layers for mean and log-variance\n",
    "        self.mu_layer = nn.Linear(256, latent_dim)\n",
    "        self.logvar_layer = nn.Linear(256, latent_dim)\n",
    "\n",
    "        # Decoder\n",
    "        self.decoder = nn.Sequential(\n",
    "            nn.Linear(latent_dim, 256),\n",
    "            nn.BatchNorm1d(256),\n",
    "            nn.LeakyReLU(),\n",
    "            nn.Linear(256, 512),\n",
    "            nn.BatchNorm1d(512),\n",
    "            nn.LeakyReLU(),\n",
    "            nn.Linear(512, input_dim)\n",
    "        )\n",
    "\n",
    "    def reparameterize(self, mu, logvar):\n",
    "        std = torch.exp(0.5 * logvar)\n",
    "        eps = torch.randn_like(std)\n",
    "        return mu + eps * std\n",
    "\n",
    "    def forward(self, x):\n",
    "        h = self.encoder_shared(x)\n",
    "        mu = self.mu_layer(h)\n",
    "        logvar = self.logvar_layer(h)\n",
    "        z = self.reparameterize(mu, logvar)\n",
    "        x_recon = self.decoder(z)\n",
    "        return x_recon, mu, logvar"
   ]
  },
  {
   "cell_type": "markdown",
   "id": "f9f29428-7c81-4a80-a415-c051c92d86cd",
   "metadata": {},
   "source": [
    "## Loss Function"
   ]
  },
  {
   "cell_type": "code",
   "execution_count": 6,
   "id": "439fbcc1-fb73-464f-b771-4b94041ff2b5",
   "metadata": {},
   "outputs": [],
   "source": [
    "def vae_loss(x_recon, x, mu, logvar, beta=1e-3):\n",
    "    recon_loss = F.mse_loss(x_recon, x, reduction='mean')\n",
    "    kl_div = -0.5 * torch.sum(1 + logvar - mu.pow(2) - logvar.exp()) / x.size(0)\n",
    "    total_loss = recon_loss + beta * kl_div\n",
    "    return total_loss, recon_loss.item(), kl_div.item()\n"
   ]
  },
  {
   "cell_type": "code",
   "execution_count": 7,
   "id": "3f426540-b690-433f-9359-a00113b5a2d2",
   "metadata": {},
   "outputs": [],
   "source": [
    "def get_beta(epoch, total_epochs, max_beta=1):\n",
    "    return max_beta * (epoch / total_epochs)"
   ]
  },
  {
   "cell_type": "markdown",
   "id": "3135c56e-a342-4273-a344-db6ccb56a33e",
   "metadata": {},
   "source": [
    "## Training Loop"
   ]
  },
  {
   "cell_type": "code",
   "execution_count": 8,
   "id": "c8b3e058-34ba-439d-aeda-aa0a21e6dd5e",
   "metadata": {},
   "outputs": [],
   "source": [
    "def train(num_epochs: int, kl_beta=1e-3, kl_beta_max=1):\n",
    "\n",
    "    torch.cuda.empty_cache()\n",
    "    train_losses, val_losses = [], []\n",
    "    \n",
    "    for epoch in range(num_epochs):\n",
    "        \n",
    "        kl_beta = get_beta(epoch, num_epochs, kl_beta_max) if kl_beta == -1 else kl_beta\n",
    "        model.train()\n",
    "        running_train_loss = 0.0\n",
    "        for batch in train_loader:\n",
    "            x = batch[0].to(device).float()\n",
    "            optimizer.zero_grad()\n",
    "            x_recon, mu, logvar = model(x)\n",
    "            loss, recon, kl = vae_loss(x_recon, x, mu, logvar, beta=kl_beta)\n",
    "\n",
    "            loss.backward()\n",
    "            optimizer.step()\n",
    "            running_train_loss += loss.item() * x.size(0)\n",
    "    \n",
    "        train_loss = running_train_loss / len(train_loader.dataset)\n",
    "        train_losses.append(train_loss)\n",
    "    \n",
    "        model.eval()\n",
    "        running_val_loss = 0.0\n",
    "        with torch.no_grad():\n",
    "            for batch in test_loader:\n",
    "                x = batch[0].to(device).float()\n",
    "                x_recon, mu, logvar = model(x)\n",
    "                loss, recon, kl = vae_loss(x_recon, x, mu, logvar, beta=kl_beta)\n",
    "\n",
    "                running_val_loss += loss.item() * x.size(0)\n",
    "    \n",
    "        val_loss = running_val_loss / len(test_loader.dataset)\n",
    "        val_losses.append(val_loss)\n",
    "    \n",
    "        print(f\"Epoch {epoch+1}/{num_epochs} | Train Loss: {train_loss:.4f} | Val Loss: {val_loss:.4f} | Recon: {recon:.4f} | KL: {kl:.4f}\")\n",
    "\n",
    "    return train_losses, val_losses"
   ]
  },
  {
   "cell_type": "markdown",
   "id": "248c2819-ad9d-4ea5-96fc-1e5b6767a919",
   "metadata": {},
   "source": [
    "## Setup"
   ]
  },
  {
   "cell_type": "code",
   "execution_count": 9,
   "id": "87c5c9d9-3fee-4276-892e-9456e006205c",
   "metadata": {
    "scrolled": true
   },
   "outputs": [
    {
     "name": "stdout",
     "output_type": "stream",
     "text": [
      "Training using device: cuda\n",
      "Trainierbare Parameter: 171,487,112\n",
      "Epoch 1/50 | Train Loss: 1.1774 | Val Loss: 1.0098 | Recon: 1.0098 | KL: 5.8140\n",
      "Epoch 2/50 | Train Loss: 1.1584 | Val Loss: 0.9936 | Recon: 0.9936 | KL: 2.7962\n",
      "Epoch 3/50 | Train Loss: 1.1390 | Val Loss: 0.9940 | Recon: 0.9940 | KL: 2.9074\n",
      "Epoch 4/50 | Train Loss: 1.1198 | Val Loss: 0.9893 | Recon: 0.9893 | KL: 3.2430\n",
      "Epoch 5/50 | Train Loss: 1.1034 | Val Loss: 0.9818 | Recon: 0.9818 | KL: 3.5897\n",
      "Epoch 6/50 | Train Loss: 1.0835 | Val Loss: 0.9859 | Recon: 0.9859 | KL: 4.3097\n",
      "Epoch 7/50 | Train Loss: 1.0639 | Val Loss: 0.9770 | Recon: 0.9770 | KL: 5.4585\n",
      "Epoch 8/50 | Train Loss: 1.0450 | Val Loss: 0.9666 | Recon: 0.9666 | KL: 6.4017\n",
      "Epoch 9/50 | Train Loss: 1.0250 | Val Loss: 0.9544 | Recon: 0.9544 | KL: 7.0642\n",
      "Epoch 10/50 | Train Loss: 1.0066 | Val Loss: 0.9383 | Recon: 0.9383 | KL: 7.7581\n",
      "Epoch 11/50 | Train Loss: 0.9893 | Val Loss: 0.9298 | Recon: 0.9298 | KL: 8.3116\n",
      "Epoch 12/50 | Train Loss: 0.9705 | Val Loss: 0.9148 | Recon: 0.9148 | KL: 8.8138\n",
      "Epoch 13/50 | Train Loss: 0.9496 | Val Loss: 0.9009 | Recon: 0.9009 | KL: 8.6078\n",
      "Epoch 14/50 | Train Loss: 0.9326 | Val Loss: 0.8769 | Recon: 0.8769 | KL: 9.2042\n",
      "Epoch 15/50 | Train Loss: 0.9125 | Val Loss: 0.8598 | Recon: 0.8598 | KL: 9.4434\n",
      "Epoch 16/50 | Train Loss: 0.9007 | Val Loss: 0.8429 | Recon: 0.8429 | KL: 10.2312\n",
      "Epoch 17/50 | Train Loss: 0.8771 | Val Loss: 0.8308 | Recon: 0.8308 | KL: 10.1796\n",
      "Epoch 18/50 | Train Loss: 0.8616 | Val Loss: 0.8202 | Recon: 0.8202 | KL: 10.5813\n",
      "Epoch 19/50 | Train Loss: 0.8496 | Val Loss: 0.8044 | Recon: 0.8044 | KL: 10.4905\n",
      "Epoch 20/50 | Train Loss: 0.8355 | Val Loss: 0.7911 | Recon: 0.7911 | KL: 10.3924\n",
      "Epoch 21/50 | Train Loss: 0.8230 | Val Loss: 0.7824 | Recon: 0.7824 | KL: 10.3143\n",
      "Epoch 22/50 | Train Loss: 0.8093 | Val Loss: 0.7794 | Recon: 0.7794 | KL: 10.3644\n",
      "Epoch 23/50 | Train Loss: 0.8009 | Val Loss: 0.7689 | Recon: 0.7689 | KL: 10.6282\n",
      "Epoch 24/50 | Train Loss: 0.7882 | Val Loss: 0.7622 | Recon: 0.7622 | KL: 10.3979\n",
      "Epoch 25/50 | Train Loss: 0.7829 | Val Loss: 0.7540 | Recon: 0.7540 | KL: 10.6824\n",
      "Epoch 26/50 | Train Loss: 0.7695 | Val Loss: 0.7499 | Recon: 0.7499 | KL: 10.7003\n",
      "Epoch 27/50 | Train Loss: 0.7641 | Val Loss: 0.7452 | Recon: 0.7452 | KL: 10.7076\n",
      "Epoch 28/50 | Train Loss: 0.7572 | Val Loss: 0.7419 | Recon: 0.7419 | KL: 11.0110\n",
      "Epoch 29/50 | Train Loss: 0.7494 | Val Loss: 0.7345 | Recon: 0.7345 | KL: 11.1086\n",
      "Epoch 30/50 | Train Loss: 0.7425 | Val Loss: 0.7366 | Recon: 0.7366 | KL: 11.0439\n",
      "Epoch 31/50 | Train Loss: 0.7373 | Val Loss: 0.7279 | Recon: 0.7279 | KL: 10.9156\n",
      "Epoch 32/50 | Train Loss: 0.7325 | Val Loss: 0.7266 | Recon: 0.7266 | KL: 11.3218\n",
      "Epoch 33/50 | Train Loss: 0.7283 | Val Loss: 0.7167 | Recon: 0.7167 | KL: 11.0401\n",
      "Epoch 34/50 | Train Loss: 0.7294 | Val Loss: 0.7129 | Recon: 0.7129 | KL: 11.6588\n",
      "Epoch 35/50 | Train Loss: 0.7205 | Val Loss: 0.7129 | Recon: 0.7129 | KL: 11.5457\n",
      "Epoch 36/50 | Train Loss: 0.7215 | Val Loss: 0.7096 | Recon: 0.7096 | KL: 11.2442\n",
      "Epoch 37/50 | Train Loss: 0.7133 | Val Loss: 0.7060 | Recon: 0.7060 | KL: 11.6741\n",
      "Epoch 38/50 | Train Loss: 0.7098 | Val Loss: 0.7024 | Recon: 0.7024 | KL: 11.6249\n",
      "Epoch 39/50 | Train Loss: 0.7056 | Val Loss: 0.7004 | Recon: 0.7004 | KL: 11.9396\n",
      "Epoch 40/50 | Train Loss: 0.7024 | Val Loss: 0.6959 | Recon: 0.6959 | KL: 11.9728\n",
      "Epoch 41/50 | Train Loss: 0.6986 | Val Loss: 0.6987 | Recon: 0.6987 | KL: 12.1274\n",
      "Epoch 42/50 | Train Loss: 0.6954 | Val Loss: 0.6939 | Recon: 0.6939 | KL: 11.3022\n",
      "Epoch 43/50 | Train Loss: 0.6934 | Val Loss: 0.6916 | Recon: 0.6916 | KL: 11.5708\n",
      "Epoch 44/50 | Train Loss: 0.6894 | Val Loss: 0.6939 | Recon: 0.6939 | KL: 10.8911\n",
      "Epoch 45/50 | Train Loss: 0.6858 | Val Loss: 0.6900 | Recon: 0.6900 | KL: 10.9652\n",
      "Epoch 46/50 | Train Loss: 0.6832 | Val Loss: 0.6850 | Recon: 0.6850 | KL: 11.1313\n",
      "Epoch 47/50 | Train Loss: 0.6800 | Val Loss: 0.6812 | Recon: 0.6812 | KL: 11.2796\n",
      "Epoch 48/50 | Train Loss: 0.6765 | Val Loss: 0.6827 | Recon: 0.6827 | KL: 11.3663\n",
      "Epoch 49/50 | Train Loss: 0.6747 | Val Loss: 0.6789 | Recon: 0.6789 | KL: 11.2292\n",
      "Epoch 50/50 | Train Loss: 0.6713 | Val Loss: 0.6791 | Recon: 0.6791 | KL: 11.3322\n"
     ]
    }
   ],
   "source": [
    "device = torch.device(\"cuda\" if torch.cuda.is_available() else \"cpu\")\n",
    "print(f'Training using device: {device}')\n",
    "\n",
    "model = VariationalAutoencoder(input_dim=input_dimension, latent_dim=3).float().to(device)\n",
    "optimizer = torch.optim.Adam(model.parameters(), lr=0.0001)\n",
    "\n",
    "total_params = sum(p.numel() for p in model.parameters() if p.requires_grad)\n",
    "print(f\"Trainierbare Parameter: {total_params:,}\")\n",
    "\n",
    "\n",
    "num_epochs = 50\n",
    "train_losses, val_losses = train(num_epochs,kl_beta=-1, kl_beta_max=2)"
   ]
  },
  {
   "cell_type": "markdown",
   "id": "68549efe-8ccf-4412-a9e6-0868f92d4e68",
   "metadata": {},
   "source": [
    "## Evaluation"
   ]
  },
  {
   "cell_type": "code",
   "execution_count": 10,
   "id": "55eeb7ee-74d4-4189-bd3a-3e642670e591",
   "metadata": {},
   "outputs": [
    {
     "data": {
      "image/png": "[encoded data removed]",
      "text/plain": [
       "<Figure size 800x400 with 1 Axes>"
      ]
     },
     "metadata": {},
     "output_type": "display_data"
    }
   ],
   "source": [
    "plt.figure(figsize=(8, 4))\n",
    "plt.plot(train_losses, label=\"Train Loss\", marker='o')\n",
    "plt.plot(val_losses, label=\"Validation Loss\", marker='x')\n",
    "plt.xlabel(\"Epoch\")\n",
    "plt.ylabel(\"Loss (MSE)\")\n",
    "plt.title(\"Training vs Validation Loss\")\n",
    "plt.legend()\n",
    "plt.grid(True)\n",
    "plt.tight_layout()\n",
    "plt.show()"
   ]
  },
  {
   "cell_type": "code",
   "execution_count": 11,
   "id": "712d21eb-5ce1-4f2e-906c-fcebde37cbc7",
   "metadata": {},
   "outputs": [
    {
     "name": "stdout",
     "output_type": "stream",
     "text": [
      "Std of mu per latent dim:\n",
      "tensor([2.5308, 2.8978, 2.5113])\n",
      "\n",
      "Mean of logvar per latent dim:\n",
      "tensor([-0.9054, -1.0602, -1.0387])\n",
      "\n",
      "Std of logvar per latent dim:\n",
      "tensor([0.2906, 0.2084, 0.3577])\n"
     ]
    }
   ],
   "source": [
    "import torch\n",
    "\n",
    "device = torch.device(\"cuda\" if torch.cuda.is_available() else \"cpu\")\n",
    "model = model.to(device)\n",
    "model.eval()\n",
    "\n",
    "latents_mu = []\n",
    "latents_logvar = []\n",
    "\n",
    "with torch.no_grad():\n",
    "    for batch in test_loader:\n",
    "        x = batch[0].to(device).float()\n",
    "        _, mu, logvar = model(x)\n",
    "        latents_mu.append(mu.cpu())\n",
    "        latents_logvar.append(logvar.cpu())\n",
    "\n",
    "# Alles zusammenfügen\n",
    "mu_all = torch.cat(latents_mu, dim=0)           # shape: (n_samples, latent_dim)\n",
    "logvar_all = torch.cat(latents_logvar, dim=0)   # shape: (n_samples, latent_dim)\n",
    "\n",
    "# Statistiken\n",
    "mu_std = mu_all.std(dim=0)\n",
    "logvar_mean = logvar_all.mean(dim=0)\n",
    "logvar_std = logvar_all.std(dim=0)\n",
    "\n",
    "# Ausgabe\n",
    "print(\"Std of mu per latent dim:\")\n",
    "print(mu_std)\n",
    "\n",
    "print(\"\\nMean of logvar per latent dim:\")\n",
    "print(logvar_mean)\n",
    "\n",
    "print(\"\\nStd of logvar per latent dim:\")\n",
    "print(logvar_std)\n"
   ]
  },
  {
   "cell_type": "markdown",
   "id": "3b01e22b-7072-4a87-b201-21b998e0e6d1",
   "metadata": {},
   "source": [
    "## Reconstructing single samples"
   ]
  },
  {
   "cell_type": "code",
   "execution_count": 12,
   "id": "737804eb-ada0-4173-951b-71d671f8ca11",
   "metadata": {},
   "outputs": [
    {
     "ename": "TypeError",
     "evalue": "preprocessing() missing 1 required positional argument: 'interpolate'",
     "output_type": "error",
     "traceback": [
      "\u001b[0;31m---------------------------------------------------------------------------\u001b[0m",
      "\u001b[0;31mTypeError\u001b[0m                                 Traceback (most recent call last)",
      "Cell \u001b[0;32mIn[12], line 4\u001b[0m\n\u001b[1;32m      1\u001b[0m importlib\u001b[38;5;241m.\u001b[39mreload(helper_functions)\n\u001b[1;32m      2\u001b[0m X_recon_all \u001b[38;5;241m=\u001b[39m helper_functions\u001b[38;5;241m.\u001b[39mreconstruct_in_batches(X, model, device, \u001b[38;5;241m64\u001b[39m)\n\u001b[0;32m----> 4\u001b[0m original_z \u001b[38;5;241m=\u001b[39m \u001b[43mhelper_functions\u001b[49m\u001b[38;5;241;43m.\u001b[39;49m\u001b[43mpreprocessing\u001b[49m\u001b[43m(\u001b[49m\u001b[43mds\u001b[49m\u001b[43m,\u001b[49m\u001b[43m \u001b[49m\u001b[43m[\u001b[49m\u001b[38;5;124;43m\"\u001b[39;49m\u001b[38;5;124;43mthetao\u001b[39;49m\u001b[38;5;124;43m\"\u001b[39;49m\u001b[43m]\u001b[49m\u001b[43m,\u001b[49m\u001b[43m \u001b[49m\u001b[43m[\u001b[49m\u001b[38;5;241;43m50\u001b[39;49m\u001b[43m]\u001b[49m\u001b[43m,\u001b[49m\u001b[43m \u001b[49m\u001b[38;5;124;43m\"\u001b[39;49m\u001b[38;5;124;43mlocation\u001b[39;49m\u001b[38;5;124;43m\"\u001b[39;49m\u001b[43m)\u001b[49m\n\u001b[1;32m      5\u001b[0m reconstructed_z \u001b[38;5;241m=\u001b[39m helper_functions\u001b[38;5;241m.\u001b[39mreconstructed_to_stack(ds, \u001b[38;5;124m\"\u001b[39m\u001b[38;5;124mthetao\u001b[39m\u001b[38;5;124m\"\u001b[39m, \u001b[38;5;241m50\u001b[39m, X_recon_all)\n\u001b[1;32m      7\u001b[0m helper_functions\u001b[38;5;241m.\u001b[39mplot_reconstruction_comparison(\n\u001b[1;32m      8\u001b[0m     z_stack_original\u001b[38;5;241m=\u001b[39moriginal_z,\n\u001b[1;32m      9\u001b[0m     z_stack_recon\u001b[38;5;241m=\u001b[39mreconstructed_z,\n\u001b[0;32m   (...)\u001b[0m\n\u001b[1;32m     12\u001b[0m     cmax\u001b[38;5;241m=\u001b[39m\u001b[38;5;241m2\u001b[39m\n\u001b[1;32m     13\u001b[0m )\n",
      "\u001b[0;31mTypeError\u001b[0m: preprocessing() missing 1 required positional argument: 'interpolate'"
     ]
    }
   ],
   "source": [
    "importlib.reload(helper_functions)\n",
    "X_recon_all = helper_functions.reconstruct_in_batches(X, model, device, 64)\n",
    "\n",
    "original_z = helper_functions.preprocessing(ds, [\"thetao\"], [50], \"location\")\n",
    "reconstructed_z = helper_functions.reconstructed_to_stack(ds, \"thetao\", 50, X_recon_all)\n",
    "\n",
    "helper_functions.plot_reconstruction_comparison(\n",
    "    z_stack_original=original_z,\n",
    "    z_stack_recon=reconstructed_z,\n",
    "    time_indices=[0, 15, 80, 190],\n",
    "    cmin=-2,\n",
    "    cmax=2\n",
    ")"
   ]
  },
  {
   "cell_type": "markdown",
   "id": "b1f99179-f7b6-455d-94f4-1b358fd67b74",
   "metadata": {},
   "source": [
    "## Clustering with K-Means"
   ]
  },
  {
   "cell_type": "code",
   "execution_count": null,
   "id": "bf6fa6b4-85e4-46e3-be6a-37327cbd0823",
   "metadata": {},
   "outputs": [],
   "source": [
    "from sklearn.cluster import KMeans\n",
    "import torch\n",
    "\n",
    "def get_latents_and_cluster(model, X, n_clusters=5, batch_size=512, device=\"cpu\"):\n",
    "    \"\"\"\n",
    "    Computes the latent representations (mu) for all inputs and clusters them using KMeans.\n",
    "\n",
    "    Parameters:\n",
    "    - model: Trained VariationalAutoencoder\n",
    "    - X: Input data as a numpy array or torch.Tensor of shape (n_samples, input_dim)\n",
    "    - n_clusters: Number of clusters for KMeans\n",
    "    - batch_size: Batch size for efficient computation\n",
    "    - device: Device to run the model on (\"cpu\" or \"cuda\")\n",
    "\n",
    "    Returns:\n",
    "    - latents: Tensor of shape (n_samples, latent_dim)\n",
    "    - cluster_labels: Numpy array of shape (n_samples,) with cluster assignments\n",
    "    \"\"\"\n",
    "\n",
    "    model.eval()\n",
    "    model.to(device)\n",
    "\n",
    "    if isinstance(X, torch.Tensor):\n",
    "        X_tensor = X\n",
    "    else:\n",
    "        X_tensor = torch.tensor(X, dtype=torch.float32)\n",
    "\n",
    "    X_tensor = X_tensor.to(device)\n",
    "    latents = []\n",
    "\n",
    "    with torch.no_grad():\n",
    "        for i in range(0, len(X_tensor), batch_size):\n",
    "            batch = X_tensor[i:i+batch_size]\n",
    "            h = model.encoder_shared(batch)\n",
    "            mu = model.mu_layer(h)\n",
    "            latents.append(mu.cpu())\n",
    "\n",
    "    latents = torch.cat(latents, dim=0)  # (n_samples, latent_dim)\n",
    "    kmeans = KMeans(n_clusters=n_clusters, random_state=42)\n",
    "    cluster_labels = kmeans.fit_predict(latents.numpy())\n",
    "\n",
    "    return latents, cluster_labels\n"
   ]
  },
  {
   "cell_type": "code",
   "execution_count": null,
   "id": "fbedd128-90ff-4067-b68b-fbf76397bd4e",
   "metadata": {},
   "outputs": [],
   "source": [
    "latents, labels= get_latents_and_cluster(model, X, n_clusters = 9, batch_size=16)\n",
    "labels+=1\n",
    "helper_functions.plot_cluster_timeline(z_temp, labels)"
   ]
  },
  {
   "cell_type": "markdown",
   "id": "a78a164d-acaa-4c79-baae-eed654eaa66b",
   "metadata": {},
   "source": [
    "### Depth = 50"
   ]
  },
  {
   "cell_type": "code",
   "execution_count": null,
   "id": "45d17114-c79f-41b0-be9c-d5ee555056c4",
   "metadata": {},
   "outputs": [],
   "source": [
    "recon_temp_50 = helper_functions.reconstructed_to_stack(ds, \"thetao\", 50, X_recon_all)\n",
    "helper_functions.plot_average_cluster(recon_temp_50, labels, -2, 2)"
   ]
  },
  {
   "cell_type": "code",
   "execution_count": null,
   "id": "e6af822d-b2a5-4db0-ac47-9856f3101de6",
   "metadata": {},
   "outputs": [],
   "source": [
    "recon_so_50 = helper_functions.reconstructed_to_stack(ds, \"so\", 50, X_recon_all)\n",
    "helper_functions.plot_average_cluster(recon_so_50, labels, -2, 2)"
   ]
  },
  {
   "cell_type": "markdown",
   "id": "19eecd56-147a-4747-b8fa-fbc07afdbd4d",
   "metadata": {},
   "source": [
    "### Depth = 300"
   ]
  },
  {
   "cell_type": "code",
   "execution_count": null,
   "id": "942a55c3-1516-4ce9-a6bb-a7fefc72c089",
   "metadata": {},
   "outputs": [],
   "source": [
    "recon_temp_300 = helper_functions.reconstructed_to_stack(ds, \"thetao\", 300, X_recon_all)\n",
    "helper_functions.plot_average_cluster(recon_temp_300, labels, -2, 2)"
   ]
  },
  {
   "cell_type": "code",
   "execution_count": null,
   "id": "47800c2c-947e-4c1d-9587-ea6cc1931d55",
   "metadata": {},
   "outputs": [],
   "source": [
    "recon_so_300 = helper_functions.reconstructed_to_stack(ds, \"so\", 300, X_recon_all)\n",
    "helper_functions.plot_average_cluster(recon_so_300, labels, -2, 2)"
   ]
  },
  {
   "cell_type": "markdown",
   "id": "03024947-50b7-4828-8c69-1d03a1060fff",
   "metadata": {},
   "source": [
    "### Depth = 1000"
   ]
  },
  {
   "cell_type": "code",
   "execution_count": null,
   "id": "ff3c77b6-c983-4d72-89cb-79a88bfb51c5",
   "metadata": {},
   "outputs": [],
   "source": [
    "recon_temp_1000 = helper_functions.reconstructed_to_stack(ds, \"thetao\", 300, X_recon_all)\n",
    "helper_functions.plot_average_cluster(recon_temp_50, labels, -2, 2)"
   ]
  },
  {
   "cell_type": "code",
   "execution_count": null,
   "id": "3cb6092d-a696-4284-bd3a-ed1352a43d1e",
   "metadata": {},
   "outputs": [],
   "source": [
    "recon_so_1000 = helper_functions.reconstructed_to_stack(ds, \"so\", 1000, X_recon_all)\n",
    "helper_functions.plot_average_cluster(recon_so_1000, labels, -2, 2)"
   ]
  }
 ],
 "metadata": {
  "kernelspec": {
   "display_name": "Python 3 (ipykernel)",
   "language": "python",
   "name": "python3"
  },
  "language_info": {
   "codemirror_mode": {
    "name": "ipython",
    "version": 3
   },
   "file_extension": ".py",
   "mimetype": "text/x-python",
   "name": "python",
   "nbconvert_exporter": "python",
   "pygments_lexer": "ipython3",
   "version": "3.11.9"
  }
 },
 "nbformat": 4,
 "nbformat_minor": 5
}
