{
 "cells": [
  {
   "cell_type": "markdown",
   "metadata": {
    "colab_type": "text",
    "id": "view-in-github"
   },
   "source": [
    "<a href=\"https://colab.research.google.com/github/BahneTP/spatiotemporal-mining-medsea/blob/main/spatiotemporal_mining_medsea_acquisition.ipynb\" target=\"_parent\"><img src=\"https://colab.research.google.com/assets/colab-badge.svg\" alt=\"Open In Colab\"/></a>"
   ]
  },
  {
   "cell_type": "markdown",
   "metadata": {
    "id": "vwNxcQpXmPQ-"
   },
   "source": [
    "# Data Acquisition\n",
    "\n",
    "This notebook handles the download of the **[Global Ocean Physics Reanalysis](https://data.marine.copernicus.eu/product/GLOBAL_MULTIYEAR_PHY_001_030/download?dataset=cmems_mod_glo_phy_my_0.083deg_P1M-m_202311)** dataset from **Copernicus**.\n",
    "\n",
    "For further work, see:\n",
    "- [Exploratory Data Analysis](./eda.ipynb)  \n",
    "- [Data Mining](./mining.ipynb)\n"
   ]
  },
  {
   "cell_type": "code",
   "execution_count": 3,
   "metadata": {
    "id": "VncoxRijmYwD",
    "scrolled": true
   },
   "outputs": [],
   "source": [
    "!pip install copernicusmarine\n",
    "!pip install zarr fsspec\n",
    "!pip install \"xarray>=2024.1.0\""
   ]
  },
  {
   "cell_type": "code",
   "execution_count": 4,
   "metadata": {},
   "outputs": [
    {
     "name": "stdout",
     "output_type": "stream",
     "text": [
      "Requirement already satisfied: numpy<2.0 in /opt/conda/lib/python3.11/site-packages (1.26.4)\n"
     ]
    }
   ],
   "source": [
    "import sys\n",
    "!{sys.executable} -m pip install \"numpy<2.0\""
   ]
  },
  {
   "cell_type": "code",
   "execution_count": 2,
   "metadata": {},
   "outputs": [],
   "source": [
    "import xarray as xr\n",
    "import copernicusmarine\n",
    "import os\n",
    "\n",
    "parent = os.path.dirname(os.getcwd())\n",
    "path = os.path.join(parent, \"data\")\n",
    "os.makedirs(path, exist_ok=True)"
   ]
  },
  {
   "cell_type": "code",
   "execution_count": 3,
   "metadata": {
    "id": "EHQmxvzAma-s"
   },
   "outputs": [
    {
     "name": "stderr",
     "output_type": "stream",
     "text": [
      "INFO - 2025-06-17T22:23:35Z - Downloading Copernicus Marine data requires a Copernicus Marine username and password, sign up for free at: https://data.marine.copernicus.eu/register\n"
     ]
    },
    {
     "name": "stdout",
     "output_type": "stream",
     "text": [
      "Copernicus Marine username:"
     ]
    },
    {
     "name": "stdin",
     "output_type": "stream",
     "text": [
      "  bthielpeters\n"
     ]
    },
    {
     "name": "stdout",
     "output_type": "stream",
     "text": [
      "Copernicus Marine password:"
     ]
    },
    {
     "name": "stdin",
     "output_type": "stream",
     "text": [
      "  ········\n"
     ]
    },
    {
     "name": "stderr",
     "output_type": "stream",
     "text": [
      "INFO - 2025-06-17T22:23:49Z - Selected dataset version: \"202311\"\n",
      "INFO - 2025-06-17T22:23:49Z - Selected dataset part: \"default\"\n",
      "INFO - 2025-06-17T22:23:52Z - Starting download. Please wait...\n"
     ]
    },
    {
     "data": {
      "application/vnd.jupyter.widget-view+json": {
       "model_id": "a9c58734b545485596b0d58a087963e0",
       "version_major": 2,
       "version_minor": 0
      },
      "text/plain": [
       "  0%|          | 0/864 [00:00<?, ?it/s]"
      ]
     },
     "metadata": {},
     "output_type": "display_data"
    },
    {
     "name": "stderr",
     "output_type": "stream",
     "text": [
      "INFO - 2025-06-17T22:50:37Z - Successfully downloaded to /home/jovyan/spatiotemporal-mining-medsea/data/medsea.nc\n"
     ]
    }
   ],
   "source": [
    "# Monthly. Salinity, Temperature, more depths...\n",
    "\n",
    "output_file = os.path.join(path, \"medsea.nc\")\n",
    "ds = copernicusmarine.subset(\n",
    "    dataset_id=\"cmems_mod_glo_phy_my_0.083deg_P1M-m\",\n",
    "    variables=[\"so\", \"thetao\"],\n",
    "    minimum_longitude=-6.285859234924248,\n",
    "    maximum_longitude=36.52446704416333,\n",
    "    minimum_latitude=29.252430574547926,\n",
    "    maximum_latitude=46.2175134343721,\n",
    "    start_datetime=\"1993-01-01T00:00:00\",\n",
    "    end_datetime=\"2021-06-01T00:00:00\",\n",
    "    minimum_depth=0.49402499198913574,\n",
    "    maximum_depth=1062.43994140625,\n",
    "    output_filename= output_file\n",
    ")"
   ]
  },
  {
   "cell_type": "code",
   "execution_count": 10,
   "metadata": {},
   "outputs": [],
   "source": [
    "import xarray as xr\n",
    "import os\n",
    "\n",
    "depths = [\n",
    "    47.37369155883789,\n",
    "    318.1274108886719,\n",
    "    1062.43994140625\n",
    "]\n",
    "\n",
    "for depth in depths:\n",
    "    output_file = os.path.join(path, f\"medsea_daily_depth_{int(depth)}.nc\")\n",
    "    ds = copernicusmarine.subset(\n",
    "        dataset_id=\"cmems_mod_glo_phy_my_0.083deg_P1D-m\",\n",
    "        variables=[\"thetao\", \"so\"],\n",
    "        minimum_longitude=-6.285859234924248,\n",
    "        maximum_longitude=36.52446704416333,\n",
    "        minimum_latitude=29.252430574547926,\n",
    "        maximum_latitude=46.2175134343721,\n",
    "        start_datetime=\"1993-01-01T00:00:00\",\n",
    "        end_datetime=\"2021-06-01T00:00:00\",\n",
    "        minimum_depth=depth,\n",
    "        maximum_depth=depth,\n",
    "        output_filename=output_file\n",
    "    )"
   ]
  },
  {
   "cell_type": "code",
   "execution_count": null,
   "metadata": {},
   "outputs": [],
   "source": [
    "import xarray as xr\n",
    "import os\n",
    "\n",
    "depths = [\n",
    "    47.37369155883789,\n",
    "    318.1274108886719,\n",
    "    1062.43994140625\n",
    "]\n",
    "\n",
    "datasets = []\n",
    "for depth in depths:\n",
    "    file_path = os.path.join(path, f\"medsea_daily_depth_{int(depth)}.nc\")\n",
    "    ds = xr.open_dataset(file_path)\n",
    "\n",
    "    # Entferne die depth-Koordinate und -Variable vollständig\n",
    "    if \"depth\" in ds.coords:\n",
    "        ds = ds.drop_vars(\"depth\", errors=\"ignore\")\n",
    "    if \"depth\" in ds.dims:\n",
    "        ds = ds.squeeze(\"depth\", drop=True)  # falls \"depth\" eine Dimension ist mit Länge 1\n",
    "\n",
    "    # Füge neue Tiefe als neue Dimension wieder hinzu\n",
    "    ds = ds.expand_dims({\"depth\": [depth]})\n",
    "    datasets.append(ds)\n",
    "\n",
    "combined = xr.concat(datasets, dim=\"depth\")\n",
    "combined = combined.sortby(\"depth\")\n",
    "\n",
    "output_combined = os.path.join(path, \"medsea_combined_daily.nc\")\n",
    "combined.to_netcdf(output_combined)\n",
    "print(f\"Combined file: {output_combined}\")\n",
    "\n"
   ]
  }
 ],
 "metadata": {
  "colab": {
   "authorship_tag": "ABX9TyPbZPWXM+j0/u7Q9b/CaBa9",
   "include_colab_link": true,
   "provenance": []
  },
  "kernelspec": {
   "display_name": "Python 3 (ipykernel)",
   "language": "python",
   "name": "python3"
  },
  "language_info": {
   "codemirror_mode": {
    "name": "ipython",
    "version": 3
   },
   "file_extension": ".py",
   "mimetype": "text/x-python",
   "name": "python",
   "nbconvert_exporter": "python",
   "pygments_lexer": "ipython3",
   "version": "3.11.9"
  }
 },
 "nbformat": 4,
 "nbformat_minor": 4
}
