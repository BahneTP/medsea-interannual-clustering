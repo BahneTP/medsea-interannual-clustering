{
 "cells": [
  {
   "cell_type": "markdown",
   "id": "4951ac0e-4f7b-4c6d-87e8-fa212d1750a9",
   "metadata": {
    "id": "4951ac0e-4f7b-4c6d-87e8-fa212d1750a9"
   },
   "source": [
    "# Variational Convolutional Autoencoder\n",
    "\n",
    "This notebook uses a **Convolutional Variational Autoencoder (CVAE)**.  \n",
    "It combines the strengths of a **Convolutional Autoencoder**, which captures local spatial patterns in maps, with the **Variational Autoencoder** approach that maps each input to a smooth probability distribution in latent space.  \n",
    "This way, we compress oceanographic maps into robust, compact representations that stay comparable and regularized.  \n",
    "Masking handles missing or irrelevant regions, and the structured latent space makes it easier to cluster or analyze similar patterns.\n",
    "\n"
   ]
  },
  {
   "cell_type": "code",
   "execution_count": 1,
   "id": "4b2f90b1-6826-4a2b-896b-f0f59aa9999c",
   "metadata": {
    "colab": {
     "base_uri": "https://localhost:8080/"
    },
    "executionInfo": {
     "elapsed": 110274,
     "status": "ok",
     "timestamp": 1750955287591,
     "user": {
      "displayName": "Bahne Thiel-Peters",
      "userId": "11084520765208222044"
     },
     "user_tz": -120
    },
    "id": "4b2f90b1-6826-4a2b-896b-f0f59aa9999c",
    "outputId": "4dec4adf-f65f-4eea-9962-5fa5887df0ec"
   },
   "outputs": [],
   "source": [
    "!pip install -q -r ../../requirements.txt &> /dev/null"
   ]
  },
  {
   "cell_type": "markdown",
   "id": "11a9a3b7-de75-47f5-8e47-612a35397ee0",
   "metadata": {},
   "source": [
    "## Imports"
   ]
  },
  {
   "cell_type": "code",
   "execution_count": 2,
   "id": "7e3c815e-a7d9-46d6-a45d-c64b8ed20a69",
   "metadata": {
    "colab": {
     "base_uri": "https://localhost:8080/"
    },
    "executionInfo": {
     "elapsed": 57,
     "status": "ok",
     "timestamp": 1750955461797,
     "user": {
      "displayName": "Bahne Thiel-Peters",
      "userId": "11084520765208222044"
     },
     "user_tz": -120
    },
    "id": "7e3c815e-a7d9-46d6-a45d-c64b8ed20a69",
    "outputId": "c8c3bc6e-81b3-473b-e58c-d53fa46ceb8b"
   },
   "outputs": [],
   "source": [
    "import xarray as xr\n",
    "import cartopy.crs as ccrs\n",
    "import cartopy.feature as cfeature\n",
    "from ipywidgets import interact, IntSlider\n",
    "\n",
    "import numpy as np\n",
    "import pandas as pd\n",
    "import matplotlib.pyplot as plt\n",
    "import matplotlib.dates as mdates\n",
    "from sklearn.model_selection import train_test_split\n",
    "from sklearn.metrics import mean_squared_error\n",
    "from sklearn.decomposition import PCA\n",
    "\n",
    "import math\n",
    "import torch\n",
    "import torch.nn as nn\n",
    "import torch.nn.functional as F\n",
    "from torch.utils.data import DataLoader, TensorDataset, random_split\n",
    "from torchinfo import summary\n",
    "import random\n",
    "\n",
    "import sys\n",
    "sys.path.append('../..')\n",
    "import helper_functions\n",
    "import importlib\n",
    "importlib.reload(helper_functions)\n",
    "\n",
    "import warnings\n",
    "warnings.filterwarnings(\"ignore\", category=RuntimeWarning)"
   ]
  },
  {
   "cell_type": "code",
   "execution_count": 3,
   "id": "456d58da-0454-4ae0-b025-ea0d3a7f8efd",
   "metadata": {},
   "outputs": [],
   "source": [
    "SEED = 27\n",
    "random.seed(SEED)\n",
    "np.random.seed(SEED)\n",
    "torch.manual_seed(SEED)\n",
    "if torch.cuda.is_available():\n",
    "    torch.cuda.manual_seed(SEED)\n",
    "    torch.cuda.manual_seed_all(SEED)\n",
    "torch.backends.cudnn.deterministic = True\n",
    "torch.backends.cudnn.benchmark = False"
   ]
  },
  {
   "cell_type": "markdown",
   "id": "4f10a58f-d84f-4be4-abeb-478f20b1b76f",
   "metadata": {},
   "source": [
    "Since our ConvNet works with masked map data, it naturally produces some NaNs — that's expected behavior. To avoid flooding the output with warnings, we've disabled them here."
   ]
  },
  {
   "cell_type": "markdown",
   "id": "cec2175a-a4a6-4443-89a4-c30147743c2e",
   "metadata": {
    "id": "cec2175a-a4a6-4443-89a4-c30147743c2e"
   },
   "source": [
    "## Data Loading & Preprocessing"
   ]
  },
  {
   "cell_type": "code",
   "execution_count": 4,
   "id": "25c45eb1-fe33-437d-bb7b-91c8b1a76a99",
   "metadata": {
    "executionInfo": {
     "elapsed": 2945,
     "status": "ok",
     "timestamp": 1750955304911,
     "user": {
      "displayName": "Bahne Thiel-Peters",
      "userId": "11084520765208222044"
     },
     "user_tz": -120
    },
    "id": "25c45eb1-fe33-437d-bb7b-91c8b1a76a99"
   },
   "outputs": [
    {
     "name": "stdout",
     "output_type": "stream",
     "text": [
      "20554.545012 MB\n"
     ]
    }
   ],
   "source": [
    "ds = xr.open_dataset(\"/home/jovyan/spatiotemporal-mining-medsea/data/medsea.nc\")\n",
    "print(ds.nbytes / 1e6, \"MB\")"
   ]
  },
  {
   "cell_type": "code",
   "execution_count": 5,
   "id": "ffe1213c-9dee-4d4e-91d3-012c3db1899c",
   "metadata": {
    "colab": {
     "base_uri": "https://localhost:8080/"
    },
    "executionInfo": {
     "elapsed": 92667,
     "status": "ok",
     "timestamp": 1750955397579,
     "user": {
      "displayName": "Bahne Thiel-Peters",
      "userId": "11084520765208222044"
     },
     "user_tz": -120
    },
    "id": "ffe1213c-9dee-4d4e-91d3-012c3db1899c",
    "outputId": "5e8a58d3-c8db-4111-ec0e-9396fe41a514"
   },
   "outputs": [
    {
     "name": "stdout",
     "output_type": "stream",
     "text": [
      "torch.Size([342, 6, 203, 514])\n"
     ]
    }
   ],
   "source": [
    "X_np, M_np = helper_functions.preprocessing_conv(ds, [\"thetao\", \"so\"], [50, 300, 1000], True, 1)\n",
    "X = torch.tensor(X_np)  # (B, C, H, W)\n",
    "M = torch.tensor(M_np)\n",
    "print(X.shape)"
   ]
  },
  {
   "cell_type": "markdown",
   "id": "bb4956a2-917d-4d60-afc2-410b41767582",
   "metadata": {},
   "source": [
    "Again, we include all depths and features for reconstruction. The difference in our ConvNet is that these features are not simply concatenated, but stacked as channels — similar to how RGB channels work in images. This allows the network to capture spatial relationships between features and depths more effectively, which might be important in our case."
   ]
  },
  {
   "cell_type": "markdown",
   "id": "11779e19-1403-4924-b480-f5457daaee2e",
   "metadata": {
    "id": "11779e19-1403-4924-b480-f5457daaee2e"
   },
   "source": [
    "## Splitting"
   ]
  },
  {
   "cell_type": "code",
   "execution_count": 6,
   "id": "974f3cdc-1c88-4f71-88ee-bb7d3fe13362",
   "metadata": {
    "executionInfo": {
     "elapsed": 20,
     "status": "ok",
     "timestamp": 1750955397581,
     "user": {
      "displayName": "Bahne Thiel-Peters",
      "userId": "11084520765208222044"
     },
     "user_tz": -120
    },
    "id": "974f3cdc-1c88-4f71-88ee-bb7d3fe13362"
   },
   "outputs": [],
   "source": [
    "from torch.utils.data import Dataset\n",
    "\n",
    "class MaskedDataset(Dataset):\n",
    "    def __init__(self, X, M):\n",
    "        self.X = X\n",
    "        self.M = M\n",
    "\n",
    "    def __len__(self):\n",
    "        return self.X.shape[0]\n",
    "\n",
    "    def __getitem__(self, idx):\n",
    "        return self.X[idx], self.M[idx]"
   ]
  },
  {
   "cell_type": "code",
   "execution_count": 7,
   "id": "36cff7de-fbe6-4edb-9c94-5fead6c7a13a",
   "metadata": {
    "executionInfo": {
     "elapsed": 874,
     "status": "ok",
     "timestamp": 1750955398447,
     "user": {
      "displayName": "Bahne Thiel-Peters",
      "userId": "11084520765208222044"
     },
     "user_tz": -120
    },
    "id": "36cff7de-fbe6-4edb-9c94-5fead6c7a13a"
   },
   "outputs": [],
   "source": [
    "full_dataset = MaskedDataset(X_np, M_np)\n",
    "train_size = int(0.9 * len(full_dataset))\n",
    "val_size = len(full_dataset) - train_size\n",
    "\n",
    "generator = torch.Generator().manual_seed(SEED)\n",
    "train_set, val_set = torch.utils.data.random_split(\n",
    "    full_dataset,\n",
    "    [train_size, val_size],\n",
    "    generator=generator\n",
    ")\n",
    "\n",
    "train_loader = DataLoader(train_set, batch_size=32, shuffle=True)\n",
    "test_loader = DataLoader(val_set, batch_size=32)"
   ]
  },
  {
   "cell_type": "markdown",
   "id": "4ed51ed5-9af0-42ad-a1a9-9d9b0b5edfe7",
   "metadata": {
    "id": "4ed51ed5-9af0-42ad-a1a9-9d9b0b5edfe7"
   },
   "source": [
    "## The Architecture"
   ]
  },
  {
   "cell_type": "code",
   "execution_count": 8,
   "id": "BmPchZzRmXID",
   "metadata": {
    "executionInfo": {
     "elapsed": 36,
     "status": "ok",
     "timestamp": 1750955534808,
     "user": {
      "displayName": "Bahne Thiel-Peters",
      "userId": "11084520765208222044"
     },
     "user_tz": -120
    },
    "id": "BmPchZzRmXID"
   },
   "outputs": [],
   "source": [
    "class VCAE(nn.Module):\n",
    "    def __init__(self, in_channels, latent_dim=3, dropout_p=0.1, channels=[32, 64, 128, 256, 512, 1024], input_shape=(203, 514)):\n",
    "        super().__init__()\n",
    "\n",
    "        self.input_shape = input_shape\n",
    "        self.channels = channels\n",
    "\n",
    "        encoder_layers = []\n",
    "        prev_channels = in_channels\n",
    "        h, w = input_shape\n",
    "\n",
    "        for ch in channels:\n",
    "            encoder_layers += [\n",
    "                nn.Conv2d(prev_channels, ch, kernel_size=3, stride=2, padding=1),\n",
    "                nn.InstanceNorm2d(ch),\n",
    "                nn.LeakyReLU(),\n",
    "                nn.Dropout2d(p=dropout_p),\n",
    "            ]\n",
    "            prev_channels = ch\n",
    "            h = math.floor((h + 2 * 1 - 3) / 2 + 1)\n",
    "            w = math.floor((w + 2 * 1 - 3) / 2 + 1)\n",
    "\n",
    "        self.encoder = nn.Sequential(*encoder_layers)\n",
    "        self.unflatten_shape = (channels[-1], h, w)\n",
    "\n",
    "        flat_dim = channels[-1] * h * w\n",
    "        self.flatten = nn.Flatten()\n",
    "        self.fc_shared = nn.Sequential(\n",
    "            nn.Linear(flat_dim, 1024),\n",
    "            nn.LeakyReLU(),\n",
    "            nn.Dropout(p=dropout_p),\n",
    "            nn.Linear(1024, 64),\n",
    "            nn.LeakyReLU(),\n",
    "            nn.Dropout(p=dropout_p),\n",
    "        )\n",
    "        self.fc_mean = nn.Linear(64, latent_dim)\n",
    "        self.fc_logvar = nn.Linear(64, latent_dim)\n",
    "\n",
    "        self.fc_dec = nn.Sequential(\n",
    "            nn.Linear(latent_dim, 64),\n",
    "            nn.LeakyReLU(),\n",
    "            nn.Dropout(p=dropout_p),\n",
    "            nn.Linear(64, 1024),\n",
    "            nn.LeakyReLU(),\n",
    "            nn.Dropout(p=dropout_p),\n",
    "            nn.Linear(1024, flat_dim)\n",
    "        )\n",
    "\n",
    "        decoder_layers = []\n",
    "        rev_channels = list(reversed(channels))\n",
    "        for i in range(len(rev_channels) - 1):\n",
    "            decoder_layers += [\n",
    "                nn.ConvTranspose2d(rev_channels[i], rev_channels[i + 1], kernel_size=3, stride=2, padding=1, output_padding=1),\n",
    "                nn.InstanceNorm2d(rev_channels[i + 1]),\n",
    "                nn.LeakyReLU(),\n",
    "                nn.Dropout2d(p=dropout_p),\n",
    "            ]\n",
    "\n",
    "        decoder_layers += [\n",
    "            nn.ConvTranspose2d(rev_channels[-1], in_channels, kernel_size=3, stride=2, padding=1, output_padding=1)\n",
    "        ]\n",
    "        self.decoder = nn.Sequential(*decoder_layers)\n",
    "\n",
    "    def reparameterize(self, mean, logvar):\n",
    "        std = torch.exp(0.5 * logvar)\n",
    "        eps = torch.randn_like(std)\n",
    "        return mean + eps * std\n",
    "\n",
    "    def forward(self, x, mask=None):\n",
    "        if mask is not None:\n",
    "            x = x * mask\n",
    "        x = self.encoder(x)\n",
    "        h = self.fc_shared(self.flatten(x))\n",
    "        z_mean = self.fc_mean(h)\n",
    "        z_logvar = self.fc_logvar(h)\n",
    "        z = self.reparameterize(z_mean, z_logvar)\n",
    "        x = self.fc_dec(z)\n",
    "        x = x.view(x.size(0), *self.unflatten_shape)\n",
    "        x = self.decoder(x)\n",
    "        return x[:, :, :self.input_shape[0], :self.input_shape[1]], z_mean, z_logvar\n"
   ]
  },
  {
   "cell_type": "markdown",
   "id": "fd997601-9a5d-4a69-a879-fe1c9936e87b",
   "metadata": {
    "jp-MarkdownHeadingCollapsed": true
   },
   "source": [
    "### Convolutional Autoencoder\n",
    "\n",
    "We use a simple convolutional autoencoder that compresses the input maps into a small latent vector and reconstructs them back. The encoder reduces spatial resolution through convolutional layers, while the decoder upsamples the data back using transposed convolutions.\n",
    "\n",
    "I experimented with different numbers of layers, kernel sizes, and dropout values. The current setup gave the best trade-off between reconstruction quality and training stability.\n",
    "\n",
    "\n",
    "### Hard Masking\n",
    "- Since many values in the input maps are invalid (e.g. land areas), we apply a **hard mask** before feeding the data into the encoder.\n",
    "- This mask zeroes out irrelevant values, so the model only learns from valid oceanic regions.\n",
    "- During training, the same mask is applied to the loss function to ensure the model is not penalized for errors in masked-out areas.\n",
    "- This is essential for learning robust spatial patterns without being misled by missing or irrelevant data.\n"
   ]
  },
  {
   "cell_type": "markdown",
   "id": "f9f29428-7c81-4a80-a415-c051c92d86cd",
   "metadata": {
    "id": "f9f29428-7c81-4a80-a415-c051c92d86cd"
   },
   "source": [
    "## Loss Function"
   ]
  },
  {
   "cell_type": "code",
   "execution_count": 9,
   "id": "f36d7cfa-8d22-41f0-a1b0-fb2c31ac8f5e",
   "metadata": {
    "executionInfo": {
     "elapsed": 3,
     "status": "ok",
     "timestamp": 1750955398551,
     "user": {
      "displayName": "Bahne Thiel-Peters",
      "userId": "11084520765208222044"
     },
     "user_tz": -120
    },
    "id": "f36d7cfa-8d22-41f0-a1b0-fb2c31ac8f5e"
   },
   "outputs": [],
   "source": [
    "def masked_recon_loss(x_recon, x_true, mask):\n",
    "    loss = ((x_recon - x_true) ** 2) * mask\n",
    "    return loss.sum() / mask.sum()"
   ]
  },
  {
   "cell_type": "markdown",
   "id": "696eba88-be08-4790-a145-0a3ddeeffaa2",
   "metadata": {
    "id": "696eba88-be08-4790-a145-0a3ddeeffaa2"
   },
   "source": [
    "## Training Loop"
   ]
  },
  {
   "cell_type": "code",
   "execution_count": 10,
   "id": "c8b3e058-34ba-439d-aeda-aa0a21e6dd5e",
   "metadata": {
    "executionInfo": {
     "elapsed": 2,
     "status": "ok",
     "timestamp": 1750955398556,
     "user": {
      "displayName": "Bahne Thiel-Peters",
      "userId": "11084520765208222044"
     },
     "user_tz": -120
    },
    "id": "c8b3e058-34ba-439d-aeda-aa0a21e6dd5e"
   },
   "outputs": [],
   "source": [
    "def train(num_epochs: int, kl_annealing_epochs: int = 50, bint: float = 0.1):\n",
    "    torch.cuda.empty_cache()\n",
    "\n",
    "    train_losses = []\n",
    "    val_losses = []\n",
    "    train_recons = []\n",
    "    val_recons = []\n",
    "    train_kls = []\n",
    "    val_kls = []\n",
    "\n",
    "    for epoch in range(num_epochs):\n",
    "        beta = min(bint, epoch / kl_annealing_epochs * bint)\n",
    "        model.train()\n",
    "        running_train_recon = 0.0\n",
    "        running_train_kl = 0.0\n",
    "\n",
    "        for x, mask in train_loader:\n",
    "            x = x.to(device)\n",
    "            mask = mask.to(device)\n",
    "            optimizer.zero_grad()\n",
    "            x_recon, z_mean, z_logvar = model(x, mask=mask)\n",
    "            kl_loss = -0.5 * torch.sum(1 + z_logvar - z_mean.pow(2) - z_logvar.exp(), dim=1).mean()\n",
    "            recon_loss = masked_recon_loss(x_recon, x, mask)\n",
    "            loss = recon_loss + beta * kl_loss\n",
    "            loss.backward()\n",
    "            optimizer.step()\n",
    "            running_train_recon += recon_loss.item() * x.size(0)\n",
    "            running_train_kl += kl_loss.item() * x.size(0)\n",
    "\n",
    "        train_recon = running_train_recon / len(train_loader.dataset)\n",
    "        train_kl = running_train_kl / len(train_loader.dataset)\n",
    "        train_loss = train_recon + beta * train_kl\n",
    "\n",
    "        train_losses.append(train_loss)\n",
    "        train_recons.append(train_recon)\n",
    "        train_kls.append(train_kl)\n",
    "\n",
    "        model.eval()\n",
    "        running_val_recon = 0.0\n",
    "        running_val_kl = 0.0\n",
    "\n",
    "        with torch.no_grad():\n",
    "            for x, mask in test_loader:\n",
    "                x = x.to(device)\n",
    "                mask = mask.to(device)\n",
    "                x_recon, z_mean, z_logvar = model(x, mask=mask)\n",
    "                kl_loss = -0.5 * torch.sum(1 + z_logvar - z_mean.pow(2) - z_logvar.exp(), dim=1).mean()\n",
    "                recon_loss = masked_recon_loss(x_recon, x, mask)\n",
    "                running_val_recon += recon_loss.item() * x.size(0)\n",
    "                running_val_kl += kl_loss.item() * x.size(0)\n",
    "\n",
    "        val_recon = running_val_recon / len(test_loader.dataset)\n",
    "        val_kl = running_val_kl / len(test_loader.dataset)\n",
    "        val_loss = val_recon + beta * val_kl\n",
    "\n",
    "        val_losses.append(val_loss)\n",
    "        val_recons.append(val_recon)\n",
    "        val_kls.append(val_kl)\n",
    "\n",
    "        if (epoch+1) % 10 == 0:\n",
    "            print(\n",
    "                f\"Epoch {epoch+1}/{num_epochs} | \"\n",
    "                f\"β: {beta:.5f} | \"\n",
    "                f\"Train Loss: {train_loss:.4f} (Recon: {train_recon:.4f}, KL: {train_kl:.4f}) | \"\n",
    "                f\"Val Loss: {val_loss:.4f} (Recon: {val_recon:.4f}, KL: {val_kl:.4f})\"\n",
    "            )\n",
    "\n",
    "    return train_losses, val_losses, train_recons, val_recons, train_kls, val_kls\n"
   ]
  },
  {
   "cell_type": "markdown",
   "id": "bd29feb4-1f80-400e-b1f7-a41f47fcace9",
   "metadata": {
    "id": "bd29feb4-1f80-400e-b1f7-a41f47fcace9"
   },
   "source": [
    "## Setup"
   ]
  },
  {
   "cell_type": "code",
   "execution_count": 11,
   "id": "22fecc03-c5a1-49d2-87d0-9b490e8ff0c2",
   "metadata": {
    "executionInfo": {
     "elapsed": 7,
     "status": "ok",
     "timestamp": 1750955398545,
     "user": {
      "displayName": "Bahne Thiel-Peters",
      "userId": "11084520765208222044"
     },
     "user_tz": -120
    },
    "id": "22fecc03-c5a1-49d2-87d0-9b490e8ff0c2"
   },
   "outputs": [],
   "source": [
    "train_losses = []\n",
    "val_losses = []"
   ]
  },
  {
   "cell_type": "code",
   "execution_count": 12,
   "id": "36mleCQi1wa1",
   "metadata": {
    "colab": {
     "base_uri": "https://localhost:8080/",
     "height": 218
    },
    "executionInfo": {
     "elapsed": 224,
     "status": "error",
     "timestamp": 1750955678818,
     "user": {
      "displayName": "Bahne Thiel-Peters",
      "userId": "11084520765208222044"
     },
     "user_tz": -120
    },
    "id": "36mleCQi1wa1",
    "outputId": "618c29cd-1083-48b1-b84a-7a9790043df4"
   },
   "outputs": [
    {
     "data": {
      "text/plain": [
       "==========================================================================================\n",
       "Layer (type:depth-idx)                   Output Shape              Param #\n",
       "==========================================================================================\n",
       "VCAE                                     [1, 6, 203, 514]          --\n",
       "├─Sequential: 1-1                        [1, 1024, 4, 9]           --\n",
       "│    └─Conv2d: 2-1                       [1, 32, 102, 257]         1,760\n",
       "│    └─InstanceNorm2d: 2-2               [1, 32, 102, 257]         --\n",
       "│    └─LeakyReLU: 2-3                    [1, 32, 102, 257]         --\n",
       "│    └─Dropout2d: 2-4                    [1, 32, 102, 257]         --\n",
       "│    └─Conv2d: 2-5                       [1, 64, 51, 129]          18,496\n",
       "│    └─InstanceNorm2d: 2-6               [1, 64, 51, 129]          --\n",
       "│    └─LeakyReLU: 2-7                    [1, 64, 51, 129]          --\n",
       "│    └─Dropout2d: 2-8                    [1, 64, 51, 129]          --\n",
       "│    └─Conv2d: 2-9                       [1, 128, 26, 65]          73,856\n",
       "│    └─InstanceNorm2d: 2-10              [1, 128, 26, 65]          --\n",
       "│    └─LeakyReLU: 2-11                   [1, 128, 26, 65]          --\n",
       "│    └─Dropout2d: 2-12                   [1, 128, 26, 65]          --\n",
       "│    └─Conv2d: 2-13                      [1, 256, 13, 33]          295,168\n",
       "│    └─InstanceNorm2d: 2-14              [1, 256, 13, 33]          --\n",
       "│    └─LeakyReLU: 2-15                   [1, 256, 13, 33]          --\n",
       "│    └─Dropout2d: 2-16                   [1, 256, 13, 33]          --\n",
       "│    └─Conv2d: 2-17                      [1, 512, 7, 17]           1,180,160\n",
       "│    └─InstanceNorm2d: 2-18              [1, 512, 7, 17]           --\n",
       "│    └─LeakyReLU: 2-19                   [1, 512, 7, 17]           --\n",
       "│    └─Dropout2d: 2-20                   [1, 512, 7, 17]           --\n",
       "│    └─Conv2d: 2-21                      [1, 1024, 4, 9]           4,719,616\n",
       "│    └─InstanceNorm2d: 2-22              [1, 1024, 4, 9]           --\n",
       "│    └─LeakyReLU: 2-23                   [1, 1024, 4, 9]           --\n",
       "│    └─Dropout2d: 2-24                   [1, 1024, 4, 9]           --\n",
       "├─Flatten: 1-2                           [1, 36864]                --\n",
       "├─Sequential: 1-3                        [1, 64]                   --\n",
       "│    └─Linear: 2-25                      [1, 1024]                 37,749,760\n",
       "│    └─LeakyReLU: 2-26                   [1, 1024]                 --\n",
       "│    └─Dropout: 2-27                     [1, 1024]                 --\n",
       "│    └─Linear: 2-28                      [1, 64]                   65,600\n",
       "│    └─LeakyReLU: 2-29                   [1, 64]                   --\n",
       "│    └─Dropout: 2-30                     [1, 64]                   --\n",
       "├─Linear: 1-4                            [1, 3]                    195\n",
       "├─Linear: 1-5                            [1, 3]                    195\n",
       "├─Sequential: 1-6                        [1, 36864]                --\n",
       "│    └─Linear: 2-31                      [1, 64]                   256\n",
       "│    └─LeakyReLU: 2-32                   [1, 64]                   --\n",
       "│    └─Dropout: 2-33                     [1, 64]                   --\n",
       "│    └─Linear: 2-34                      [1, 1024]                 66,560\n",
       "│    └─LeakyReLU: 2-35                   [1, 1024]                 --\n",
       "│    └─Dropout: 2-36                     [1, 1024]                 --\n",
       "│    └─Linear: 2-37                      [1, 36864]                37,785,600\n",
       "├─Sequential: 1-7                        [1, 6, 256, 576]          --\n",
       "│    └─ConvTranspose2d: 2-38             [1, 512, 8, 18]           4,719,104\n",
       "│    └─InstanceNorm2d: 2-39              [1, 512, 8, 18]           --\n",
       "│    └─LeakyReLU: 2-40                   [1, 512, 8, 18]           --\n",
       "│    └─Dropout2d: 2-41                   [1, 512, 8, 18]           --\n",
       "│    └─ConvTranspose2d: 2-42             [1, 256, 16, 36]          1,179,904\n",
       "│    └─InstanceNorm2d: 2-43              [1, 256, 16, 36]          --\n",
       "│    └─LeakyReLU: 2-44                   [1, 256, 16, 36]          --\n",
       "│    └─Dropout2d: 2-45                   [1, 256, 16, 36]          --\n",
       "│    └─ConvTranspose2d: 2-46             [1, 128, 32, 72]          295,040\n",
       "│    └─InstanceNorm2d: 2-47              [1, 128, 32, 72]          --\n",
       "│    └─LeakyReLU: 2-48                   [1, 128, 32, 72]          --\n",
       "│    └─Dropout2d: 2-49                   [1, 128, 32, 72]          --\n",
       "│    └─ConvTranspose2d: 2-50             [1, 64, 64, 144]          73,792\n",
       "│    └─InstanceNorm2d: 2-51              [1, 64, 64, 144]          --\n",
       "│    └─LeakyReLU: 2-52                   [1, 64, 64, 144]          --\n",
       "│    └─Dropout2d: 2-53                   [1, 64, 64, 144]          --\n",
       "│    └─ConvTranspose2d: 2-54             [1, 32, 128, 288]         18,464\n",
       "│    └─InstanceNorm2d: 2-55              [1, 32, 128, 288]         --\n",
       "│    └─LeakyReLU: 2-56                   [1, 32, 128, 288]         --\n",
       "│    └─Dropout2d: 2-57                   [1, 32, 128, 288]         --\n",
       "│    └─ConvTranspose2d: 2-58             [1, 6, 256, 576]          1,734\n",
       "==========================================================================================\n",
       "Total params: 88,245,260\n",
       "Trainable params: 88,245,260\n",
       "Non-trainable params: 0\n",
       "Total mult-adds (Units.GIGABYTES): 4.46\n",
       "==========================================================================================\n",
       "Input size (MB): 2.50\n",
       "Forward/backward pass size (MB): 39.15\n",
       "Params size (MB): 352.98\n",
       "Estimated Total Size (MB): 394.63\n",
       "=========================================================================================="
      ]
     },
     "execution_count": 12,
     "metadata": {},
     "output_type": "execute_result"
    }
   ],
   "source": [
    "torch.cuda.empty_cache()\n",
    "# torch.cuda.reset_peak_memory_stats()\n",
    "device = torch.device(\"cuda\" if torch.cuda.is_available() else \"cpu\")\n",
    "\n",
    "model = VCAE(in_channels=X_np.shape[1], latent_dim=3, dropout_p=0.1, channels= [32, 64, 128, 256, 512, 1024]).to(device)\n",
    "optimizer = torch.optim.Adam(model.parameters(), lr=0.0004)\n",
    "\n",
    "summary(model, input_size=(1, X_np.shape[1], 203, 514))"
   ]
  },
  {
   "cell_type": "code",
   "execution_count": 13,
   "id": "PUQ6KPZs2CZL",
   "metadata": {
    "id": "PUQ6KPZs2CZL"
   },
   "outputs": [
    {
     "name": "stdout",
     "output_type": "stream",
     "text": [
      "Epoch 10/1000 | β: 0.00060 | Train Loss: 1.0020 (Recon: 1.0020, KL: 0.0017) | Val Loss: 0.9927 (Recon: 0.9927, KL: 0.0002)\n",
      "Epoch 20/1000 | β: 0.00127 | Train Loss: 1.0019 (Recon: 1.0019, KL: 0.0013) | Val Loss: 0.9919 (Recon: 0.9919, KL: 0.0003)\n",
      "Epoch 30/1000 | β: 0.00193 | Train Loss: 1.0015 (Recon: 1.0015, KL: 0.0013) | Val Loss: 0.9915 (Recon: 0.9915, KL: 0.0004)\n",
      "Epoch 40/1000 | β: 0.00260 | Train Loss: 1.0015 (Recon: 1.0015, KL: 0.0011) | Val Loss: 0.9914 (Recon: 0.9914, KL: 0.0005)\n",
      "Epoch 50/1000 | β: 0.00327 | Train Loss: 1.0013 (Recon: 1.0012, KL: 0.0024) | Val Loss: 0.9916 (Recon: 0.9916, KL: 0.0018)\n",
      "Epoch 60/1000 | β: 0.00393 | Train Loss: 1.0008 (Recon: 1.0008, KL: 0.0058) | Val Loss: 0.9913 (Recon: 0.9913, KL: 0.0095)\n",
      "Epoch 70/1000 | β: 0.00460 | Train Loss: 0.9999 (Recon: 0.9985, KL: 0.3094) | Val Loss: 0.9879 (Recon: 0.9866, KL: 0.2776)\n",
      "Epoch 80/1000 | β: 0.00527 | Train Loss: 0.8397 (Recon: 0.8214, KL: 3.4755) | Val Loss: 0.8042 (Recon: 0.7889, KL: 2.9045)\n",
      "Epoch 90/1000 | β: 0.00593 | Train Loss: 0.8110 (Recon: 0.7930, KL: 3.0209) | Val Loss: 0.7871 (Recon: 0.7702, KL: 2.8502)\n",
      "Epoch 100/1000 | β: 0.00660 | Train Loss: 0.8256 (Recon: 0.7981, KL: 4.1711) | Val Loss: 0.8129 (Recon: 0.7884, KL: 3.7199)\n",
      "Epoch 110/1000 | β: 0.00727 | Train Loss: 0.7875 (Recon: 0.7623, KL: 3.4744) | Val Loss: 0.7737 (Recon: 0.7479, KL: 3.5566)\n",
      "Epoch 120/1000 | β: 0.00793 | Train Loss: 0.7667 (Recon: 0.7372, KL: 3.7208) | Val Loss: 0.7559 (Recon: 0.7265, KL: 3.7005)\n",
      "Epoch 130/1000 | β: 0.00860 | Train Loss: 0.7479 (Recon: 0.7135, KL: 3.9956) | Val Loss: 0.7289 (Recon: 0.6962, KL: 3.8132)\n",
      "Epoch 140/1000 | β: 0.00927 | Train Loss: 0.7215 (Recon: 0.6797, KL: 4.5077) | Val Loss: 0.6960 (Recon: 0.6583, KL: 4.0663)\n",
      "Epoch 150/1000 | β: 0.00993 | Train Loss: 0.7028 (Recon: 0.6593, KL: 4.3767) | Val Loss: 0.6596 (Recon: 0.6169, KL: 4.3016)\n",
      "Epoch 160/1000 | β: 0.01060 | Train Loss: 0.6848 (Recon: 0.6375, KL: 4.4710) | Val Loss: 0.6469 (Recon: 0.5986, KL: 4.5625)\n",
      "Epoch 170/1000 | β: 0.01127 | Train Loss: 0.6805 (Recon: 0.6270, KL: 4.7453) | Val Loss: 0.6596 (Recon: 0.6038, KL: 4.9606)\n",
      "Epoch 180/1000 | β: 0.01193 | Train Loss: 0.6729 (Recon: 0.6167, KL: 4.7135) | Val Loss: 0.6449 (Recon: 0.5910, KL: 4.5171)\n",
      "Epoch 190/1000 | β: 0.01260 | Train Loss: 0.6627 (Recon: 0.6031, KL: 4.7317) | Val Loss: 0.6414 (Recon: 0.5829, KL: 4.6388)\n",
      "Epoch 200/1000 | β: 0.01327 | Train Loss: 0.6599 (Recon: 0.5985, KL: 4.6312) | Val Loss: 0.6261 (Recon: 0.5680, KL: 4.3863)\n",
      "Epoch 210/1000 | β: 0.01393 | Train Loss: 0.6536 (Recon: 0.5886, KL: 4.6670) | Val Loss: 0.6343 (Recon: 0.5694, KL: 4.6574)\n",
      "Epoch 220/1000 | β: 0.01460 | Train Loss: 0.6594 (Recon: 0.5895, KL: 4.7883) | Val Loss: 0.6330 (Recon: 0.5630, KL: 4.7903)\n",
      "Epoch 230/1000 | β: 0.01527 | Train Loss: 0.6504 (Recon: 0.5827, KL: 4.4314) | Val Loss: 0.6289 (Recon: 0.5609, KL: 4.4582)\n",
      "Epoch 240/1000 | β: 0.01593 | Train Loss: 0.6559 (Recon: 0.5825, KL: 4.6044) | Val Loss: 0.6260 (Recon: 0.5534, KL: 4.5576)\n",
      "Epoch 250/1000 | β: 0.01660 | Train Loss: 0.7037 (Recon: 0.6227, KL: 4.8786) | Val Loss: 0.6775 (Recon: 0.6018, KL: 4.5559)\n",
      "Epoch 260/1000 | β: 0.01727 | Train Loss: 0.6589 (Recon: 0.5815, KL: 4.4843) | Val Loss: 0.6275 (Recon: 0.5467, KL: 4.6798)\n",
      "Epoch 270/1000 | β: 0.01793 | Train Loss: 0.6423 (Recon: 0.5595, KL: 4.6168) | Val Loss: 0.6220 (Recon: 0.5412, KL: 4.5011)\n",
      "Epoch 280/1000 | β: 0.01860 | Train Loss: 0.6410 (Recon: 0.5559, KL: 4.5737) | Val Loss: 0.6067 (Recon: 0.5230, KL: 4.4997)\n",
      "Epoch 290/1000 | β: 0.01927 | Train Loss: 0.6391 (Recon: 0.5520, KL: 4.5237) | Val Loss: 0.6077 (Recon: 0.5203, KL: 4.5373)\n",
      "Epoch 300/1000 | β: 0.01993 | Train Loss: 0.6377 (Recon: 0.5481, KL: 4.4964) | Val Loss: 0.6121 (Recon: 0.5238, KL: 4.4305)\n",
      "Epoch 310/1000 | β: 0.02060 | Train Loss: 0.6206 (Recon: 0.5282, KL: 4.4882) | Val Loss: 0.5957 (Recon: 0.5053, KL: 4.3890)\n",
      "Epoch 320/1000 | β: 0.02127 | Train Loss: 0.6455 (Recon: 0.5411, KL: 4.9107) | Val Loss: 0.6042 (Recon: 0.5033, KL: 4.7449)\n",
      "Epoch 330/1000 | β: 0.02193 | Train Loss: 0.6426 (Recon: 0.5442, KL: 4.4849) | Val Loss: 0.6064 (Recon: 0.5073, KL: 4.5172)\n",
      "Epoch 340/1000 | β: 0.02260 | Train Loss: 0.6366 (Recon: 0.5343, KL: 4.5257) | Val Loss: 0.6065 (Recon: 0.5062, KL: 4.4382)\n",
      "Epoch 350/1000 | β: 0.02327 | Train Loss: 0.6421 (Recon: 0.5315, KL: 4.7542) | Val Loss: 0.6021 (Recon: 0.4913, KL: 4.7621)\n",
      "Epoch 360/1000 | β: 0.02393 | Train Loss: 0.6272 (Recon: 0.5177, KL: 4.5728) | Val Loss: 0.6003 (Recon: 0.4937, KL: 4.4536)\n",
      "Epoch 370/1000 | β: 0.02460 | Train Loss: 0.6309 (Recon: 0.5193, KL: 4.5362) | Val Loss: 0.5964 (Recon: 0.4866, KL: 4.4645)\n",
      "Epoch 380/1000 | β: 0.02527 | Train Loss: 0.6241 (Recon: 0.5133, KL: 4.3873) | Val Loss: 0.6181 (Recon: 0.5076, KL: 4.3764)\n",
      "Epoch 390/1000 | β: 0.02593 | Train Loss: 0.6360 (Recon: 0.5164, KL: 4.6104) | Val Loss: 0.6110 (Recon: 0.4949, KL: 4.4785)\n",
      "Epoch 400/1000 | β: 0.02660 | Train Loss: 0.6573 (Recon: 0.5419, KL: 4.3374) | Val Loss: 0.6338 (Recon: 0.5170, KL: 4.3919)\n",
      "Epoch 410/1000 | β: 0.02727 | Train Loss: 0.6389 (Recon: 0.5247, KL: 4.1890) | Val Loss: 0.6218 (Recon: 0.5046, KL: 4.3005)\n",
      "Epoch 420/1000 | β: 0.02793 | Train Loss: 0.6402 (Recon: 0.5152, KL: 4.4757) | Val Loss: 0.6088 (Recon: 0.4848, KL: 4.4379)\n",
      "Epoch 430/1000 | β: 0.02860 | Train Loss: 0.6365 (Recon: 0.5145, KL: 4.2639) | Val Loss: 0.6289 (Recon: 0.5107, KL: 4.1315)\n",
      "Epoch 440/1000 | β: 0.02927 | Train Loss: 0.6328 (Recon: 0.5097, KL: 4.2060) | Val Loss: 0.6129 (Recon: 0.4880, KL: 4.2672)\n",
      "Epoch 450/1000 | β: 0.02993 | Train Loss: 0.6514 (Recon: 0.5116, KL: 4.6685) | Val Loss: 0.6163 (Recon: 0.4768, KL: 4.6597)\n",
      "Epoch 460/1000 | β: 0.03060 | Train Loss: 0.6715 (Recon: 0.5280, KL: 4.6872) | Val Loss: 0.6182 (Recon: 0.4822, KL: 4.4441)\n",
      "Epoch 470/1000 | β: 0.03127 | Train Loss: 0.6456 (Recon: 0.5043, KL: 4.5179) | Val Loss: 0.6168 (Recon: 0.4784, KL: 4.4265)\n",
      "Epoch 480/1000 | β: 0.03193 | Train Loss: 0.6471 (Recon: 0.5129, KL: 4.2024) | Val Loss: 0.6075 (Recon: 0.4730, KL: 4.2145)\n",
      "Epoch 490/1000 | β: 0.03260 | Train Loss: 0.6360 (Recon: 0.5005, KL: 4.1576) | Val Loss: 0.6138 (Recon: 0.4769, KL: 4.2001)\n",
      "Epoch 500/1000 | β: 0.03327 | Train Loss: 0.6460 (Recon: 0.5004, KL: 4.3793) | Val Loss: 0.6158 (Recon: 0.4696, KL: 4.3951)\n",
      "Epoch 510/1000 | β: 0.03393 | Train Loss: 0.6397 (Recon: 0.4900, KL: 4.4096) | Val Loss: 0.6214 (Recon: 0.4702, KL: 4.4550)\n",
      "Epoch 520/1000 | β: 0.03460 | Train Loss: 0.9175 (Recon: 0.6806, KL: 6.8463) | Val Loss: 0.8732 (Recon: 0.6358, KL: 6.8630)\n",
      "Epoch 530/1000 | β: 0.03527 | Train Loss: 0.7058 (Recon: 0.5602, KL: 4.1273) | Val Loss: 0.6722 (Recon: 0.5256, KL: 4.1558)\n",
      "Epoch 540/1000 | β: 0.03593 | Train Loss: 0.6640 (Recon: 0.5105, KL: 4.2724) | Val Loss: 0.6358 (Recon: 0.4849, KL: 4.2006)\n",
      "Epoch 550/1000 | β: 0.03660 | Train Loss: 0.6954 (Recon: 0.5176, KL: 4.8578) | Val Loss: 0.6521 (Recon: 0.4785, KL: 4.7430)\n",
      "Epoch 560/1000 | β: 0.03727 | Train Loss: 0.6654 (Recon: 0.5106, KL: 4.1552) | Val Loss: 0.6442 (Recon: 0.4903, KL: 4.1291)\n",
      "Epoch 570/1000 | β: 0.03793 | Train Loss: 0.6748 (Recon: 0.5151, KL: 4.2095) | Val Loss: 0.6306 (Recon: 0.4702, KL: 4.2277)\n",
      "Epoch 580/1000 | β: 0.03860 | Train Loss: 0.6538 (Recon: 0.4915, KL: 4.2067) | Val Loss: 0.6486 (Recon: 0.4869, KL: 4.1884)\n",
      "Epoch 590/1000 | β: 0.03927 | Train Loss: 0.6595 (Recon: 0.4922, KL: 4.2589) | Val Loss: 0.6192 (Recon: 0.4530, KL: 4.2319)\n",
      "Epoch 600/1000 | β: 0.03993 | Train Loss: 0.6597 (Recon: 0.4963, KL: 4.0919) | Val Loss: 0.6428 (Recon: 0.4806, KL: 4.0599)\n",
      "Epoch 610/1000 | β: 0.04000 | Train Loss: 0.6659 (Recon: 0.5050, KL: 4.0213) | Val Loss: 0.6368 (Recon: 0.4759, KL: 4.0236)\n",
      "Epoch 620/1000 | β: 0.04000 | Train Loss: 0.6502 (Recon: 0.4852, KL: 4.1260) | Val Loss: 0.6349 (Recon: 0.4711, KL: 4.0970)\n",
      "Epoch 630/1000 | β: 0.04000 | Train Loss: 0.6468 (Recon: 0.4832, KL: 4.0902) | Val Loss: 0.6110 (Recon: 0.4468, KL: 4.1052)\n",
      "Epoch 640/1000 | β: 0.04000 | Train Loss: 0.6460 (Recon: 0.4778, KL: 4.2046) | Val Loss: 0.6358 (Recon: 0.4719, KL: 4.0977)\n",
      "Epoch 650/1000 | β: 0.04000 | Train Loss: 0.6621 (Recon: 0.4940, KL: 4.2029) | Val Loss: 0.6395 (Recon: 0.4703, KL: 4.2297)\n",
      "Epoch 660/1000 | β: 0.04000 | Train Loss: 0.6475 (Recon: 0.4780, KL: 4.2389) | Val Loss: 0.6390 (Recon: 0.4737, KL: 4.1325)\n",
      "Epoch 670/1000 | β: 0.04000 | Train Loss: 0.6524 (Recon: 0.4814, KL: 4.2744) | Val Loss: 0.6267 (Recon: 0.4578, KL: 4.2226)\n",
      "Epoch 680/1000 | β: 0.04000 | Train Loss: 0.6560 (Recon: 0.4875, KL: 4.2130) | Val Loss: 0.6271 (Recon: 0.4602, KL: 4.1727)\n",
      "Epoch 690/1000 | β: 0.04000 | Train Loss: 0.6450 (Recon: 0.4791, KL: 4.1483) | Val Loss: 0.6222 (Recon: 0.4557, KL: 4.1623)\n",
      "Epoch 700/1000 | β: 0.04000 | Train Loss: 0.6418 (Recon: 0.4720, KL: 4.2443) | Val Loss: 0.6169 (Recon: 0.4523, KL: 4.1154)\n",
      "Epoch 710/1000 | β: 0.04000 | Train Loss: 0.6419 (Recon: 0.4709, KL: 4.2758) | Val Loss: 0.6327 (Recon: 0.4626, KL: 4.2524)\n",
      "Epoch 720/1000 | β: 0.04000 | Train Loss: 0.6452 (Recon: 0.4710, KL: 4.3548) | Val Loss: 0.6270 (Recon: 0.4560, KL: 4.2756)\n",
      "Epoch 730/1000 | β: 0.04000 | Train Loss: 0.6429 (Recon: 0.4741, KL: 4.2200) | Val Loss: 0.6232 (Recon: 0.4529, KL: 4.2566)\n",
      "Epoch 740/1000 | β: 0.04000 | Train Loss: 0.6391 (Recon: 0.4683, KL: 4.2682) | Val Loss: 0.6547 (Recon: 0.4880, KL: 4.1678)\n",
      "Epoch 750/1000 | β: 0.04000 | Train Loss: 0.6105 (Recon: 0.4472, KL: 4.0826) | Val Loss: 0.6119 (Recon: 0.4549, KL: 3.9252)\n",
      "Epoch 760/1000 | β: 0.04000 | Train Loss: 0.6407 (Recon: 0.4673, KL: 4.3346) | Val Loss: 0.6203 (Recon: 0.4488, KL: 4.2890)\n",
      "Epoch 770/1000 | β: 0.04000 | Train Loss: 0.6365 (Recon: 0.4634, KL: 4.3288) | Val Loss: 0.6170 (Recon: 0.4456, KL: 4.2852)\n",
      "Epoch 780/1000 | β: 0.04000 | Train Loss: 0.6277 (Recon: 0.4479, KL: 4.4960) | Val Loss: 0.6058 (Recon: 0.4299, KL: 4.3982)\n",
      "Epoch 790/1000 | β: 0.04000 | Train Loss: 0.6330 (Recon: 0.4621, KL: 4.2721) | Val Loss: 0.6254 (Recon: 0.4562, KL: 4.2295)\n",
      "Epoch 800/1000 | β: 0.04000 | Train Loss: 0.6413 (Recon: 0.4687, KL: 4.3129) | Val Loss: 0.6239 (Recon: 0.4516, KL: 4.3071)\n",
      "Epoch 810/1000 | β: 0.04000 | Train Loss: 0.6274 (Recon: 0.4549, KL: 4.3106) | Val Loss: 0.6081 (Recon: 0.4395, KL: 4.2143)\n",
      "Epoch 820/1000 | β: 0.04000 | Train Loss: 0.6304 (Recon: 0.4604, KL: 4.2509) | Val Loss: 0.6078 (Recon: 0.4360, KL: 4.2960)\n",
      "Epoch 830/1000 | β: 0.04000 | Train Loss: 0.6326 (Recon: 0.4595, KL: 4.3275) | Val Loss: 0.6420 (Recon: 0.4690, KL: 4.3241)\n",
      "Epoch 840/1000 | β: 0.04000 | Train Loss: 0.6218 (Recon: 0.4520, KL: 4.2428) | Val Loss: 0.6292 (Recon: 0.4587, KL: 4.2624)\n",
      "Epoch 850/1000 | β: 0.04000 | Train Loss: 0.8080 (Recon: 0.5292, KL: 6.9718) | Val Loss: 0.8417 (Recon: 0.5277, KL: 7.8509)\n",
      "Epoch 860/1000 | β: 0.04000 | Train Loss: 0.8207 (Recon: 0.5808, KL: 5.9963) | Val Loss: 0.7299 (Recon: 0.4961, KL: 5.8438)\n",
      "Epoch 870/1000 | β: 0.04000 | Train Loss: 0.7057 (Recon: 0.5094, KL: 4.9073) | Val Loss: 0.6824 (Recon: 0.4875, KL: 4.8716)\n",
      "Epoch 880/1000 | β: 0.04000 | Train Loss: 0.6849 (Recon: 0.5157, KL: 4.2284) | Val Loss: 0.6398 (Recon: 0.4685, KL: 4.2840)\n",
      "Epoch 890/1000 | β: 0.04000 | Train Loss: 0.6600 (Recon: 0.4826, KL: 4.4360) | Val Loss: 0.6360 (Recon: 0.4598, KL: 4.4066)\n",
      "Epoch 900/1000 | β: 0.04000 | Train Loss: 0.6665 (Recon: 0.4878, KL: 4.4683) | Val Loss: 0.6424 (Recon: 0.4611, KL: 4.5333)\n",
      "Epoch 910/1000 | β: 0.04000 | Train Loss: 0.6533 (Recon: 0.4810, KL: 4.3088) | Val Loss: 0.6689 (Recon: 0.5013, KL: 4.1902)\n",
      "Epoch 920/1000 | β: 0.04000 | Train Loss: 0.6582 (Recon: 0.4864, KL: 4.2946) | Val Loss: 0.6290 (Recon: 0.4547, KL: 4.3580)\n",
      "Epoch 930/1000 | β: 0.04000 | Train Loss: 0.6388 (Recon: 0.4627, KL: 4.4026) | Val Loss: 0.6292 (Recon: 0.4573, KL: 4.2962)\n",
      "Epoch 940/1000 | β: 0.04000 | Train Loss: 0.6522 (Recon: 0.4807, KL: 4.2884) | Val Loss: 0.6189 (Recon: 0.4473, KL: 4.2882)\n",
      "Epoch 950/1000 | β: 0.04000 | Train Loss: 0.6311 (Recon: 0.4630, KL: 4.2025) | Val Loss: 0.6201 (Recon: 0.4545, KL: 4.1393)\n",
      "Epoch 960/1000 | β: 0.04000 | Train Loss: 0.6377 (Recon: 0.4661, KL: 4.2923) | Val Loss: 0.6254 (Recon: 0.4548, KL: 4.2663)\n",
      "Epoch 970/1000 | β: 0.04000 | Train Loss: 0.6435 (Recon: 0.4699, KL: 4.3381) | Val Loss: 0.6142 (Recon: 0.4403, KL: 4.3489)\n",
      "Epoch 980/1000 | β: 0.04000 | Train Loss: 0.6431 (Recon: 0.4644, KL: 4.4687) | Val Loss: 0.6187 (Recon: 0.4382, KL: 4.5135)\n",
      "Epoch 990/1000 | β: 0.04000 | Train Loss: 0.6349 (Recon: 0.4532, KL: 4.5417) | Val Loss: 0.6344 (Recon: 0.4555, KL: 4.4715)\n",
      "Epoch 1000/1000 | β: 0.04000 | Train Loss: 0.6440 (Recon: 0.4698, KL: 4.3533) | Val Loss: 0.6127 (Recon: 0.4388, KL: 4.3482)\n"
     ]
    }
   ],
   "source": [
    "# train_losses, val_losses, train_recons, val_recons, train_kls, val_kls = train(800, 600, 0.02)\n",
    "train_losses, val_losses, train_recons, val_recons, train_kls, val_kls = train(1000, 600, 0.04)"
   ]
  },
  {
   "cell_type": "markdown",
   "id": "68549efe-8ccf-4412-a9e6-0868f92d4e68",
   "metadata": {
    "id": "68549efe-8ccf-4412-a9e6-0868f92d4e68"
   },
   "source": [
    "## Evaluation"
   ]
  },
  {
   "cell_type": "code",
   "execution_count": 25,
   "id": "55eeb7ee-74d4-4189-bd3a-3e642670e591",
   "metadata": {
    "colab": {
     "base_uri": "https://localhost:8080/",
     "height": 407
    },
    "executionInfo": {
     "elapsed": 235,
     "status": "ok",
     "timestamp": 1750953054183,
     "user": {
      "displayName": "Bahne Thiel-Peters",
      "userId": "11084520765208222044"
     },
     "user_tz": -120
    },
    "id": "55eeb7ee-74d4-4189-bd3a-3e642670e591",
    "outputId": "e40abef7-64f9-489b-f9f9-edd55db58589"
   },
   "outputs": [
    {
     "data": {
      "image/png": "[encoded data removed]",
      "text/plain": [
       "<Figure size 600x300 with 1 Axes>"
      ]
     },
     "metadata": {},
     "output_type": "display_data"
    },
    {
     "data": {
      "image/png": "[encoded data removed]",
      "text/plain": [
       "<Figure size 600x300 with 1 Axes>"
      ]
     },
     "metadata": {},
     "output_type": "display_data"
    },
    {
     "data": {
      "image/png": "[encoded data removed]",
      "text/plain": [
       "<Figure size 600x300 with 1 Axes>"
      ]
     },
     "metadata": {},
     "output_type": "display_data"
    }
   ],
   "source": [
    "train_losses2 = [min(x,1) for x in train_losses]\n",
    "val_losses2 = [min(x,2) for x in val_losses]\n",
    "helper_functions.plot_metrics([(train_losses2, \"Train Loss\"), (val_losses2, \"Validation Loss\")], \"Loss\")\n",
    "helper_functions.plot_metrics([(train_recons, \"Train MSE-Scores\"), (val_recons, \"Validation MSE-Scores\")], \"MSE-Scores\")\n",
    "train_kls2 = [min(x,7) for x in train_kls]\n",
    "val_kls2 = [min(x,7) for x in val_kls]\n",
    "helper_functions.plot_metrics([(train_kls2, \"Train KL-Scores\"), (val_kls2, \"Validation KL-Scores\")], \"KL-Scores\")"
   ]
  },
  {
   "cell_type": "code",
   "execution_count": 15,
   "id": "a0c60612-6d73-4b01-b394-995b4bea45ee",
   "metadata": {},
   "outputs": [
    {
     "name": "stdout",
     "output_type": "stream",
     "text": [
      "Std of mu per latent dim:\n",
      "tensor([1.0739, 0.0234, 0.9871])\n",
      "\n",
      "Mean of logvar per latent dim:\n",
      "tensor([-4.6430, -0.0654, -3.8731])\n",
      "\n",
      "Std of logvar per latent dim:\n",
      "tensor([0.8694, 0.0228, 0.7232])\n"
     ]
    }
   ],
   "source": [
    "device = torch.device(\"cuda\" if torch.cuda.is_available() else \"cpu\")\n",
    "model = model.to(device)\n",
    "model.eval()\n",
    "\n",
    "latents_mu = []\n",
    "latents_logvar = []\n",
    "\n",
    "with torch.no_grad():\n",
    "    for batch in train_loader:\n",
    "        x = batch[0].to(device).float()\n",
    "        _, mu, logvar = model(x)\n",
    "        latents_mu.append(mu.cpu())\n",
    "        latents_logvar.append(logvar.cpu())\n",
    "\n",
    "mu_all = torch.cat(latents_mu, dim=0)           # shape: (n_samples, latent_dim)\n",
    "logvar_all = torch.cat(latents_logvar, dim=0)   # shape: (n_samples, latent_dim)\n",
    "\n",
    "# Statistics\n",
    "mu_std = mu_all.std(dim=0)\n",
    "logvar_mean = logvar_all.mean(dim=0)\n",
    "logvar_std = logvar_all.std(dim=0)\n",
    "\n",
    "print(\"Std of mu per latent dim:\")\n",
    "print(mu_std)\n",
    "\n",
    "print(\"\\nMean of logvar per latent dim:\")\n",
    "print(logvar_mean)\n",
    "\n",
    "print(\"\\nStd of logvar per latent dim:\")\n",
    "print(logvar_std)"
   ]
  },
  {
   "cell_type": "code",
   "execution_count": 16,
   "id": "5c1065cd-8915-41bc-817e-157d470d4614",
   "metadata": {},
   "outputs": [],
   "source": [
    "def get_latents_and_cluster(model, X, k=9, batch_size=512, device=\"cpu\"):\n",
    "    \"\"\"\n",
    "    Computes the latent means (mu) for all inputs and clusters them using KMeans.\n",
    "    \"\"\"\n",
    "\n",
    "    model.eval()\n",
    "    model.to(device)\n",
    "\n",
    "    if isinstance(X, torch.Tensor):\n",
    "        X_tensor = X\n",
    "    else:\n",
    "        X_tensor = torch.tensor(X, dtype=torch.float32)\n",
    "\n",
    "    X_tensor = X_tensor.to(device)\n",
    "    latents = []\n",
    "\n",
    "    with torch.no_grad():\n",
    "        for i in range(0, len(X_tensor), batch_size):\n",
    "            batch = X_tensor[i:i+batch_size]\n",
    "\n",
    "            # VCAE: Encoder + Flatten + fc_shared + fc_mean\n",
    "            h = model.encoder(batch)\n",
    "            h = model.fc_shared(model.flatten(h))\n",
    "            mu = model.fc_mean(h)\n",
    "            latents.append(mu.cpu())\n",
    "\n",
    "    latents = torch.cat(latents, dim=0)\n",
    "\n",
    "    labels = helper_functions.apply_kmeans(latents, k)\n",
    "    labels += 1\n",
    "\n",
    "    return latents, labels\n"
   ]
  },
  {
   "cell_type": "code",
   "execution_count": 17,
   "id": "c0900f0b-2057-4fc5-b583-a0a64b532819",
   "metadata": {},
   "outputs": [],
   "source": [
    "torch.save(model.state_dict(), \"VCAE3.pth\")"
   ]
  }
 ],
 "metadata": {
  "accelerator": "GPU",
  "colab": {
   "gpuType": "T4",
   "provenance": []
  },
  "kaggle": {
   "accelerator": "nvidiaTeslaT4",
   "dataSources": [
    {
     "datasetId": 7749099,
     "sourceId": 12294777,
     "sourceType": "datasetVersion"
    },
    {
     "datasetId": 7749153,
     "sourceId": 12301699,
     "sourceType": "datasetVersion"
    },
    {
     "isSourceIdPinned": true,
     "modelId": 387008,
     "modelInstanceId": 366113,
     "sourceId": 451267,
     "sourceType": "modelInstanceVersion"
    }
   ],
   "dockerImageVersionId": 31040,
   "isGpuEnabled": true,
   "isInternetEnabled": true,
   "language": "python",
   "sourceType": "notebook"
  },
  "kernelspec": {
   "display_name": "Python 3 (ipykernel)",
   "language": "python",
   "name": "python3"
  },
  "language_info": {
   "codemirror_mode": {
    "name": "ipython",
    "version": 3
   },
   "file_extension": ".py",
   "mimetype": "text/x-python",
   "name": "python",
   "nbconvert_exporter": "python",
   "pygments_lexer": "ipython3",
   "version": "3.11.9"
  }
 },
 "nbformat": 4,
 "nbformat_minor": 5
}
