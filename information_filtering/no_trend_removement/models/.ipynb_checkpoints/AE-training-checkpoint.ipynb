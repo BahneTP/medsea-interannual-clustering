{
 "cells": [
  {
   "cell_type": "markdown",
   "id": "4951ac0e-4f7b-4c6d-87e8-fa212d1750a9",
   "metadata": {},
   "source": [
    "# Autoencoder\n",
    "This notebook makes use of the **Autoencoder**, which is used to reduce the dimensionality of our dataset in a non-linear way. Furthermore, we then apply **k-means Clustering** as in our last notebook in our new created **Latent Space** in lower dimension. We do so, to get rid of less important variables and achieve a better Clustering."
   ]
  },
  {
   "cell_type": "code",
   "execution_count": 48,
   "id": "4b2f90b1-6826-4a2b-896b-f0f59aa9999c",
   "metadata": {
    "execution": {
     "iopub.execute_input": "2025-06-29T20:12:17.635110Z",
     "iopub.status.busy": "2025-06-29T20:12:17.634487Z",
     "iopub.status.idle": "2025-06-29T20:12:17.638411Z",
     "shell.execute_reply": "2025-06-29T20:12:17.637787Z",
     "shell.execute_reply.started": "2025-06-29T20:12:17.635088Z"
    }
   },
   "outputs": [],
   "source": [
    "# !pip install cartopy xarray matplotlib netCDF4 torch torchinfo"
   ]
  },
  {
   "cell_type": "code",
   "execution_count": 5,
   "id": "7e3c815e-a7d9-46d6-a45d-c64b8ed20a69",
   "metadata": {
    "execution": {
     "iopub.execute_input": "2025-06-29T19:54:12.620718Z",
     "iopub.status.busy": "2025-06-29T19:54:12.620440Z",
     "iopub.status.idle": "2025-06-29T19:54:18.758085Z",
     "shell.execute_reply": "2025-06-29T19:54:18.757464Z",
     "shell.execute_reply.started": "2025-06-29T19:54:12.620696Z"
    }
   },
   "outputs": [
    {
     "data": {
      "text/plain": [
       "<module 'helper_functions' from '/kaggle/input/helper-functions/helper_functions.py'>"
      ]
     },
     "execution_count": 5,
     "metadata": {},
     "output_type": "execute_result"
    }
   ],
   "source": [
    "import importlib\n",
    "from ipywidgets import FloatSlider\n",
    "import xarray as xr\n",
    "import matplotlib.pyplot as plt\n",
    "import cartopy.crs as ccrs\n",
    "import cartopy.feature as cfeature\n",
    "from ipywidgets import interact, IntSlider\n",
    "from sklearn.decomposition import PCA\n",
    "import numpy as np\n",
    "import pandas as pd\n",
    "import matplotlib.dates as mdates\n",
    "\n",
    "import torch\n",
    "import torch.nn as nn\n",
    "from torchinfo import summary\n",
    "from sklearn.model_selection import train_test_split\n",
    "from sklearn.metrics import mean_squared_error\n",
    "from torch.utils.data import DataLoader, TensorDataset\n",
    "\n",
    "import sys\n",
    "sys.path.append('/kaggle/input/helper-functions/')\n",
    "import helper_functions     # Own file.\n",
    "import importlib\n",
    "importlib.reload(helper_functions)"
   ]
  },
  {
   "cell_type": "markdown",
   "id": "cec2175a-a4a6-4443-89a4-c30147743c2e",
   "metadata": {},
   "source": [
    "## Data Loading & Preprocessing"
   ]
  },
  {
   "cell_type": "code",
   "execution_count": 9,
   "id": "25c45eb1-fe33-437d-bb7b-91c8b1a76a99",
   "metadata": {
    "execution": {
     "iopub.execute_input": "2025-06-29T19:56:23.012910Z",
     "iopub.status.busy": "2025-06-29T19:56:23.012625Z",
     "iopub.status.idle": "2025-06-29T19:56:41.275889Z",
     "shell.execute_reply": "2025-06-29T19:56:41.275100Z",
     "shell.execute_reply.started": "2025-06-29T19:56:23.012891Z"
    }
   },
   "outputs": [
    {
     "name": "stdout",
     "output_type": "stream",
     "text": [
      "20554.545012 MB\n",
      "(342, 167042)\n",
      "457.026912 MB\n"
     ]
    }
   ],
   "source": [
    "# ds = xr.open_dataset(\"/home/jovyan/spatiotemporal-mining-medsea/data/medsea.nc\")\n",
    "ds = xr.open_dataset(\"/kaggle/input/thermohaline-structure-of-the-medsea-01062m/medsea_monthly.nc\")\n",
    "print(ds.nbytes / 1e6, \"MB\")\n",
    "\n",
    "z_temp = helper_functions.preprocessing(ds, [\"thetao\", \"so\"], [50, 300, 1000], \"location\", -1)\n",
    "X = z_temp.values\n",
    "print(X.shape)\n",
    "input_dimension = X.shape[1]\n",
    "print(z_temp.nbytes / 1e6, \"MB\")"
   ]
  },
  {
   "cell_type": "markdown",
   "id": "11779e19-1403-4924-b480-f5457daaee2e",
   "metadata": {},
   "source": [
    "## Splitting"
   ]
  },
  {
   "cell_type": "code",
   "execution_count": 12,
   "id": "36cff7de-fbe6-4edb-9c94-5fead6c7a13a",
   "metadata": {
    "execution": {
     "iopub.execute_input": "2025-06-29T19:56:46.477170Z",
     "iopub.status.busy": "2025-06-29T19:56:46.476878Z",
     "iopub.status.idle": "2025-06-29T19:56:47.075537Z",
     "shell.execute_reply": "2025-06-29T19:56:47.074887Z",
     "shell.execute_reply.started": "2025-06-29T19:56:46.477150Z"
    }
   },
   "outputs": [],
   "source": [
    "X = X.astype(np.float32)\n",
    "X_train, X_test = train_test_split(X, test_size=0.1, random_state=27)\n",
    "\n",
    "train_loader = DataLoader(TensorDataset(torch.from_numpy(X_train)), batch_size=32, shuffle=True)\n",
    "test_loader = DataLoader(TensorDataset(torch.from_numpy(X_test)), batch_size=32, shuffle=False)"
   ]
  },
  {
   "cell_type": "markdown",
   "id": "4ed51ed5-9af0-42ad-a1a9-9d9b0b5edfe7",
   "metadata": {},
   "source": [
    "## The Architecture"
   ]
  },
  {
   "cell_type": "code",
   "execution_count": 13,
   "id": "f36e4d2d-af04-4464-9785-25de26a20151",
   "metadata": {
    "execution": {
     "iopub.execute_input": "2025-06-29T19:56:47.076774Z",
     "iopub.status.busy": "2025-06-29T19:56:47.076570Z",
     "iopub.status.idle": "2025-06-29T19:56:47.082436Z",
     "shell.execute_reply": "2025-06-29T19:56:47.081720Z",
     "shell.execute_reply.started": "2025-06-29T19:56:47.076758Z"
    }
   },
   "outputs": [],
   "source": [
    "import torch\n",
    "import torch.nn as nn\n",
    "\n",
    "class Autoencoder(nn.Module):\n",
    "    def __init__(self, input_dim, latent_dim):\n",
    "        super().__init__()\n",
    "\n",
    "        # Encoder\n",
    "        self.encoder = nn.Sequential(\n",
    "            nn.Linear(input_dim, 512),\n",
    "            nn.BatchNorm1d(512),\n",
    "            nn.Dropout(0.1),\n",
    "            nn.LeakyReLU(),\n",
    "\n",
    "            nn.Linear(512, 32),\n",
    "            nn.BatchNorm1d(32),\n",
    "            nn.Dropout(0.1),\n",
    "            nn.LeakyReLU(),\n",
    "\n",
    "            nn.Linear(32, latent_dim)\n",
    "        )\n",
    "\n",
    "        # Decoder\n",
    "        self.decoder = nn.Sequential(\n",
    "            nn.Linear(latent_dim, 32),\n",
    "            nn.BatchNorm1d(32),\n",
    "            nn.LeakyReLU(),\n",
    "\n",
    "            nn.Linear(32, 512),\n",
    "            nn.BatchNorm1d(512),\n",
    "            nn.LeakyReLU(),\n",
    "\n",
    "            nn.Linear(512, input_dim)\n",
    "        )\n",
    "\n",
    "    def forward(self, x):\n",
    "        z = self.encoder(x)\n",
    "        return self.decoder(z)\n"
   ]
  },
  {
   "cell_type": "markdown",
   "id": "3135c56e-a342-4273-a344-db6ccb56a33e",
   "metadata": {},
   "source": [
    "## Training Loop"
   ]
  },
  {
   "cell_type": "code",
   "execution_count": 42,
   "id": "c8b3e058-34ba-439d-aeda-aa0a21e6dd5e",
   "metadata": {
    "execution": {
     "iopub.execute_input": "2025-06-29T20:06:37.120113Z",
     "iopub.status.busy": "2025-06-29T20:06:37.119466Z",
     "iopub.status.idle": "2025-06-29T20:06:37.126698Z",
     "shell.execute_reply": "2025-06-29T20:06:37.125904Z",
     "shell.execute_reply.started": "2025-06-29T20:06:37.120090Z"
    }
   },
   "outputs": [],
   "source": [
    "def train(num_epochs: int):\n",
    "    torch.cuda.empty_cache()\n",
    "\n",
    "    train_losses = []\n",
    "    val_losses = []\n",
    "    for epoch in range(num_epochs):\n",
    "        model.train()\n",
    "        running_train_loss = 0.0\n",
    "        for batch in train_loader:\n",
    "            x = batch[0].to(device).float()\n",
    "                    \n",
    "            optimizer.zero_grad()\n",
    "            x_recon = model(x)\n",
    "            loss = loss_fn(x_recon, x)\n",
    "            loss.backward()\n",
    "            optimizer.step()\n",
    "            running_train_loss += loss.item() * x.size(0)\n",
    "    \n",
    "        train_loss = running_train_loss / len(train_loader.dataset)\n",
    "        train_losses.append(train_loss)\n",
    "    \n",
    "        # Validation\n",
    "        model.eval()\n",
    "        running_val_loss = 0.0\n",
    "        with torch.no_grad():\n",
    "            for batch in test_loader:\n",
    "                x = batch[0].to(device).float()\n",
    "                x_recon = model(x)\n",
    "                loss = loss_fn(x_recon, x)\n",
    "                running_val_loss += loss.item() * x.size(0)\n",
    "    \n",
    "        val_loss = running_val_loss / len(test_loader.dataset)\n",
    "        val_losses.append(val_loss)\n",
    "        if (epoch+1) % 10 == 0:\n",
    "            print(f\"Epoch {epoch+1}/{num_epochs} | Train Loss: {train_loss:.4f} | Val Loss: {val_loss:.4f}\")\n",
    "    return train_losses, val_losses"
   ]
  },
  {
   "cell_type": "markdown",
   "id": "f9f29428-7c81-4a80-a415-c051c92d86cd",
   "metadata": {},
   "source": [
    "## Setup"
   ]
  },
  {
   "cell_type": "code",
   "execution_count": 43,
   "id": "87c5c9d9-3fee-4276-892e-9456e006205c",
   "metadata": {
    "execution": {
     "iopub.execute_input": "2025-06-29T20:06:38.877588Z",
     "iopub.status.busy": "2025-06-29T20:06:38.876896Z",
     "iopub.status.idle": "2025-06-29T20:06:40.480918Z",
     "shell.execute_reply": "2025-06-29T20:06:40.480364Z",
     "shell.execute_reply.started": "2025-06-29T20:06:38.877564Z"
    }
   },
   "outputs": [
    {
     "name": "stdout",
     "output_type": "stream",
     "text": [
      "Training using device: cuda\n"
     ]
    },
    {
     "data": {
      "text/plain": [
       "==========================================================================================\n",
       "Layer (type:depth-idx)                   Output Shape              Param #\n",
       "==========================================================================================\n",
       "Autoencoder                              [1, 167042]               --\n",
       "├─Sequential: 1-1                        [1, 3]                    --\n",
       "│    └─Linear: 2-1                       [1, 512]                  85,526,016\n",
       "│    └─BatchNorm1d: 2-2                  [1, 512]                  1,024\n",
       "│    └─Dropout: 2-3                      [1, 512]                  --\n",
       "│    └─LeakyReLU: 2-4                    [1, 512]                  --\n",
       "│    └─Linear: 2-5                       [1, 32]                   16,416\n",
       "│    └─BatchNorm1d: 2-6                  [1, 32]                   64\n",
       "│    └─Dropout: 2-7                      [1, 32]                   --\n",
       "│    └─LeakyReLU: 2-8                    [1, 32]                   --\n",
       "│    └─Linear: 2-9                       [1, 3]                    99\n",
       "├─Sequential: 1-2                        [1, 167042]               --\n",
       "│    └─Linear: 2-10                      [1, 32]                   128\n",
       "│    └─BatchNorm1d: 2-11                 [1, 32]                   64\n",
       "│    └─LeakyReLU: 2-12                   [1, 32]                   --\n",
       "│    └─Linear: 2-13                      [1, 512]                  16,896\n",
       "│    └─BatchNorm1d: 2-14                 [1, 512]                  1,024\n",
       "│    └─LeakyReLU: 2-15                   [1, 512]                  --\n",
       "│    └─Linear: 2-16                      [1, 167042]               85,692,546\n",
       "==========================================================================================\n",
       "Total params: 171,254,277\n",
       "Trainable params: 171,254,277\n",
       "Non-trainable params: 0\n",
       "Total mult-adds (Units.MEGABYTES): 171.25\n",
       "==========================================================================================\n",
       "Input size (MB): 0.67\n",
       "Forward/backward pass size (MB): 1.35\n",
       "Params size (MB): 685.02\n",
       "Estimated Total Size (MB): 687.04\n",
       "=========================================================================================="
      ]
     },
     "execution_count": 43,
     "metadata": {},
     "output_type": "execute_result"
    }
   ],
   "source": [
    "model = Autoencoder(input_dim=input_dimension, latent_dim=3).to(device)\n",
    "model = model.float()\n",
    "device = torch.device(\"cuda\" if torch.cuda.is_available() else \"cpu\")\n",
    "print(f'Training using device: {device}')\n",
    "\n",
    "summary(model, input_size=(1, X.shape[1],))"
   ]
  },
  {
   "cell_type": "code",
   "execution_count": 44,
   "id": "8bbc9d90-e879-428d-acf5-a7198f501d94",
   "metadata": {
    "execution": {
     "iopub.execute_input": "2025-06-29T20:06:40.951689Z",
     "iopub.status.busy": "2025-06-29T20:06:40.951493Z",
     "iopub.status.idle": "2025-06-29T20:10:24.229165Z",
     "shell.execute_reply": "2025-06-29T20:10:24.228401Z",
     "shell.execute_reply.started": "2025-06-29T20:06:40.951675Z"
    }
   },
   "outputs": [
    {
     "name": "stdout",
     "output_type": "stream",
     "text": [
      "Epoch 10/300 | Train Loss: 0.6485 | Val Loss: 0.6840\n",
      "Epoch 20/300 | Train Loss: 0.5873 | Val Loss: 0.6499\n",
      "Epoch 30/300 | Train Loss: 0.5535 | Val Loss: 0.6196\n",
      "Epoch 40/300 | Train Loss: 0.5273 | Val Loss: 0.5934\n",
      "Epoch 50/300 | Train Loss: 0.5162 | Val Loss: 0.5808\n",
      "Epoch 60/300 | Train Loss: 0.4931 | Val Loss: 0.5609\n",
      "Epoch 70/300 | Train Loss: 0.4846 | Val Loss: 0.5523\n",
      "Epoch 80/300 | Train Loss: 0.4863 | Val Loss: 0.5408\n",
      "Epoch 90/300 | Train Loss: 0.4732 | Val Loss: 0.5350\n",
      "Epoch 100/300 | Train Loss: 0.4744 | Val Loss: 0.5279\n",
      "Epoch 110/300 | Train Loss: 0.4541 | Val Loss: 0.5255\n",
      "Epoch 120/300 | Train Loss: 0.4664 | Val Loss: 0.5218\n",
      "Epoch 130/300 | Train Loss: 0.4568 | Val Loss: 0.5172\n",
      "Epoch 140/300 | Train Loss: 0.4505 | Val Loss: 0.5163\n",
      "Epoch 150/300 | Train Loss: 0.4278 | Val Loss: 0.5067\n",
      "Epoch 160/300 | Train Loss: 0.4329 | Val Loss: 0.5017\n",
      "Epoch 170/300 | Train Loss: 0.4278 | Val Loss: 0.4992\n",
      "Epoch 180/300 | Train Loss: 0.4221 | Val Loss: 0.4952\n",
      "Epoch 190/300 | Train Loss: 0.4326 | Val Loss: 0.4924\n",
      "Epoch 200/300 | Train Loss: 0.4288 | Val Loss: 0.4887\n",
      "Epoch 210/300 | Train Loss: 0.4237 | Val Loss: 0.4849\n",
      "Epoch 220/300 | Train Loss: 0.4313 | Val Loss: 0.4849\n",
      "Epoch 230/300 | Train Loss: 0.4166 | Val Loss: 0.4841\n",
      "Epoch 240/300 | Train Loss: 0.4137 | Val Loss: 0.4774\n",
      "Epoch 250/300 | Train Loss: 0.4179 | Val Loss: 0.4784\n",
      "Epoch 260/300 | Train Loss: 0.4143 | Val Loss: 0.4790\n",
      "Epoch 270/300 | Train Loss: 0.3845 | Val Loss: 0.4714\n",
      "Epoch 280/300 | Train Loss: 0.3964 | Val Loss: 0.4705\n",
      "Epoch 290/300 | Train Loss: 0.4016 | Val Loss: 0.4704\n",
      "Epoch 300/300 | Train Loss: 0.3790 | Val Loss: 0.4701\n"
     ]
    }
   ],
   "source": [
    "optimizer = torch.optim.Adam(model.parameters(), lr=0.0001)\n",
    "loss_fn = nn.MSELoss()\n",
    "num_epochs = 300\n",
    "train_losses, val_losses = train(num_epochs)"
   ]
  },
  {
   "cell_type": "markdown",
   "id": "68549efe-8ccf-4412-a9e6-0868f92d4e68",
   "metadata": {},
   "source": [
    "## Evaluation"
   ]
  },
  {
   "cell_type": "code",
   "execution_count": 47,
   "id": "55eeb7ee-74d4-4189-bd3a-3e642670e591",
   "metadata": {
    "execution": {
     "iopub.execute_input": "2025-06-29T20:10:55.812124Z",
     "iopub.status.busy": "2025-06-29T20:10:55.811755Z",
     "iopub.status.idle": "2025-06-29T20:10:55.963707Z",
     "shell.execute_reply": "2025-06-29T20:10:55.963092Z",
     "shell.execute_reply.started": "2025-06-29T20:10:55.812093Z"
    }
   },
   "outputs": [
    {
     "data": {
      "image/png": "[encoded data removed]",
      "text/plain": [
       "<Figure size 600x300 with 1 Axes>"
      ]
     },
     "metadata": {},
     "output_type": "display_data"
    }
   ],
   "source": [
    "plt.figure(figsize=(6, 3))\n",
    "plt.plot(train_losses, label=\"Train Loss\", linewidth=2)\n",
    "plt.plot(val_losses, label=\"Validation Loss\", linewidth=2)\n",
    "plt.xlabel(\"Epoch\", fontsize=12)\n",
    "plt.ylabel(\"Loss (MSE)\", fontsize=12)\n",
    "plt.legend()\n",
    "plt.grid(True)\n",
    "plt.tight_layout()\n",
    "plt.show()"
   ]
  },
  {
   "cell_type": "code",
   "execution_count": 49,
   "id": "186d7737-8062-4d3e-9155-59f876b10fd1",
   "metadata": {
    "execution": {
     "iopub.execute_input": "2025-06-29T20:12:58.752462Z",
     "iopub.status.busy": "2025-06-29T20:12:58.752174Z",
     "iopub.status.idle": "2025-06-29T20:13:00.805770Z",
     "shell.execute_reply": "2025-06-29T20:13:00.804994Z",
     "shell.execute_reply.started": "2025-06-29T20:12:58.752442Z"
    }
   },
   "outputs": [],
   "source": [
    "torch.save(model.state_dict(), \"AE.pth\")"
   ]
  }
 ],
 "metadata": {
  "kaggle": {
   "accelerator": "nvidiaTeslaT4",
   "dataSources": [
    {
     "datasetId": 7749099,
     "sourceId": 12294777,
     "sourceType": "datasetVersion"
    },
    {
     "datasetId": 7749153,
     "sourceId": 12301699,
     "sourceType": "datasetVersion"
    }
   ],
   "dockerImageVersionId": 31041,
   "isGpuEnabled": true,
   "isInternetEnabled": true,
   "language": "python",
   "sourceType": "notebook"
  },
  "kernelspec": {
   "display_name": "Python 3 (ipykernel)",
   "language": "python",
   "name": "python3"
  },
  "language_info": {
   "codemirror_mode": {
    "name": "ipython",
    "version": 3
   },
   "file_extension": ".py",
   "mimetype": "text/x-python",
   "name": "python",
   "nbconvert_exporter": "python",
   "pygments_lexer": "ipython3",
   "version": "3.11.9"
  }
 },
 "nbformat": 4,
 "nbformat_minor": 5
}
