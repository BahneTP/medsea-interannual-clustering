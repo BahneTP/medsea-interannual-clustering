{
 "cells": [
  {
   "cell_type": "markdown",
   "id": "4951ac0e-4f7b-4c6d-87e8-fa212d1750a9",
   "metadata": {},
   "source": [
    "# Autoencoder\n",
    "This notebook makes use of the **Autoencoder**, which is used to reduce the dimensionality of our dataset in a non-linear way. Furthermore, we then apply **k-means Clustering** as in our last notebook in our new created **Latent Space** in lower dimension. We do so, to get rid of less important variables and achieve a better Clustering."
   ]
  },
  {
   "cell_type": "code",
   "execution_count": 1,
   "id": "4b2f90b1-6826-4a2b-896b-f0f59aa9999c",
   "metadata": {},
   "outputs": [],
   "source": [
    "!pip install -q -r ../../requirements.txt &> /dev/null"
   ]
  },
  {
   "cell_type": "code",
   "execution_count": 2,
   "id": "7e3c815e-a7d9-46d6-a45d-c64b8ed20a69",
   "metadata": {},
   "outputs": [
    {
     "data": {
      "text/plain": [
       "<module 'helper_functions' from '/home/jovyan/spatiotemporal-mining-medsea/information_filtering/no_trend_removement/models/../../helper_functions.py'>"
      ]
     },
     "execution_count": 2,
     "metadata": {},
     "output_type": "execute_result"
    }
   ],
   "source": [
    "import importlib\n",
    "from ipywidgets import FloatSlider\n",
    "import xarray as xr\n",
    "import matplotlib.pyplot as plt\n",
    "import cartopy.crs as ccrs\n",
    "import cartopy.feature as cfeature\n",
    "from ipywidgets import interact, IntSlider\n",
    "from sklearn.decomposition import PCA\n",
    "import numpy as np\n",
    "import pandas as pd\n",
    "import matplotlib.dates as mdates\n",
    "\n",
    "import torch\n",
    "import torch.nn as nn\n",
    "from torchinfo import summary\n",
    "from sklearn.model_selection import train_test_split\n",
    "from sklearn.metrics import mean_squared_error\n",
    "from torch.utils.data import DataLoader, TensorDataset\n",
    "\n",
    "import sys\n",
    "sys.path.append('../..')\n",
    "import helper_functions     # Own file.\n",
    "import importlib\n",
    "importlib.reload(helper_functions)"
   ]
  },
  {
   "cell_type": "markdown",
   "id": "cec2175a-a4a6-4443-89a4-c30147743c2e",
   "metadata": {},
   "source": [
    "## Data Loading & Preprocessing"
   ]
  },
  {
   "cell_type": "code",
   "execution_count": 3,
   "id": "25c45eb1-fe33-437d-bb7b-91c8b1a76a99",
   "metadata": {},
   "outputs": [
    {
     "name": "stdout",
     "output_type": "stream",
     "text": [
      "20554.545012 MB\n",
      "457.026912 MB\n"
     ]
    }
   ],
   "source": [
    "ds = xr.open_dataset(\"/home/jovyan/spatiotemporal-mining-medsea/data/medsea.nc\")\n",
    "# ds = xr.open_dataset(\"/kaggle/input/thermohaline-structure-of-the-medsea-01062m/medsea_monthly.nc\")\n",
    "print(ds.nbytes / 1e6, \"MB\")\n",
    "\n",
    "z_temp = helper_functions.preprocessing(ds, [\"thetao\", \"so\"], [50, 300, 1000], \"location\", False, 1)\n",
    "X = z_temp.values\n",
    "input_dimension = X.shape[1]\n",
    "\n",
    "print(z_temp.nbytes / 1e6, \"MB\")"
   ]
  },
  {
   "cell_type": "markdown",
   "id": "11779e19-1403-4924-b480-f5457daaee2e",
   "metadata": {},
   "source": [
    "## Splitting"
   ]
  },
  {
   "cell_type": "code",
   "execution_count": 4,
   "id": "36cff7de-fbe6-4edb-9c94-5fead6c7a13a",
   "metadata": {},
   "outputs": [],
   "source": [
    "X = X.astype(np.float32)\n",
    "X_train, X_test = train_test_split(X, test_size=0.2, random_state=27)\n",
    "\n",
    "train_loader = DataLoader(TensorDataset(torch.from_numpy(X_train)), batch_size=32, shuffle=True)\n",
    "test_loader = DataLoader(TensorDataset(torch.from_numpy(X_test)), batch_size=32, shuffle=False)"
   ]
  },
  {
   "cell_type": "markdown",
   "id": "4ed51ed5-9af0-42ad-a1a9-9d9b0b5edfe7",
   "metadata": {},
   "source": [
    "## The Architecture"
   ]
  },
  {
   "cell_type": "code",
   "execution_count": 5,
   "id": "f36e4d2d-af04-4464-9785-25de26a20151",
   "metadata": {},
   "outputs": [],
   "source": [
    "import torch\n",
    "import torch.nn as nn\n",
    "\n",
    "class Autoencoder(nn.Module):\n",
    "    def __init__(self, input_dim, latent_dim):\n",
    "        super().__init__()\n",
    "\n",
    "        # Encoder\n",
    "        self.encoder = nn.Sequential(\n",
    "            nn.Linear(input_dim, 512),\n",
    "            nn.BatchNorm1d(512),\n",
    "            nn.Dropout(0.1),\n",
    "            nn.LeakyReLU(),\n",
    "\n",
    "            nn.Linear(512, 32),\n",
    "            nn.BatchNorm1d(32),\n",
    "            nn.Dropout(0.1),\n",
    "            nn.LeakyReLU(),\n",
    "\n",
    "            nn.Linear(32, latent_dim)\n",
    "        )\n",
    "\n",
    "        # Decoder\n",
    "        self.decoder = nn.Sequential(\n",
    "            nn.Linear(latent_dim, 32),\n",
    "            nn.BatchNorm1d(32),\n",
    "            nn.LeakyReLU(),\n",
    "\n",
    "            nn.Linear(32, 512),\n",
    "            nn.BatchNorm1d(512),\n",
    "            nn.LeakyReLU(),\n",
    "\n",
    "            nn.Linear(512, input_dim)\n",
    "        )\n",
    "\n",
    "    def forward(self, x):\n",
    "        z = self.encoder(x)\n",
    "        return self.decoder(z)\n"
   ]
  },
  {
   "cell_type": "markdown",
   "id": "3135c56e-a342-4273-a344-db6ccb56a33e",
   "metadata": {},
   "source": [
    "## Training Loop"
   ]
  },
  {
   "cell_type": "code",
   "execution_count": 6,
   "id": "c8b3e058-34ba-439d-aeda-aa0a21e6dd5e",
   "metadata": {},
   "outputs": [],
   "source": [
    "def train(num_epochs: int):\n",
    "    torch.cuda.empty_cache()\n",
    "\n",
    "    train_losses = []\n",
    "    val_losses = []\n",
    "    for epoch in range(num_epochs):\n",
    "        model.train()\n",
    "        running_train_loss = 0.0\n",
    "        for batch in train_loader:\n",
    "            x = batch[0].to(device).float()\n",
    "                    \n",
    "            optimizer.zero_grad()\n",
    "            x_recon = model(x)\n",
    "            loss = loss_fn(x_recon, x)\n",
    "            loss.backward()\n",
    "            optimizer.step()\n",
    "            running_train_loss += loss.item() * x.size(0)\n",
    "    \n",
    "        train_loss = running_train_loss / len(train_loader.dataset)\n",
    "        train_losses.append(train_loss)\n",
    "    \n",
    "        # Validation\n",
    "        model.eval()\n",
    "        running_val_loss = 0.0\n",
    "        with torch.no_grad():\n",
    "            for batch in test_loader:\n",
    "                x = batch[0].to(device).float()\n",
    "                x_recon = model(x)\n",
    "                loss = loss_fn(x_recon, x)\n",
    "                running_val_loss += loss.item() * x.size(0)\n",
    "    \n",
    "        val_loss = running_val_loss / len(test_loader.dataset)\n",
    "        val_losses.append(val_loss)\n",
    "        if (epoch+1) % 10 == 0:\n",
    "            print(f\"Epoch {epoch+1}/{num_epochs} | Train Loss: {train_loss:.4f} | Val Loss: {val_loss:.4f}\")\n",
    "    return train_losses, val_losses"
   ]
  },
  {
   "cell_type": "markdown",
   "id": "f9f29428-7c81-4a80-a415-c051c92d86cd",
   "metadata": {},
   "source": [
    "## Setup"
   ]
  },
  {
   "cell_type": "code",
   "execution_count": 7,
   "id": "87c5c9d9-3fee-4276-892e-9456e006205c",
   "metadata": {},
   "outputs": [
    {
     "name": "stdout",
     "output_type": "stream",
     "text": [
      "Training using device: cuda\n"
     ]
    },
    {
     "data": {
      "text/plain": [
       "==========================================================================================\n",
       "Layer (type:depth-idx)                   Output Shape              Param #\n",
       "==========================================================================================\n",
       "Autoencoder                              [1, 167042]               --\n",
       "├─Sequential: 1-1                        [1, 3]                    --\n",
       "│    └─Linear: 2-1                       [1, 512]                  85,526,016\n",
       "│    └─BatchNorm1d: 2-2                  [1, 512]                  1,024\n",
       "│    └─Dropout: 2-3                      [1, 512]                  --\n",
       "│    └─LeakyReLU: 2-4                    [1, 512]                  --\n",
       "│    └─Linear: 2-5                       [1, 32]                   16,416\n",
       "│    └─BatchNorm1d: 2-6                  [1, 32]                   64\n",
       "│    └─Dropout: 2-7                      [1, 32]                   --\n",
       "│    └─LeakyReLU: 2-8                    [1, 32]                   --\n",
       "│    └─Linear: 2-9                       [1, 3]                    99\n",
       "├─Sequential: 1-2                        [1, 167042]               --\n",
       "│    └─Linear: 2-10                      [1, 32]                   128\n",
       "│    └─BatchNorm1d: 2-11                 [1, 32]                   64\n",
       "│    └─LeakyReLU: 2-12                   [1, 32]                   --\n",
       "│    └─Linear: 2-13                      [1, 512]                  16,896\n",
       "│    └─BatchNorm1d: 2-14                 [1, 512]                  1,024\n",
       "│    └─LeakyReLU: 2-15                   [1, 512]                  --\n",
       "│    └─Linear: 2-16                      [1, 167042]               85,692,546\n",
       "==========================================================================================\n",
       "Total params: 171,254,277\n",
       "Trainable params: 171,254,277\n",
       "Non-trainable params: 0\n",
       "Total mult-adds (Units.MEGABYTES): 171.25\n",
       "==========================================================================================\n",
       "Input size (MB): 0.67\n",
       "Forward/backward pass size (MB): 1.35\n",
       "Params size (MB): 685.02\n",
       "Estimated Total Size (MB): 687.04\n",
       "=========================================================================================="
      ]
     },
     "execution_count": 7,
     "metadata": {},
     "output_type": "execute_result"
    }
   ],
   "source": [
    "device = torch.device(\"cuda\" if torch.cuda.is_available() else \"cpu\")\n",
    "print(f'Training using device: {device}')\n",
    "\n",
    "model = Autoencoder(input_dim=input_dimension, latent_dim=3).to(device)\n",
    "model = model.float()\n",
    "\n",
    "summary(model, input_size=(1, X.shape[1],))"
   ]
  },
  {
   "cell_type": "code",
   "execution_count": 8,
   "id": "8bbc9d90-e879-428d-acf5-a7198f501d94",
   "metadata": {},
   "outputs": [
    {
     "name": "stdout",
     "output_type": "stream",
     "text": [
      "Epoch 10/600 | Train Loss: 0.7012 | Val Loss: 0.6644\n",
      "Epoch 20/600 | Train Loss: 0.6252 | Val Loss: 0.6063\n",
      "Epoch 30/600 | Train Loss: 0.5832 | Val Loss: 0.5768\n",
      "Epoch 40/600 | Train Loss: 0.5624 | Val Loss: 0.5602\n",
      "Epoch 50/600 | Train Loss: 0.5487 | Val Loss: 0.5487\n",
      "Epoch 60/600 | Train Loss: 0.5342 | Val Loss: 0.5403\n",
      "Epoch 70/600 | Train Loss: 0.5266 | Val Loss: 0.5303\n",
      "Epoch 80/600 | Train Loss: 0.5236 | Val Loss: 0.5241\n",
      "Epoch 90/600 | Train Loss: 0.5164 | Val Loss: 0.5170\n",
      "Epoch 100/600 | Train Loss: 0.4985 | Val Loss: 0.5128\n",
      "Epoch 110/600 | Train Loss: 0.4925 | Val Loss: 0.5074\n",
      "Epoch 120/600 | Train Loss: 0.4886 | Val Loss: 0.5039\n",
      "Epoch 130/600 | Train Loss: 0.4840 | Val Loss: 0.4972\n",
      "Epoch 140/600 | Train Loss: 0.4874 | Val Loss: 0.4920\n",
      "Epoch 150/600 | Train Loss: 0.4745 | Val Loss: 0.4892\n",
      "Epoch 160/600 | Train Loss: 0.4774 | Val Loss: 0.4868\n",
      "Epoch 170/600 | Train Loss: 0.4792 | Val Loss: 0.4814\n",
      "Epoch 180/600 | Train Loss: 0.4521 | Val Loss: 0.4783\n",
      "Epoch 190/600 | Train Loss: 0.4731 | Val Loss: 0.4754\n",
      "Epoch 200/600 | Train Loss: 0.4482 | Val Loss: 0.4721\n",
      "Epoch 210/600 | Train Loss: 0.4616 | Val Loss: 0.4708\n",
      "Epoch 220/600 | Train Loss: 0.4515 | Val Loss: 0.4648\n",
      "Epoch 230/600 | Train Loss: 0.4542 | Val Loss: 0.4623\n",
      "Epoch 240/600 | Train Loss: 0.4450 | Val Loss: 0.4581\n",
      "Epoch 250/600 | Train Loss: 0.4310 | Val Loss: 0.4557\n",
      "Epoch 260/600 | Train Loss: 0.4458 | Val Loss: 0.4556\n",
      "Epoch 270/600 | Train Loss: 0.4372 | Val Loss: 0.4528\n",
      "Epoch 280/600 | Train Loss: 0.4313 | Val Loss: 0.4496\n",
      "Epoch 290/600 | Train Loss: 0.4462 | Val Loss: 0.4476\n",
      "Epoch 300/600 | Train Loss: 0.4298 | Val Loss: 0.4478\n",
      "Epoch 310/600 | Train Loss: 0.4268 | Val Loss: 0.4451\n",
      "Epoch 320/600 | Train Loss: 0.4123 | Val Loss: 0.4426\n",
      "Epoch 330/600 | Train Loss: 0.4402 | Val Loss: 0.4414\n",
      "Epoch 340/600 | Train Loss: 0.4274 | Val Loss: 0.4387\n",
      "Epoch 350/600 | Train Loss: 0.4172 | Val Loss: 0.4371\n",
      "Epoch 360/600 | Train Loss: 0.4220 | Val Loss: 0.4363\n",
      "Epoch 370/600 | Train Loss: 0.4118 | Val Loss: 0.4331\n",
      "Epoch 380/600 | Train Loss: 0.4180 | Val Loss: 0.4328\n",
      "Epoch 390/600 | Train Loss: 0.4219 | Val Loss: 0.4316\n",
      "Epoch 400/600 | Train Loss: 0.4075 | Val Loss: 0.4281\n",
      "Epoch 410/600 | Train Loss: 0.4047 | Val Loss: 0.4263\n",
      "Epoch 420/600 | Train Loss: 0.4027 | Val Loss: 0.4254\n",
      "Epoch 430/600 | Train Loss: 0.4092 | Val Loss: 0.4256\n",
      "Epoch 440/600 | Train Loss: 0.4185 | Val Loss: 0.4229\n",
      "Epoch 450/600 | Train Loss: 0.3976 | Val Loss: 0.4222\n",
      "Epoch 460/600 | Train Loss: 0.4044 | Val Loss: 0.4203\n",
      "Epoch 470/600 | Train Loss: 0.4048 | Val Loss: 0.4205\n",
      "Epoch 480/600 | Train Loss: 0.4106 | Val Loss: 0.4192\n",
      "Epoch 490/600 | Train Loss: 0.4025 | Val Loss: 0.4185\n",
      "Epoch 500/600 | Train Loss: 0.3790 | Val Loss: 0.4148\n",
      "Epoch 510/600 | Train Loss: 0.4008 | Val Loss: 0.4145\n",
      "Epoch 520/600 | Train Loss: 0.4051 | Val Loss: 0.4125\n",
      "Epoch 530/600 | Train Loss: 0.3936 | Val Loss: 0.4115\n",
      "Epoch 540/600 | Train Loss: 0.3820 | Val Loss: 0.4103\n",
      "Epoch 550/600 | Train Loss: 0.4045 | Val Loss: 0.4090\n",
      "Epoch 560/600 | Train Loss: 0.3871 | Val Loss: 0.4096\n",
      "Epoch 570/600 | Train Loss: 0.3971 | Val Loss: 0.4072\n",
      "Epoch 580/600 | Train Loss: 0.3815 | Val Loss: 0.4062\n",
      "Epoch 590/600 | Train Loss: 0.3882 | Val Loss: 0.4056\n",
      "Epoch 600/600 | Train Loss: 0.3803 | Val Loss: 0.4046\n"
     ]
    }
   ],
   "source": [
    "optimizer = torch.optim.Adam(model.parameters(), lr=0.0001)\n",
    "loss_fn = nn.MSELoss()\n",
    "num_epochs = 600\n",
    "train_losses, val_losses = train(num_epochs)"
   ]
  },
  {
   "cell_type": "markdown",
   "id": "68549efe-8ccf-4412-a9e6-0868f92d4e68",
   "metadata": {},
   "source": [
    "## Evaluation"
   ]
  },
  {
   "cell_type": "code",
   "execution_count": 9,
   "id": "289cc85a-31d9-46eb-a03f-837aaf392807",
   "metadata": {},
   "outputs": [
    {
     "data": {
      "image/png": "[encoded data removed]",
      "text/plain": [
       "<Figure size 600x300 with 1 Axes>"
      ]
     },
     "metadata": {},
     "output_type": "display_data"
    }
   ],
   "source": [
    "helper_functions.plot_metrics([(train_losses, \"Train Loss\"), (val_losses, \"Validation Loss\")], \"Loss (MSE)\")"
   ]
  },
  {
   "cell_type": "code",
   "execution_count": 10,
   "id": "186d7737-8062-4d3e-9155-59f876b10fd1",
   "metadata": {},
   "outputs": [],
   "source": [
    "torch.save(model.state_dict(), \"AE.pth\")"
   ]
  }
 ],
 "metadata": {
  "kaggle": {
   "accelerator": "nvidiaTeslaT4",
   "dataSources": [
    {
     "datasetId": 7749099,
     "sourceId": 12294777,
     "sourceType": "datasetVersion"
    },
    {
     "datasetId": 7749153,
     "sourceId": 12301699,
     "sourceType": "datasetVersion"
    }
   ],
   "dockerImageVersionId": 31041,
   "isGpuEnabled": true,
   "isInternetEnabled": true,
   "language": "python",
   "sourceType": "notebook"
  },
  "kernelspec": {
   "display_name": "Python 3 (ipykernel)",
   "language": "python",
   "name": "python3"
  },
  "language_info": {
   "codemirror_mode": {
    "name": "ipython",
    "version": 3
   },
   "file_extension": ".py",
   "mimetype": "text/x-python",
   "name": "python",
   "nbconvert_exporter": "python",
   "pygments_lexer": "ipython3",
   "version": "3.11.9"
  }
 },
 "nbformat": 4,
 "nbformat_minor": 5
}
